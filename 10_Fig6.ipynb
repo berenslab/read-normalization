{
 "cells": [
  {
   "cell_type": "code",
   "execution_count": 1,
   "metadata": {},
   "outputs": [],
   "source": [
    "import numpy as np\n",
    "import matplotlib.pyplot as plt\n",
    "import matplotlib as mpl\n",
    "import seaborn as sns \n",
    "import warnings\n",
    "import pandas as pd\n",
    "import pickle\n",
    "import anndata  \n",
    "\n",
    "#import plotting constants\n",
    "from readcount_tools import compute_kde, simulate_readcounts\n",
    "from readcount_tools import PAPER_CONTEXT, PAGEWIDTH_IN, SMALL_SIZE,MEDIUM_SIZE,BIGGER_SIZE,LINEWIDTH,POINTSIZE_HIGHLIGHT,POINTSIZE,TICKLENGTH,LEGEND_FONTSIZE,SPINEWIDTH,LETTER_LOC_X,LETTER_LOC_Y"
   ]
  },
  {
   "cell_type": "code",
   "execution_count": 2,
   "metadata": {},
   "outputs": [],
   "source": [
    "mean_cutoff=5\n",
    "basepath_simulations = 'data/tasic/simulations/'"
   ]
  },
  {
   "cell_type": "markdown",
   "metadata": {},
   "source": [
    "### Load fit results for real data"
   ]
  },
  {
   "cell_type": "code",
   "execution_count": 3,
   "metadata": {},
   "outputs": [
    {
     "name": "stdout",
     "output_type": "stream",
     "text": [
      "L6 IT VISp Penk Col27a1 (1049, 11549)\n"
     ]
    }
   ],
   "source": [
    "filename = f'{basepath_simulations}ZINBfit_single_cluster_meanCutoff_{mean_cutoff}.h5ad'\n",
    "adata_single_cluster_fit_results= anndata.read_h5ad(filename)\n",
    "print(adata_single_cluster_fit_results.uns['clustername'],adata_single_cluster_fit_results.shape)"
   ]
  },
  {
   "cell_type": "markdown",
   "metadata": {
    "tags": []
   },
   "source": [
    "### Load fit results for simulations"
   ]
  },
  {
   "cell_type": "code",
   "execution_count": 4,
   "metadata": {},
   "outputs": [],
   "source": [
    "from glob import glob"
   ]
  },
  {
   "cell_type": "code",
   "execution_count": 5,
   "metadata": {},
   "outputs": [
    {
     "data": {
      "text/plain": [
       "array(['data/tasic/simulations/ZINBfit_simulation_0_meanCutoff_5.h5ad',\n",
       "       'data/tasic/simulations/ZINBfit_simulation_1_meanCutoff_5.h5ad',\n",
       "       'data/tasic/simulations/ZINBfit_simulation_2_meanCutoff_5.h5ad',\n",
       "       'data/tasic/simulations/ZINBfit_simulation_3_meanCutoff_5.h5ad'],\n",
       "      dtype='<U61')"
      ]
     },
     "execution_count": 5,
     "metadata": {},
     "output_type": "execute_result"
    }
   ],
   "source": [
    "#todo adjust to new naming\n",
    "paths_simulation_fit_results = np.sort(glob(f'{basepath_simulations}ZINBfit_simulation_*_meanCutoff_{mean_cutoff}.h5ad'))\n",
    "paths_simulation_fit_results"
   ]
  },
  {
   "cell_type": "code",
   "execution_count": 6,
   "metadata": {},
   "outputs": [],
   "source": [
    "ads_simulation_fits = []\n",
    "for path in paths_simulation_fit_results:\n",
    "    ads_simulation_fits.append(anndata.read_h5ad(path))"
   ]
  },
  {
   "cell_type": "code",
   "execution_count": 7,
   "metadata": {},
   "outputs": [
    {
     "data": {
      "text/plain": [
       "[2047196087, 2047196087, 2047196087, 2047196087]"
      ]
     },
     "execution_count": 7,
     "metadata": {},
     "output_type": "execute_result"
    }
   ],
   "source": [
    "#total UMIs in the simulations\n",
    "[np.sum(ads_simulation_fits[i].obs['ns_observed']) for i in range(len(ads_simulation_fits))]"
   ]
  },
  {
   "cell_type": "code",
   "execution_count": 8,
   "metadata": {},
   "outputs": [
    {
     "data": {
      "text/plain": [
       "[1, 319.0, 7179.0, 223.0]"
      ]
     },
     "execution_count": 8,
     "metadata": {},
     "output_type": "execute_result"
    }
   ],
   "source": [
    "#maximum copy numbers in the simulations\n",
    "[ad.uns['amplification_stats']['max'] for ad in ads_simulation_fits]"
   ]
  },
  {
   "cell_type": "markdown",
   "metadata": {
    "tags": []
   },
   "source": [
    "### Load simulations details"
   ]
  },
  {
   "cell_type": "code",
   "execution_count": 9,
   "metadata": {},
   "outputs": [],
   "source": [
    "with open(f'{basepath_simulations}zeta_params_list.pickle','rb') as f:\n",
    "    zeta_params_list = pickle.load(f)\n",
    "with open(f'{basepath_simulations}zeta_params_info_list.pickle','rb') as f:\n",
    "    zeta_params_info_list = pickle.load(f)\n",
    "\n",
    "# which zeta parameter set and which cluster to use in Fig 5 (upper row)\n",
    "paramset_id_single_genes = 2\n",
    "params_single_genes = zeta_params_list[paramset_id_single_genes]\n",
    "infos_single_genes = zeta_params_info_list[paramset_id_single_genes]"
   ]
  },
  {
   "cell_type": "code",
   "execution_count": 10,
   "metadata": {},
   "outputs": [
    {
     "data": {
      "text/plain": [
       "{'target_mean': 30,\n",
       " 'target_alpha': 50,\n",
       " 'target_ff': 20,\n",
       " 'obs_mean': 29.611,\n",
       " 'obs_ff': 20.07283371044544,\n",
       " 'obs_alpha': 49.68383371044544,\n",
       " 'color': 'tab:orange'}"
      ]
     },
     "execution_count": 10,
     "metadata": {},
     "output_type": "execute_result"
    }
   ],
   "source": [
    "infos_single_genes"
   ]
  },
  {
   "cell_type": "code",
   "execution_count": 11,
   "metadata": {},
   "outputs": [],
   "source": [
    "adata_single_cluster_fit_results.var.set_index('genes',inplace=True,drop=False)"
   ]
  },
  {
   "cell_type": "markdown",
   "metadata": {},
   "source": [
    "### Filter warnings and invalid fits"
   ]
  },
  {
   "cell_type": "code",
   "execution_count": 12,
   "metadata": {},
   "outputs": [],
   "source": [
    "def print_info(ad,ad_plot,errors_idx, invalid_idx, warnings_idx):\n",
    "\n",
    "    n_errors = sum(errors_idx)\n",
    "    n_invalid = sum(invalid_idx)\n",
    "    n_warnings = sum(warnings_idx)\n",
    "    \n",
    "    print(f'{ad.shape[1]} genes in {ad.uns[\"clustername\"]} cluster')\n",
    "    print(f'Ignoring {n_errors} genes with fitting errors.')\n",
    "    print(f'Ignoring additional {n_invalid} fits invalid with psi>1')\n",
    "    print(f'Ignoring additional {n_warnings} genes with fitting warnings.') \n",
    "    \n",
    "    print(f'{ad_plot.shape[1]} genes remain.')\n",
    "\n",
    "def separate_warnings(s):\n",
    "    s_split=s.replace('[','').replace(']','').replace(\"'\",\"\").split(',')\n",
    "    return s_split\n",
    "\n",
    "def find_overflow_only_warnings(ad):\n",
    "    \n",
    "    print('finding overflow warnings..')\n",
    "    warnings = ad.var['cought_warnings']\n",
    "    overflow_only = np.zeros(warnings.shape).astype(bool)\n",
    "    \n",
    "    for i_gene,s_long in enumerate(warnings.values):\n",
    "        s_split = separate_warnings(s_long)\n",
    "        is_overflow = np.zeros(len(s_split)).astype(bool)\n",
    "        \n",
    "        for i,s in enumerate(s_split):\n",
    "            if 'overflow' in s:\n",
    "                is_overflow[i] = True\n",
    "        \n",
    "\n",
    "        overflow_only[i_gene] = np.all(is_overflow)\n",
    "\n",
    "    ad.var['overflow_only_idx'] = overflow_only\n",
    "\n",
    "    \n",
    "def filter_warnings_errors_invalids(ad,allow_overflows=False,allow_warnings=True):\n",
    "    '''Filters `adata` object containing genewise ZINB fit info, and removes genes with certain fitting errors/-warnings.'''\n",
    "    \n",
    "    #filter errors\n",
    "    errors_idx = ad.var['cought_errors'] != ''\n",
    "    ad_filtered = ad[:,~errors_idx]\n",
    "    \n",
    "    #filter inflations > 1\n",
    "    invalid_idx = ~ad_filtered.var[\"valid_inflation_idx\"]\n",
    "    ad_filtered = ad_filtered[:,~invalid_idx]\n",
    "    \n",
    "    #don't filter warnings at all\n",
    "    if allow_warnings:\n",
    "        filtered_warnings_idx = np.zeros(ad_filtered.shape[1]).astype(bool)\n",
    "    #filter warnings\n",
    "    else:\n",
    "        all_warnings_idx = ad_filtered.var['cought_warnings']!='[]'\n",
    "        if allow_overflows: #allow overflow-only warnings \n",
    "            if not 'only_overflow_idx' in ad_filtered.var.keys():\n",
    "                find_overflow_only_warnings(ad_filtered)\n",
    "            overflow_only_idx = ad_filtered.var['overflow_only_idx']    \n",
    "            #filter all warning sets that are not only overflow warnings\n",
    "            filtered_warnings_idx = np.logical_and(all_warnings_idx,~overflow_only_idx)    \n",
    "        else:\n",
    "            #filter all warnings\n",
    "            filtered_warnings_idx = all_warnings_idx\n",
    "    ad_filtered = ad_filtered[:,~filtered_warnings_idx]\n",
    "        \n",
    "    print_info(ad,ad_filtered,errors_idx, invalid_idx, filtered_warnings_idx)\n",
    "    \n",
    "    return ad_filtered"
   ]
  },
  {
   "cell_type": "code",
   "execution_count": 13,
   "metadata": {},
   "outputs": [
    {
     "name": "stdout",
     "output_type": "stream",
     "text": [
      "finding overflow warnings..\n",
      "11549 genes in L6 IT VISp Penk Col27a1 cluster\n",
      "Ignoring 22 genes with fitting errors.\n",
      "Ignoring additional 2359 fits invalid with psi>1\n",
      "Ignoring additional 2064 genes with fitting warnings.\n",
      "7104 genes remain.\n"
     ]
    },
    {
     "name": "stderr",
     "output_type": "stream",
     "text": [
      "/tmp/ipykernel_37383/1405998313.py:35: ImplicitModificationWarning: Trying to modify attribute `.var` of view, initializing view as actual.\n",
      "  ad.var['overflow_only_idx'] = overflow_only\n"
     ]
    }
   ],
   "source": [
    "adata_single_cluster_filtered = filter_warnings_errors_invalids(adata_single_cluster_fit_results,allow_overflows=True,allow_warnings=False)"
   ]
  },
  {
   "cell_type": "code",
   "execution_count": 14,
   "metadata": {},
   "outputs": [
    {
     "data": {
      "text/plain": [
       "62"
      ]
     },
     "execution_count": 14,
     "metadata": {},
     "output_type": "execute_result"
    }
   ],
   "source": [
    "#number of simulated genes>5\n",
    "sum([np.sum(np.array((ad.X.mean(axis=0)>5))) for ad in ads_simulation_fits])"
   ]
  },
  {
   "cell_type": "code",
   "execution_count": 15,
   "metadata": {},
   "outputs": [
    {
     "name": "stdout",
     "output_type": "stream",
     "text": [
      "12 genes in simulated_readcounts_fig6_theta10_n100000_a1nan_a2nan_bnan_zmaxnan cluster\n",
      "Ignoring 0 genes with fitting errors.\n",
      "Ignoring additional 0 fits invalid with psi>1\n",
      "Ignoring additional 0 genes with fitting warnings.\n",
      "12 genes remain.\n",
      "16 genes in simulated_readcounts_fig6_theta10_n100000_a10.9600000000000001_a215.1_b91.0_zmax100000.0 cluster\n",
      "Ignoring 0 genes with fitting errors.\n",
      "Ignoring additional 1 fits invalid with psi>1\n",
      "Ignoring additional 0 genes with fitting warnings.\n",
      "15 genes remain.\n",
      "17 genes in simulated_readcounts_fig6_theta10_n100000_a10.36000000000000004_a25.1_b56.0_zmax100000.0 cluster\n",
      "Ignoring 0 genes with fitting errors.\n",
      "Ignoring additional 2 fits invalid with psi>1\n",
      "Ignoring additional 0 genes with fitting warnings.\n",
      "15 genes remain.\n",
      "17 genes in simulated_readcounts_fig6_theta10_n100000_a10.01_a217.6_b71.0_zmax100000.0 cluster\n",
      "Ignoring 0 genes with fitting errors.\n",
      "Ignoring additional 2 fits invalid with psi>1\n",
      "Ignoring additional 0 genes with fitting warnings.\n",
      "15 genes remain.\n"
     ]
    }
   ],
   "source": [
    "ads_simulation_fits=[filter_warnings_errors_invalids(ad) for ad in ads_simulation_fits]"
   ]
  },
  {
   "cell_type": "markdown",
   "metadata": {},
   "source": [
    "### Prepare plotting"
   ]
  },
  {
   "cell_type": "code",
   "execution_count": 16,
   "metadata": {},
   "outputs": [],
   "source": [
    "def clip_for_plotting(ad,low_limit = 10**-1, key='thetas_fit',seed=42):\n",
    "\n",
    "    clipped_idx = ad.var[key] < low_limit\n",
    "    clipped_ad_idx = ad.var.index[clipped_idx]\n",
    "    ad.var[f'{key}_clipped'] = ad.var[key]\n",
    "    ad.var[f'{key}_clipped_jitter'] = ad.var[key]\n",
    "\n",
    "    np.random.seed(seed)\n",
    "    jitter=np.random.normal(loc=low_limit*0.8,scale=low_limit/50,size=sum(clipped_idx))\n",
    "    ad.var.loc[clipped_ad_idx,f'{key}_clipped'] = low_limit\n",
    "    ad.var.loc[clipped_ad_idx,f'{key}_clipped_jitter'] = jitter\n",
    "\n",
    "    return jitter,clipped_idx\n",
    "\n",
    "def highlight_genes_with_clipping(ad,gene_names,ax,\n",
    "                                  xkey='gene_mean_withinCluster',ykey='thetas_fit',\n",
    "                                  low_lim=10**-1,low_lim_clip_factor=0.8):\n",
    "        \n",
    "        xs = ad.var.loc[gene_names][xkey]\n",
    "        ys_unclipped = ad.var.loc[gene_names][ykey]\n",
    "        \n",
    "        ys = []\n",
    "        for y in ys_unclipped:\n",
    "            if y>low_lim:\n",
    "                ys.append(y)\n",
    "            else:\n",
    "                ys.append(low_lim*low_lim_clip_factor)\n",
    "        ax.scatter(xs,ys,c='tab:red',s=POINTSIZE_HIGHLIGHT,zorder=10,rasterized=True)\n",
    "        \n",
    "        for i,gene_name in enumerate(gene_names):\n",
    "            ax.text(xs[i], ys[i]*1.05,gene_name,ha='center',fontsize=LEGEND_FONTSIZE)"
   ]
  },
  {
   "cell_type": "code",
   "execution_count": 17,
   "metadata": {},
   "outputs": [],
   "source": [
    "def get_single_gene_plot_adatas(ad,percentiles=[],names=[]):\n",
    "\n",
    "    ad_plot = ad[:,names].copy()\n",
    "    means_orig = ad.var.gene_mean_withinCluster.values\n",
    "    means_plot = ad_plot.var.gene_mean_withinCluster.values\n",
    "    ad_plot.var['percentiles']=[percentileofscore(means_orig,m) for m in means_plot]\n",
    "    return ad_plot"
   ]
  },
  {
   "cell_type": "code",
   "execution_count": 18,
   "metadata": {},
   "outputs": [],
   "source": [
    "def simulate_matched_zeta(ad_real,zeta_params, zeta_params_info,\n",
    "                          depth=100000,theta=10,scale_n_cells = 100):\n",
    "    '''\n",
    "    Runs zeta simulations for each gene in the provided `ad_real`, such that the simulated\n",
    "    gene has he same mean as the genes in the provided data, and `scale_n_cells` as many cells.\n",
    "    '''\n",
    "    \n",
    "\n",
    "    effective_z_mean = zeta_params_info['obs_mean']\n",
    "    target_readcount_means = ad_real.var['gene_mean_withinCluster']\n",
    "    target_molecule_means = target_readcount_means/effective_z_mean\n",
    "\n",
    "    n_cells = ad_real.shape[0]*scale_n_cells\n",
    "    ps = (target_molecule_means/depth).values\n",
    "\n",
    "    molsim_params = dict(n_cells=n_cells,ps_input=ps,depth=depth,theta_molecules=theta)\n",
    "    tag = 'tag'\n",
    "    print(zeta_params)\n",
    "    ad_sim,params_sim = simulate_readcounts(molsim_params=molsim_params,\n",
    "                                            zeta_params=zeta_params,tag=tag)\n",
    "\n",
    "    ad_sim.uns['plotting_color'] = zeta_params_info['color']\n",
    "    ad_sim.uns['scale_n_cells'] = scale_n_cells\n",
    "    ad_sim.var['percentiles'] = np.nan\n",
    "\n",
    "        \n",
    "    return ad_sim"
   ]
  },
  {
   "cell_type": "code",
   "execution_count": 19,
   "metadata": {},
   "outputs": [],
   "source": [
    "def single_gene_plot(ad,ad_sim,axes,n_bins=25,\n",
    "                     lineplot_kwargs=dict(linestyle='--',linewidth=LINEWIDTH),\n",
    "                     legend_loc='best',s_zero=POINTSIZE_HIGHLIGHT):\n",
    "   \n",
    "    \n",
    "    n_genes = ad.shape[1]\n",
    "      \n",
    "    for i_gene,ax in enumerate(axes):\n",
    "\n",
    "        gene_counts=ad.X[:,i_gene].A.flatten()\n",
    "        gene_counts_sim = ad_sim.X[:,i_gene].A.flatten()\n",
    "\n",
    "        #take max over sim&real data to create bins that work well for both\n",
    "        maxcount = max(np.concatenate((gene_counts,gene_counts_sim)))              \n",
    "        binwidth = max(1,np.round(maxcount / n_bins)) #binwidth must be 1 at least!\n",
    "        nonzero_bins = np.arange(start=1,stop=maxcount+1,step=binwidth)\n",
    "\n",
    "        plot_gene_histogram(counts=gene_counts,\n",
    "                                  ax=ax,\n",
    "                                  nonzero_bins=nonzero_bins,                                        \n",
    "                                  binwidth=binwidth,\n",
    "                                  color_nonzeros='lightgray')\n",
    "\n",
    "        plot_gene_histogram_as_line(counts=gene_counts_sim,\n",
    "                                   ax=ax,\n",
    "                                   nonzero_bins=nonzero_bins,\n",
    "                                   scale_n_cells = ad_sim.uns['scale_n_cells'],\n",
    "                                   color=ad_sim.uns['plotting_color'],\n",
    "                                   binwidth=binwidth,\n",
    "                                   plot_kwargs=dict(lineplot_kwargs,label='Broken zeta simulation'),\n",
    "                                   s_zero=s_zero)\n",
    "\n",
    "        ax.legend(loc=legend_loc)    \n",
    "        ax.set_title(f'{ad.var[\"genes\"][i_gene]}')\n",
    "        ax.set_xlabel('Read counts')\n",
    "                \n",
    "    sns.despine()"
   ]
  },
  {
   "cell_type": "code",
   "execution_count": 20,
   "metadata": {},
   "outputs": [],
   "source": [
    "def plot_gene_histogram(counts,ax,nonzero_bins,binwidth,color_nonzeros=None):\n",
    "\n",
    "    n_zeros, heights_nonzero_bins = compute_gene_histogram(counts,nonzero_bins,binwidth)\n",
    "    \n",
    "    label_nonzeros = f'Non-zero bins'\n",
    "    label_zeros = 'Zero-only bin'\n",
    "\n",
    "    ax.bar(x=nonzero_bins[:-1],height=heights_nonzero_bins,width=binwidth,\n",
    "           align='edge',color=color_nonzeros,label=label_nonzeros)\n",
    "    #plot extra zero bin\n",
    "    ax.bar(x=1,height=n_zeros,width=-binwidth,align='edge',color='tab:gray',\n",
    "           label=label_zeros) #x=1 because of negative width!\n",
    "    \n",
    "def compute_gene_histogram(counts,nonzero_bins,binwidth):\n",
    "    \n",
    "    n_zeros = sum(counts==0)\n",
    "    counts_per_nonzero_bin,_ = np.histogram(counts,bins=nonzero_bins)\n",
    "    \n",
    "    avg_counts_per_int_in_nonzero_bin = counts_per_nonzero_bin/binwidth\n",
    "    heights_nonzero_bins = avg_counts_per_int_in_nonzero_bin\n",
    "        \n",
    "    return n_zeros, heights_nonzero_bins\n",
    "\n",
    "def plot_gene_histogram_as_line(counts,ax,nonzero_bins,binwidth,\n",
    "                                scale_n_cells,color='k',plot_kwargs={},\n",
    "                                s_zero=POINTSIZE_HIGHLIGHT):\n",
    "    \n",
    "    n_zeros = sum(counts==0)\n",
    "    counts_per_nonzero_bin,_ = np.histogram(counts,bins=nonzero_bins)\n",
    "    \n",
    "    avg_counts_per_int_in_nonzero_bin = counts_per_nonzero_bin/binwidth\n",
    "    heights_nonzero_bins = avg_counts_per_int_in_nonzero_bin\n",
    "    plotting_bins = [1-binwidth] + list(nonzero_bins)\n",
    "    plotting_bin_widths = np.diff(plotting_bins)\n",
    "    plotting_bincenters = plotting_bins[:-1]+plotting_bin_widths/2\n",
    "    \n",
    "    x = plotting_bincenters\n",
    "    y = np.array([n_zeros] + list(heights_nonzero_bins))/scale_n_cells\n",
    "    \n",
    "    ax.plot(x[1:],y[1:],color=color,**plot_kwargs)\n",
    "    ax.plot(x[0],y[0],color=color,marker='.',linestyle='None', markersize=s_zero)"
   ]
  },
  {
   "cell_type": "markdown",
   "metadata": {},
   "source": [
    "### Figure 6"
   ]
  },
  {
   "cell_type": "code",
   "execution_count": 21,
   "metadata": {},
   "outputs": [
    {
     "name": "stdout",
     "output_type": "stream",
     "text": [
      "{'a1': 0.36000000000000004, 'a2': 5.1, 'breakpoint': 56.0, 'z_max': 100000.0, 'constant': False}\n",
      "removing 0 all-zero genes after simulation\n",
      "Broken Zeta amplification with {'a1': 0.36000000000000004, 'a2': 5.1, 'breakpoint': 56.0, 'z_max': 100000.0, 'constant': False}\n",
      "Effectively amplifying with Zs that have mean=30.2, median=25.0, var=637.0, FF=21.1, leading to alpha=51.3\n"
     ]
    },
    {
     "name": "stderr",
     "output_type": "stream",
     "text": [
      "/tmp/ipykernel_37383/4067560376.py:5: ImplicitModificationWarning: Trying to modify attribute `.var` of view, initializing view as actual.\n",
      "  ad.var[f'{key}_clipped'] = ad.var[key]\n",
      "/tmp/ipykernel_37383/553178152.py:173: UserWarning: Tight layout not applied. tight_layout cannot make axes width small enough to accommodate all axes decorations\n",
      "  plt.tight_layout()\n"
     ]
    },
    {
     "data": {
      "image/png": "[encoded data removed]",
      "text/plain": [
       "<Figure size 450x300 with 8 Axes>"
      ]
     },
     "metadata": {},
     "output_type": "display_data"
    }
   ],
   "source": [
    "example_genes = ['Acbd4','Snx30', 'Luzp1','Papola','Naa50','Srsf3']\n",
    "with mpl.rc_context(PAPER_CONTEXT):\n",
    "    \n",
    "    nrows = 4\n",
    "    ncols = 6\n",
    "    figheight_in = PAGEWIDTH_IN/ncols * nrows\n",
    "    nrows_grid = 8\n",
    "    ncols_grid = 12\n",
    "    fig = plt.figure(figsize=(PAGEWIDTH_IN,figheight_in))\n",
    "    axes = [plt.subplot2grid(shape=(nrows_grid,ncols_grid), loc=(0, col*2),          colspan=2,rowspan=2) for col in range(6)]\n",
    "    ax1 = plt.subplot2grid(shape=(nrows_grid,ncols_grid),   loc=(4, 1), colspan=5,rowspan=4)\n",
    "    ax2 = plt.subplot2grid(shape=(nrows_grid,ncols_grid),   loc=(4, 7), colspan=5, rowspan=4)\n",
    "\n",
    "    low_lim_theta = 10**-1\n",
    "    low_lim_psi = 10**-3\n",
    "    kde=True\n",
    "    n_bins=25\n",
    "    \n",
    "    \n",
    "    #make a separate adata object for the single genes to highlight\n",
    "    ad_single_genes = adata_single_cluster_filtered[:,example_genes].copy()\n",
    "    sort_idx = np.argsort(ad_single_genes.var.gene_mean_withinCluster)\n",
    "    ad_single_genes = ad_single_genes[:,sort_idx]\n",
    "    with warnings.catch_warnings():\n",
    "        warnings.filterwarnings(\"ignore\", category=FutureWarning)\n",
    "        ad_single_genes_simulated = simulate_matched_zeta(ad_single_genes,params_single_genes, infos_single_genes)\n",
    "    \n",
    "    #plot histogram panels for each highlighted gene\n",
    "    single_gene_plot(ad_single_genes,ad_single_genes_simulated,\n",
    "                     axes=axes, n_bins=n_bins,\n",
    "                     lineplot_kwargs=dict(linestyle='--',linewidth=LINEWIDTH))  \n",
    "    for i,ax in enumerate(axes):\n",
    "        if i==0:\n",
    "            ax.set_ylabel('Average number\\nof cells per bin')\n",
    "            ax.get_legend().remove()\n",
    "        elif i==1:\n",
    "            ax.legend(frameon=False,loc=(0,-0.75),ncol=3)\n",
    "        else:\n",
    "            ax.get_legend().remove()\n",
    "        sns.despine(ax=ax)\n",
    "        \n",
    "        \n",
    "        \n",
    "        \n",
    "    \n",
    "    key='theta'    \n",
    "    clip_for_plotting(adata_single_cluster_filtered,key=f'{key}s_fit',low_limit=low_lim_theta)\n",
    "    xdata = adata_single_cluster_filtered.var['gene_mean_withinCluster']\n",
    "    xmin=np.min(xdata)\n",
    "    xmax=np.max(xdata)\n",
    "    ax1.hlines(low_lim_theta,xmin,xmax,colors='tab:gray',linestyles=':',linewidths=LINEWIDTH)\n",
    "    ydata = adata_single_cluster_filtered.var[f'{key}s_fit_clipped_jitter']\n",
    "    if kde:\n",
    "        c = compute_kde(x=xdata,y=ydata, xscale='log',yscale='log')\n",
    "    else:\n",
    "        c = 'tab:gray'\n",
    "    ax1.scatter(xdata,ydata,s=POINTSIZE,linewidth=0,c=c,rasterized=True)    \n",
    "    ax1.set_xscale('log')\n",
    "    ax1.set_yscale('log')\n",
    "    \n",
    "    #lines\n",
    "    for i,ad in enumerate(ads_simulation_fits):\n",
    "        #setup legend \n",
    "        target_alpha=ad.uns[\"infos_zeta_param_set\"][\"target_alpha\"]\n",
    "        target_mean=ad.uns[\"infos_zeta_param_set\"][\"target_mean\"]\n",
    "        legend_label = fr'{target_mean}'\n",
    "        scale_str=str(target_alpha)\n",
    "        scale_str=f'{scale_str}, {(3-len(scale_str))*\"  \"}'\n",
    "        legend_label = f'{scale_str}{legend_label}'\n",
    "        \n",
    "        include_idx = ad.var.gene_mean_withinCluster <= xmax\n",
    "        ad_filtered = ad[:,include_idx].copy()\n",
    "        \n",
    "        clip_for_plotting(ad_filtered,key=f'{key}s_fit',low_limit=low_lim_theta)\n",
    "        ax1.plot(ad_filtered.var.gene_mean_withinCluster,\n",
    "                 ad_filtered.var.thetas_fit_clipped_jitter, \n",
    "                 linestyle='--',c=ad_filtered.uns['clustercolor'],lw=LINEWIDTH,\n",
    "                 label=legend_label)\n",
    "        \n",
    "    #highlight points\n",
    "    highlight_genes_with_clipping(adata_single_cluster_filtered,example_genes,ax1)\n",
    "\n",
    "    \n",
    "    \n",
    "    \n",
    "    \n",
    "    \n",
    "    \n",
    "    \n",
    "    key='inflation'\n",
    "    \n",
    "    clip_for_plotting(adata_single_cluster_filtered,key=f'{key}s_fit',low_limit=low_lim_psi)\n",
    "    xdata = adata_single_cluster_filtered.var['gene_mean_withinCluster']\n",
    "    xmin=np.min(xdata)\n",
    "    xmax=np.max(xdata)\n",
    "    ax2.hlines(low_lim_psi,xmin,xmax,colors='tab:gray',linestyles=':',linewidths=LINEWIDTH) \n",
    "    ydata = adata_single_cluster_filtered.var[f'{key}s_fit_clipped_jitter']\n",
    "    if kde:\n",
    "        c = compute_kde(x=xdata,y=ydata, xscale='log',yscale='log')\n",
    "    else:\n",
    "        c = 'tab:gray'\n",
    "    ax2.scatter(xdata,ydata,s=POINTSIZE,linewidth=0,c=c,rasterized=True)    \n",
    "    ax2.set_xscale('log')\n",
    "    ax2.set_yscale('log')\n",
    "    \n",
    "    #lines\n",
    "    for i,ad in enumerate(ads_simulation_fits):  \n",
    "        #setup legend\n",
    "        target_alpha=ad.uns[\"infos_zeta_param_set\"][\"target_alpha\"]\n",
    "        target_mean=ad.uns[\"infos_zeta_param_set\"][\"target_mean\"]\n",
    "        legend_label = fr'{target_mean}'\n",
    "        scale_str=str(target_alpha)\n",
    "        scale_str=f'{scale_str}, {(3-len(scale_str))*\"  \"}'\n",
    "        legend_label = f'{scale_str}{legend_label}'\n",
    "        \n",
    "        include_idx = ad.var.gene_mean_withinCluster <= xmax\n",
    "        ad_filtered = ad[:,include_idx].copy()\n",
    "        \n",
    "        clip_for_plotting(ad_filtered,key=f'{key}s_fit',low_limit=low_lim_psi)\n",
    "        ax2.plot(ad_filtered.var.gene_mean_withinCluster,\n",
    "                 ad_filtered.var.inflations_fit_clipped_jitter, \n",
    "                 linestyle='--',c=ad_filtered.uns['clustercolor'],lw=LINEWIDTH,\n",
    "                label=legend_label)\n",
    "\n",
    "        \n",
    "    #highlight points\n",
    "    highlight_genes_with_clipping(adata_single_cluster_filtered,example_genes,ax2,ykey='inflations_fit',low_lim=low_lim_psi)\n",
    "    \n",
    "    leg=ax1.legend(frameon=False,loc=(0.6,0.25),title=r'$\\alpha_Z$,     $E_Z$',fontsize=LEGEND_FONTSIZE,title_fontsize=LEGEND_FONTSIZE)\n",
    "    leg._legend_box.align = \"right\"\n",
    "    leg=ax2.legend(frameon=False,loc=(0.6,0.25),title=r'$\\alpha_Z$,     $E_Z$',fontsize=LEGEND_FONTSIZE,title_fontsize=LEGEND_FONTSIZE)\n",
    "    leg._legend_box.align = \"right\"\n",
    "    \n",
    "    sns.despine(ax=ax1)\n",
    "    sns.despine(ax=ax2)\n",
    "    ax1.minorticks_off()\n",
    "    ax2.minorticks_off()\n",
    "    \n",
    "    ax1.set_rasterization_zorder(0)\n",
    "    ax2.set_rasterization_zorder(0)\n",
    "    ax1.set_yticks(ticks=[10**-1,10**0,10**1],labels=[r'$<10^{-1}$',r'$10^0$',r'$10^1$'])\n",
    "    ax2.set_yticks(ticks=[10**-3,10**-2,10**-1,10**0],labels=[r'$<10^{-3}$',r'$10^{-2}$',r'$10^{-1}$',r'$10^{0}$'])\n",
    "    ax1.set_ylabel('Estimated ZINB\\n' fr'overdispersion $\\hat\\theta$')\n",
    "    ax1.set_xlabel('Mean expression')\n",
    "    ax2.set_ylabel('Estimated ZINB\\n' fr'zero-inflation $\\hat\\psi$',labelpad=-7)\n",
    "    ax2.set_xlabel('Mean expression')\n",
    "    \n",
    "    for i,(ax,xlim,ytick) in enumerate(zip(axes,\n",
    "                            [250,250,500,1000,1000,2000],\n",
    "                            [200,200, 20,   5,   5,   2])):\n",
    "        pad=xlim*0.08\n",
    "        ax.set_xlim(-pad,xlim+pad)\n",
    "        ax.set_xticks([0,xlim])\n",
    "        if i==0:\n",
    "            ax.set_yticks([0,ytick])\n",
    "        else:\n",
    "            ax.set_yticks([ytick])\n",
    "    \n",
    "    letters=['a','b','c','d','e','f',\n",
    "             'h','i']\n",
    "    x_corrections=[0,0,0, 0,0,0,\n",
    "                   0.065,0.065]\n",
    "    up_y=0.16\n",
    "    lo_y=0.05\n",
    "    y_corrections=[up_y,up_y,up_y, up_y,up_y,up_y,\n",
    "                   lo_y,lo_y]\n",
    "    for ax,letter,x_corr,y_corr in zip(axes+[ax1,ax2],letters,x_corrections,y_corrections):\n",
    "        ax.text(LETTER_LOC_X+x_corr,LETTER_LOC_Y+y_corr,letter,transform=ax.transAxes,fontweight='bold')\n",
    "        \n",
    "        for axis in ['bottom','left']:\n",
    "            ax.spines[axis].set_linewidth(SPINEWIDTH)\n",
    "            \n",
    "    plt.tight_layout()\n",
    "    fig.savefig('figures/main_tasic_vs_simulated_readcounts.pdf', dpi=300, format=None,bbox_inches='tight')"
   ]
  }
 ],
 "metadata": {
  "kernelspec": {
   "display_name": "Python 3 (ipykernel)",
   "language": "python",
   "name": "python3"
  },
  "language_info": {
   "codemirror_mode": {
    "name": "ipython",
    "version": 3
   },
   "file_extension": ".py",
   "mimetype": "text/x-python",
   "name": "python",
   "nbconvert_exporter": "python",
   "pygments_lexer": "ipython3",
   "version": "3.8.10"
  },
  "toc-showtags": false
 },
 "nbformat": 4,
 "nbformat_minor": 4
}
