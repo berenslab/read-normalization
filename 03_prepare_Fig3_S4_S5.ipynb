{
 "cells": [
  {
   "cell_type": "markdown",
   "metadata": {},
   "source": [
    "## Load Tasic data"
   ]
  },
  {
   "cell_type": "code",
   "execution_count": 1,
   "metadata": {},
   "outputs": [],
   "source": [
    "import numpy as np\n",
    "import pickle\n",
    "import scanpy as sc\n",
    "import anndata\n",
    "import openTSNE\n",
    "from openTSNE.initialization import rescale as rescale_pca\n",
    "from sklearn.decomposition import PCA\n",
    "sc.settings.verbosity = 2\n",
    "from tqdm import tqdm\n",
    "from readcount_tools import pearson_residuals_compound, get_tag"
   ]
  },
  {
   "cell_type": "markdown",
   "metadata": {
    "tags": []
   },
   "source": [
    "#### Quick load Tasic data"
   ]
  },
  {
   "cell_type": "code",
   "execution_count": 2,
   "metadata": {},
   "outputs": [
    {
     "name": "stderr",
     "output_type": "stream",
     "text": [
      "/usr/local/lib/python3.8/dist-packages/anndata/_core/anndata.py:121: ImplicitModificationWarning: Transforming to str index.\n",
      "  warnings.warn(\"Transforming to str index.\", ImplicitModificationWarning)\n",
      "/usr/local/lib/python3.8/dist-packages/anndata/_core/anndata.py:1830: UserWarning: Variable names are not unique. To make them unique, call `.var_names_make_unique`.\n",
      "  utils.warn_names_duplicates(\"var\")\n"
     ]
    }
   ],
   "source": [
    "basepath = 'data/tasic/'\n",
    "adata = anndata.read_h5ad(f'{basepath}adata.h5ad')"
   ]
  },
  {
   "cell_type": "code",
   "execution_count": 3,
   "metadata": {},
   "outputs": [
    {
     "name": "stdout",
     "output_type": "stream",
     "text": [
      "(23822, 42776)\n"
     ]
    },
    {
     "name": "stderr",
     "output_type": "stream",
     "text": [
      "tcmalloc: large alloc 1729986560 bytes == 0xb081e000 @ \n"
     ]
    },
    {
     "name": "stdout",
     "output_type": "stream",
     "text": [
      "filtered out 4266 genes that are detected in less than 5 cells\n",
      "(23822, 38510)\n"
     ]
    },
    {
     "name": "stderr",
     "output_type": "stream",
     "text": [
      "/usr/local/lib/python3.8/dist-packages/anndata/_core/anndata.py:1830: UserWarning: Variable names are not unique. To make them unique, call `.var_names_make_unique`.\n",
      "  utils.warn_names_duplicates(\"var\")\n"
     ]
    }
   ],
   "source": [
    "print(adata.shape)\n",
    "sc.pp.filter_genes(adata,min_cells=5)\n",
    "print(adata.shape)"
   ]
  },
  {
   "cell_type": "markdown",
   "metadata": {},
   "source": [
    "### Compound Pearson residuals"
   ]
  },
  {
   "cell_type": "code",
   "execution_count": 4,
   "metadata": {},
   "outputs": [],
   "source": [
    "def compute_residuals(adata,alpha,theta,clipping=True,tag_suffix=''):\n",
    "    infostr = get_tag(alpha,theta,clipping) + tag_suffix\n",
    "    print(infostr)\n",
    "    adata.layers[infostr] = pearson_residuals_compound(counts=adata.X.toarray(),theta=theta,alpha=alpha,clipping=clipping)\n",
    "    adata.var[infostr+'_var'] = np.var(adata.layers[infostr],axis=0)"
   ]
  },
  {
   "cell_type": "code",
   "execution_count": 5,
   "metadata": {},
   "outputs": [
    {
     "name": "stderr",
     "output_type": "stream",
     "text": [
      "  0%|          | 0/5 [00:00<?, ?it/s]tcmalloc: large alloc 3669549056 bytes == 0x13e7be000 @ \n"
     ]
    },
    {
     "name": "stdout",
     "output_type": "stream",
     "text": [
      "pr_theta100_alpha1.0\n"
     ]
    },
    {
     "name": "stderr",
     "output_type": "stream",
     "text": [
      "tcmalloc: large alloc 3669549056 bytes == 0x22aa72000 @ \n",
      "tcmalloc: large alloc 3669549056 bytes == 0x305600000 @ \n",
      "tcmalloc: large alloc 3669549056 bytes == 0x3e098e000 @ \n",
      "tcmalloc: large alloc 3669549056 bytes == 0x4bb51c000 @ \n",
      "tcmalloc: large alloc 3669549056 bytes == 0x4bb51c000 @ \n",
      "tcmalloc: large alloc 3669549056 bytes == 0x13e7be000 @ \n",
      " 20%|██        | 1/5 [00:20<01:23, 20.93s/it]tcmalloc: large alloc 3669549056 bytes == 0x13e7be000 @ \n"
     ]
    },
    {
     "name": "stdout",
     "output_type": "stream",
     "text": [
      "pr_theta100_alpha10.0\n"
     ]
    },
    {
     "name": "stderr",
     "output_type": "stream",
     "text": [
      "tcmalloc: large alloc 3669549056 bytes == 0x22aa72000 @ \n",
      "tcmalloc: large alloc 3669549056 bytes == 0x3e098e000 @ \n",
      " 40%|████      | 2/5 [00:37<00:54, 18.15s/it]"
     ]
    },
    {
     "name": "stdout",
     "output_type": "stream",
     "text": [
      "pr_theta100_alpha100.0\n"
     ]
    },
    {
     "name": "stderr",
     "output_type": "stream",
     "text": [
      " 60%|██████    | 3/5 [00:54<00:35, 17.77s/it]"
     ]
    },
    {
     "name": "stdout",
     "output_type": "stream",
     "text": [
      "pr_theta100_alpha1000.0\n"
     ]
    },
    {
     "name": "stderr",
     "output_type": "stream",
     "text": [
      " 80%|████████  | 4/5 [01:11<00:17, 17.46s/it]"
     ]
    },
    {
     "name": "stdout",
     "output_type": "stream",
     "text": [
      "pr_theta100_alpha50.0\n"
     ]
    },
    {
     "name": "stderr",
     "output_type": "stream",
     "text": [
      "100%|██████████| 5/5 [01:28<00:00, 17.61s/it]\n"
     ]
    },
    {
     "data": {
      "text/plain": [
       "[None, None, None, None, None]"
      ]
     },
     "execution_count": 5,
     "metadata": {},
     "output_type": "execute_result"
    }
   ],
   "source": [
    "alphas = np.append(np.logspace(0,3,num=4),50)\n",
    "[compute_residuals(adata,alpha=alpha,theta=100) for alpha in tqdm(alphas)]"
   ]
  },
  {
   "cell_type": "code",
   "execution_count": 6,
   "metadata": {},
   "outputs": [],
   "source": [
    "#recompute means because we did some subsetting\n",
    "adata.var['gene_mean'] = np.array(np.mean(adata.X,axis=0)).flatten()"
   ]
  },
  {
   "cell_type": "code",
   "execution_count": 7,
   "metadata": {},
   "outputs": [],
   "source": [
    "def select_hvgs(adata,alpha,theta,n_hvgs=3000,clipping=True):\n",
    "    \n",
    "    resvar = adata.var[get_tag(alpha=alpha,theta=theta,clipping=clipping)+'_var']    \n",
    "    hvg_idx = resvar >= np.sort(resvar)[-n_hvgs]\n",
    "    adata.var['top%u_%s'%(n_hvgs,get_tag(alpha=alpha,theta=theta,clipping=clipping))] = hvg_idx"
   ]
  },
  {
   "cell_type": "code",
   "execution_count": 8,
   "metadata": {
    "tags": []
   },
   "outputs": [
    {
     "name": "stderr",
     "output_type": "stream",
     "text": [
      "100%|██████████| 5/5 [00:00<00:00, 308.73it/s]\n"
     ]
    },
    {
     "data": {
      "text/plain": [
       "[None, None, None, None, None]"
      ]
     },
     "execution_count": 8,
     "metadata": {},
     "output_type": "execute_result"
    }
   ],
   "source": [
    "[select_hvgs(adata,alpha=alpha,theta=100,n_hvgs=3000,clipping=True) for alpha in tqdm(alphas)]"
   ]
  },
  {
   "cell_type": "markdown",
   "metadata": {},
   "source": [
    "### Run PCA with 1000 PCs for all alphas"
   ]
  },
  {
   "cell_type": "code",
   "execution_count": 9,
   "metadata": {},
   "outputs": [
    {
     "data": {
      "text/plain": [
       "Layers with keys: pr_theta100_alpha1.0, pr_theta100_alpha10.0, pr_theta100_alpha100.0, pr_theta100_alpha1000.0, pr_theta100_alpha50.0"
      ]
     },
     "execution_count": 9,
     "metadata": {},
     "output_type": "execute_result"
    }
   ],
   "source": [
    "adata.layers"
   ]
  },
  {
   "cell_type": "code",
   "execution_count": 10,
   "metadata": {
    "tags": []
   },
   "outputs": [
    {
     "name": "stderr",
     "output_type": "stream",
     "text": [
      "  0%|          | 0/5 [00:00<?, ?it/s]/usr/local/lib/python3.8/dist-packages/anndata/_core/anndata.py:1830: UserWarning: Variable names are not unique. To make them unique, call `.var_names_make_unique`.\n",
      "  utils.warn_names_duplicates(\"var\")\n"
     ]
    },
    {
     "name": "stdout",
     "output_type": "stream",
     "text": [
      "pr_theta100_alpha1.0_afterHVG\n",
      "pr_theta100_alpha1.0_afterHVG\n"
     ]
    },
    {
     "name": "stderr",
     "output_type": "stream",
     "text": [
      " 20%|██        | 1/5 [00:20<01:23, 20.90s/it]"
     ]
    },
    {
     "name": "stdout",
     "output_type": "stream",
     "text": [
      "pr_theta100_alpha10.0_afterHVG\n",
      "pr_theta100_alpha10.0_afterHVG\n"
     ]
    },
    {
     "name": "stderr",
     "output_type": "stream",
     "text": [
      " 40%|████      | 2/5 [00:41<01:02, 20.71s/it]"
     ]
    },
    {
     "name": "stdout",
     "output_type": "stream",
     "text": [
      "pr_theta100_alpha100.0_afterHVG\n",
      "pr_theta100_alpha100.0_afterHVG\n"
     ]
    },
    {
     "name": "stderr",
     "output_type": "stream",
     "text": [
      " 60%|██████    | 3/5 [01:03<00:42, 21.08s/it]/usr/local/lib/python3.8/dist-packages/anndata/_core/anndata.py:1830: UserWarning: Variable names are not unique. To make them unique, call `.var_names_make_unique`.\n",
      "  utils.warn_names_duplicates(\"var\")\n"
     ]
    },
    {
     "name": "stdout",
     "output_type": "stream",
     "text": [
      "pr_theta100_alpha1000.0_afterHVG\n",
      "pr_theta100_alpha1000.0_afterHVG\n"
     ]
    },
    {
     "name": "stderr",
     "output_type": "stream",
     "text": [
      " 80%|████████  | 4/5 [01:24<00:21, 21.26s/it]"
     ]
    },
    {
     "name": "stdout",
     "output_type": "stream",
     "text": [
      "pr_theta100_alpha50.0_afterHVG\n",
      "pr_theta100_alpha50.0_afterHVG\n",
      "running control exp on pr_theta100_alpha50.0\n"
     ]
    },
    {
     "name": "stderr",
     "output_type": "stream",
     "text": [
      "100%|██████████| 5/5 [01:57<00:00, 23.51s/it]\n"
     ]
    }
   ],
   "source": [
    "ads_hvg = []\n",
    "theta=100\n",
    "ncomp=1000\n",
    "\n",
    "for alpha in tqdm(alphas):\n",
    "    \n",
    "    tag = get_tag(alpha=alpha, theta=100,clipping=True)\n",
    "    \n",
    "    #subset to HVGs\n",
    "    ad = adata[:,adata.var[f'top3000_{tag}']].copy()\n",
    "    ad.uns['alpha'] = alpha\n",
    "    \n",
    "    #recompute residuals\n",
    "    tag_suffix='_afterHVG'\n",
    "    full_tag = tag + tag_suffix\n",
    "    print(full_tag)\n",
    "    compute_residuals(ad,theta=theta,alpha=alpha,tag_suffix=tag_suffix)\n",
    "    \n",
    "    #compute PCA\n",
    "    pca = PCA(random_state=42)\n",
    "    ad.obsm['pca'] = rescale_pca(pca.fit_transform(ad.layers[full_tag]))\n",
    "    ad.obsm[f'pca{ncomp}'] = ad.obsm['pca'][:,:ncomp]\n",
    "    \n",
    "    #if alpha = 50, also compute PCA without recomputing residuals (control experiment)\n",
    "    if alpha==50:\n",
    "        print('running control exp on', tag)\n",
    "        pca = PCA(random_state=42)\n",
    "        ad.obsm['pca_control'] = rescale_pca(pca.fit_transform(ad.layers[tag]))\n",
    "        ad.obsm[f'pca{ncomp}_control'] = ad.obsm['pca_control'][:,:ncomp]\n",
    "    \n",
    "    ads_hvg.append(ad)"
   ]
  },
  {
   "cell_type": "markdown",
   "metadata": {},
   "source": [
    "### set first two PCs as shared init for suppl. figure"
   ]
  },
  {
   "cell_type": "code",
   "execution_count": 11,
   "metadata": {
    "tags": []
   },
   "outputs": [],
   "source": [
    "#define joint PCA init for suppl figure\n",
    "init_alpha = 10\n",
    "for ad in ads_hvg:\n",
    "    if ad.uns['alpha']==init_alpha:\n",
    "        #use first 2 PCs to initialize the init\n",
    "        pca_init = ad.obsm['pca'][:,:2]\n",
    "        adata.obsm['pca_shared_init'] = pca_init"
   ]
  },
  {
   "cell_type": "markdown",
   "metadata": {},
   "source": [
    "### compute tSNEs\n",
    "Suppl figure tSNEs with shared PCA init, main figure tSNE with default init"
   ]
  },
  {
   "cell_type": "code",
   "execution_count": 12,
   "metadata": {
    "tags": []
   },
   "outputs": [
    {
     "name": "stderr",
     "output_type": "stream",
     "text": [
      "  0%|          | 0/5 [00:00<?, ?it/s]"
     ]
    },
    {
     "name": "stdout",
     "output_type": "stream",
     "text": [
      "--------------------------------------------------------------------------------\n",
      "TSNE(n_jobs=38, random_state=42, verbose=True)\n",
      "--------------------------------------------------------------------------------\n",
      "===> Finding 90 nearest neighbors using Annoy approximate search using euclidean distance...\n",
      "   --> Time elapsed: 7.34 seconds\n",
      "===> Calculating affinity matrix...\n",
      "   --> Time elapsed: 0.28 seconds\n",
      "===> Running optimization with exaggeration=12.00, lr=1985.17 for 250 iterations...\n",
      "Iteration   50, KL divergence 5.9971, 50 iterations in 1.6028 sec\n",
      "Iteration  100, KL divergence 4.6969, 50 iterations in 1.6963 sec\n",
      "Iteration  150, KL divergence 4.4263, 50 iterations in 2.3782 sec\n",
      "Iteration  200, KL divergence 4.2650, 50 iterations in 2.4978 sec\n",
      "Iteration  250, KL divergence 4.1859, 50 iterations in 2.4451 sec\n",
      "   --> Time elapsed: 10.62 seconds\n",
      "===> Running optimization with exaggeration=1.00, lr=1985.17 for 500 iterations...\n",
      "Iteration   50, KL divergence 3.0453, 50 iterations in 2.1287 sec\n",
      "Iteration  100, KL divergence 2.6213, 50 iterations in 2.1608 sec\n",
      "Iteration  150, KL divergence 2.4315, 50 iterations in 2.6608 sec\n",
      "Iteration  200, KL divergence 2.3261, 50 iterations in 3.5881 sec\n",
      "Iteration  250, KL divergence 2.2603, 50 iterations in 4.0187 sec\n",
      "Iteration  300, KL divergence 2.2159, 50 iterations in 4.9849 sec\n",
      "Iteration  350, KL divergence 2.1853, 50 iterations in 6.5094 sec\n",
      "Iteration  400, KL divergence 2.1642, 50 iterations in 6.9770 sec\n",
      "Iteration  450, KL divergence 2.1485, 50 iterations in 8.0114 sec\n"
     ]
    },
    {
     "name": "stderr",
     "output_type": "stream",
     "text": [
      " 20%|██        | 1/5 [01:19<05:19, 79.94s/it]"
     ]
    },
    {
     "name": "stdout",
     "output_type": "stream",
     "text": [
      "Iteration  500, KL divergence 2.1353, 50 iterations in 8.3937 sec\n",
      "   --> Time elapsed: 49.44 seconds\n",
      "--------------------------------------------------------------------------------\n",
      "TSNE(n_jobs=38, random_state=42, verbose=True)\n",
      "--------------------------------------------------------------------------------\n",
      "===> Finding 90 nearest neighbors using Annoy approximate search using euclidean distance...\n",
      "   --> Time elapsed: 7.53 seconds\n",
      "===> Calculating affinity matrix...\n",
      "   --> Time elapsed: 0.34 seconds\n",
      "===> Running optimization with exaggeration=12.00, lr=1985.17 for 250 iterations...\n",
      "Iteration   50, KL divergence 5.5512, 50 iterations in 2.1618 sec\n",
      "Iteration  100, KL divergence 4.4510, 50 iterations in 2.0197 sec\n",
      "Iteration  150, KL divergence 4.1906, 50 iterations in 1.7325 sec\n",
      "Iteration  200, KL divergence 4.0650, 50 iterations in 1.7479 sec\n",
      "Iteration  250, KL divergence 3.9927, 50 iterations in 1.7246 sec\n",
      "   --> Time elapsed: 9.39 seconds\n",
      "===> Running optimization with exaggeration=1.00, lr=1985.17 for 500 iterations...\n",
      "Iteration   50, KL divergence 2.9647, 50 iterations in 1.8333 sec\n",
      "Iteration  100, KL divergence 2.5013, 50 iterations in 1.6393 sec\n",
      "Iteration  150, KL divergence 2.2674, 50 iterations in 2.2911 sec\n",
      "Iteration  200, KL divergence 2.1277, 50 iterations in 3.4624 sec\n",
      "Iteration  250, KL divergence 2.0371, 50 iterations in 4.7114 sec\n",
      "Iteration  300, KL divergence 1.9755, 50 iterations in 5.6405 sec\n",
      "Iteration  350, KL divergence 1.9326, 50 iterations in 7.1016 sec\n",
      "Iteration  400, KL divergence 1.8989, 50 iterations in 8.1878 sec\n",
      "Iteration  450, KL divergence 1.8758, 50 iterations in 8.6339 sec\n",
      "Iteration  500, KL divergence 1.8577, 50 iterations in 11.7989 sec\n",
      "   --> Time elapsed: 55.30 seconds\n"
     ]
    },
    {
     "name": "stderr",
     "output_type": "stream",
     "text": [
      " 40%|████      | 2/5 [02:32<03:47, 75.76s/it]"
     ]
    },
    {
     "name": "stdout",
     "output_type": "stream",
     "text": [
      "--------------------------------------------------------------------------------\n",
      "TSNE(n_jobs=38, random_state=42, verbose=True)\n",
      "--------------------------------------------------------------------------------\n",
      "===> Finding 90 nearest neighbors using Annoy approximate search using euclidean distance...\n",
      "   --> Time elapsed: 8.61 seconds\n",
      "===> Calculating affinity matrix...\n",
      "   --> Time elapsed: 0.32 seconds\n",
      "===> Running optimization with exaggeration=12.00, lr=1985.17 for 250 iterations...\n",
      "Iteration   50, KL divergence 5.5577, 50 iterations in 1.8682 sec\n",
      "Iteration  100, KL divergence 4.4898, 50 iterations in 1.6879 sec\n",
      "Iteration  150, KL divergence 4.2380, 50 iterations in 1.5092 sec\n",
      "Iteration  200, KL divergence 4.1201, 50 iterations in 1.6008 sec\n",
      "Iteration  250, KL divergence 4.0503, 50 iterations in 1.5458 sec\n",
      "   --> Time elapsed: 8.21 seconds\n",
      "===> Running optimization with exaggeration=1.00, lr=1985.17 for 500 iterations...\n",
      "Iteration   50, KL divergence 3.0064, 50 iterations in 1.4554 sec\n",
      "Iteration  100, KL divergence 2.5189, 50 iterations in 1.4833 sec\n",
      "Iteration  150, KL divergence 2.2698, 50 iterations in 2.5178 sec\n",
      "Iteration  200, KL divergence 2.1207, 50 iterations in 3.2165 sec\n",
      "Iteration  250, KL divergence 2.0227, 50 iterations in 5.0045 sec\n",
      "Iteration  300, KL divergence 1.9557, 50 iterations in 6.3558 sec\n",
      "Iteration  350, KL divergence 1.9073, 50 iterations in 7.2835 sec\n",
      "Iteration  400, KL divergence 1.8710, 50 iterations in 6.9939 sec\n",
      "Iteration  450, KL divergence 1.8438, 50 iterations in 8.2935 sec\n",
      "Iteration  500, KL divergence 1.8211, 50 iterations in 10.6561 sec\n",
      "   --> Time elapsed: 53.27 seconds\n"
     ]
    },
    {
     "name": "stderr",
     "output_type": "stream",
     "text": [
      " 60%|██████    | 3/5 [03:43<02:26, 73.45s/it]"
     ]
    },
    {
     "name": "stdout",
     "output_type": "stream",
     "text": [
      "--------------------------------------------------------------------------------\n",
      "TSNE(n_jobs=38, random_state=42, verbose=True)\n",
      "--------------------------------------------------------------------------------\n",
      "===> Finding 90 nearest neighbors using Annoy approximate search using euclidean distance...\n",
      "   --> Time elapsed: 7.12 seconds\n",
      "===> Calculating affinity matrix...\n",
      "   --> Time elapsed: 0.27 seconds\n",
      "===> Running optimization with exaggeration=12.00, lr=1985.17 for 250 iterations...\n",
      "Iteration   50, KL divergence 5.7264, 50 iterations in 1.4526 sec\n",
      "Iteration  100, KL divergence 4.5457, 50 iterations in 1.4477 sec\n",
      "Iteration  150, KL divergence 4.2805, 50 iterations in 1.4972 sec\n",
      "Iteration  200, KL divergence 4.1568, 50 iterations in 1.5177 sec\n",
      "Iteration  250, KL divergence 4.0849, 50 iterations in 1.4808 sec\n",
      "   --> Time elapsed: 7.40 seconds\n",
      "===> Running optimization with exaggeration=1.00, lr=1985.17 for 500 iterations...\n",
      "Iteration   50, KL divergence 3.0247, 50 iterations in 1.4466 sec\n",
      "Iteration  100, KL divergence 2.5359, 50 iterations in 1.6996 sec\n",
      "Iteration  150, KL divergence 2.2865, 50 iterations in 2.6112 sec\n",
      "Iteration  200, KL divergence 2.1372, 50 iterations in 3.7316 sec\n",
      "Iteration  250, KL divergence 2.0385, 50 iterations in 5.0414 sec\n",
      "Iteration  300, KL divergence 1.9723, 50 iterations in 6.6197 sec\n",
      "Iteration  350, KL divergence 1.9243, 50 iterations in 7.0806 sec\n",
      "Iteration  400, KL divergence 1.8897, 50 iterations in 8.1546 sec\n",
      "Iteration  450, KL divergence 1.8631, 50 iterations in 8.9238 sec\n"
     ]
    },
    {
     "name": "stderr",
     "output_type": "stream",
     "text": [
      " 80%|████████  | 4/5 [04:54<01:12, 72.62s/it]"
     ]
    },
    {
     "name": "stdout",
     "output_type": "stream",
     "text": [
      "Iteration  500, KL divergence 1.8411, 50 iterations in 11.0282 sec\n",
      "   --> Time elapsed: 56.34 seconds\n",
      "--------------------------------------------------------------------------------\n",
      "TSNE(n_jobs=38, random_state=42, verbose=True)\n",
      "--------------------------------------------------------------------------------\n",
      "===> Finding 90 nearest neighbors using Annoy approximate search using euclidean distance...\n",
      "   --> Time elapsed: 7.18 seconds\n",
      "===> Calculating affinity matrix...\n",
      "   --> Time elapsed: 0.26 seconds\n",
      "===> Running optimization with exaggeration=12.00, lr=1985.17 for 250 iterations...\n",
      "Iteration   50, KL divergence 5.9875, 50 iterations in 1.5226 sec\n",
      "Iteration  100, KL divergence 4.5360, 50 iterations in 1.6052 sec\n",
      "Iteration  150, KL divergence 4.2422, 50 iterations in 1.7217 sec\n",
      "Iteration  200, KL divergence 4.1145, 50 iterations in 1.8412 sec\n",
      "Iteration  250, KL divergence 4.0366, 50 iterations in 1.7543 sec\n",
      "   --> Time elapsed: 8.45 seconds\n",
      "===> Running optimization with exaggeration=1.00, lr=1985.17 for 500 iterations...\n",
      "Iteration   50, KL divergence 2.9852, 50 iterations in 1.7448 sec\n",
      "Iteration  100, KL divergence 2.5050, 50 iterations in 1.5472 sec\n",
      "Iteration  150, KL divergence 2.2589, 50 iterations in 2.2179 sec\n",
      "Iteration  200, KL divergence 2.1119, 50 iterations in 3.0672 sec\n",
      "Iteration  250, KL divergence 2.0148, 50 iterations in 4.1197 sec\n",
      "Iteration  300, KL divergence 1.9485, 50 iterations in 5.6478 sec\n",
      "Iteration  350, KL divergence 1.9005, 50 iterations in 6.2116 sec\n",
      "Iteration  400, KL divergence 1.8656, 50 iterations in 7.7760 sec\n",
      "Iteration  450, KL divergence 1.8403, 50 iterations in 7.0600 sec\n",
      "Iteration  500, KL divergence 1.8194, 50 iterations in 9.3844 sec\n",
      "   --> Time elapsed: 48.78 seconds\n",
      "--------------------------------------------------------------------------------\n",
      "TSNE(n_jobs=38, random_state=42, verbose=True)\n",
      "--------------------------------------------------------------------------------\n",
      "===> Finding 90 nearest neighbors using Annoy approximate search using euclidean distance...\n",
      "   --> Time elapsed: 7.07 seconds\n",
      "===> Calculating affinity matrix...\n",
      "   --> Time elapsed: 0.31 seconds\n",
      "===> Running optimization with exaggeration=12.00, lr=1985.17 for 250 iterations...\n",
      "Iteration   50, KL divergence 5.7141, 50 iterations in 1.5461 sec\n",
      "Iteration  100, KL divergence 4.5132, 50 iterations in 1.5405 sec\n",
      "Iteration  150, KL divergence 4.2369, 50 iterations in 1.5092 sec\n",
      "Iteration  200, KL divergence 4.1140, 50 iterations in 1.6042 sec\n",
      "Iteration  250, KL divergence 4.0415, 50 iterations in 1.5697 sec\n",
      "   --> Time elapsed: 7.77 seconds\n",
      "===> Running optimization with exaggeration=1.00, lr=1985.17 for 500 iterations...\n",
      "Iteration   50, KL divergence 2.9925, 50 iterations in 1.4726 sec\n",
      "Iteration  100, KL divergence 2.5035, 50 iterations in 1.5309 sec\n",
      "Iteration  150, KL divergence 2.2524, 50 iterations in 2.0850 sec\n",
      "Iteration  200, KL divergence 2.1031, 50 iterations in 2.7521 sec\n",
      "Iteration  250, KL divergence 2.0057, 50 iterations in 3.2105 sec\n",
      "Iteration  300, KL divergence 1.9402, 50 iterations in 4.7255 sec\n",
      "Iteration  350, KL divergence 1.8925, 50 iterations in 6.6854 sec\n",
      "Iteration  400, KL divergence 1.8577, 50 iterations in 7.8621 sec\n",
      "Iteration  450, KL divergence 1.8307, 50 iterations in 7.5634 sec\n"
     ]
    },
    {
     "name": "stderr",
     "output_type": "stream",
     "text": [
      "100%|██████████| 5/5 [07:02<00:00, 84.55s/it]"
     ]
    },
    {
     "name": "stdout",
     "output_type": "stream",
     "text": [
      "Iteration  500, KL divergence 1.8087, 50 iterations in 9.7372 sec\n",
      "   --> Time elapsed: 47.63 seconds\n"
     ]
    },
    {
     "name": "stderr",
     "output_type": "stream",
     "text": [
      "\n"
     ]
    }
   ],
   "source": [
    "ncomp = 1000\n",
    "for ad in tqdm(ads_hvg):\n",
    "    \n",
    "    if ad.uns['alpha'] in [1,10,100,1000]:\n",
    "        #use shared PCA init\n",
    "        init=adata.obsm['pca_shared_init']\n",
    "    elif ad.uns['alpha']==50:\n",
    "        #use default PCA init (first 2 PCs)\n",
    "        init=ad.obsm['pca'][:,:2]\n",
    "            \n",
    "    pca_data_after_HVG = ad.obsm[f'pca{ncomp}']\n",
    "    tsne = openTSNE.TSNE(random_state=42,verbose=True,n_jobs=38)\n",
    "    ad.obsm['tsne'] = np.array(tsne.fit(X=pca_data_after_HVG,initialization=init))\n",
    "    \n",
    "    if ad.uns['alpha'] == 50:\n",
    "        #compute control tSNE where residuals where not re-computed after HVG selection / before PCA\n",
    "        pca_data_after_HVG = ad.obsm[f'pca{ncomp}_control']\n",
    "        tsne = openTSNE.TSNE(random_state=42,verbose=True,n_jobs=38)\n",
    "        ad.obsm['tsne_hvg_control'] = np.array(tsne.fit(X=pca_data_after_HVG,initialization=init))"
   ]
  },
  {
   "cell_type": "markdown",
   "metadata": {},
   "source": [
    "### Run scanpy baseline preprocessing for comparion"
   ]
  },
  {
   "cell_type": "code",
   "execution_count": 13,
   "metadata": {},
   "outputs": [
    {
     "name": "stderr",
     "output_type": "stream",
     "text": [
      "/usr/local/lib/python3.8/dist-packages/anndata/_core/anndata.py:1830: UserWarning: Variable names are not unique. To make them unique, call `.var_names_make_unique`.\n",
      "  utils.warn_names_duplicates(\"var\")\n"
     ]
    },
    {
     "name": "stdout",
     "output_type": "stream",
     "text": [
      "normalizing counts per cell\n",
      "    finished (0:00:01)\n",
      "If you pass `n_top_genes`, all cutoffs are ignored.\n",
      "extracting highly variable genes\n",
      "    finished (0:00:04)\n",
      "normalizing counts per cell\n",
      "    finished (0:00:00)\n",
      "--------------------------------------------------------------------------------\n",
      "TSNE(n_jobs=38, random_state=42, verbose=True)\n",
      "--------------------------------------------------------------------------------\n",
      "===> Finding 90 nearest neighbors using Annoy approximate search using euclidean distance...\n",
      "   --> Time elapsed: 7.03 seconds\n",
      "===> Calculating affinity matrix...\n",
      "   --> Time elapsed: 0.26 seconds\n",
      "===> Running optimization with exaggeration=12.00, lr=1985.17 for 250 iterations...\n",
      "Iteration   50, KL divergence 5.4656, 50 iterations in 1.4089 sec\n",
      "Iteration  100, KL divergence 4.4254, 50 iterations in 1.6354 sec\n",
      "Iteration  150, KL divergence 4.1669, 50 iterations in 1.5159 sec\n",
      "Iteration  200, KL divergence 4.0382, 50 iterations in 1.7217 sec\n",
      "Iteration  250, KL divergence 3.9628, 50 iterations in 1.5821 sec\n",
      "   --> Time elapsed: 7.87 seconds\n",
      "===> Running optimization with exaggeration=1.00, lr=1985.17 for 500 iterations...\n",
      "Iteration   50, KL divergence 3.0145, 50 iterations in 1.5583 sec\n",
      "Iteration  100, KL divergence 2.6037, 50 iterations in 1.6180 sec\n",
      "Iteration  150, KL divergence 2.4109, 50 iterations in 2.0063 sec\n",
      "Iteration  200, KL divergence 2.3022, 50 iterations in 2.5981 sec\n",
      "Iteration  250, KL divergence 2.2343, 50 iterations in 3.4081 sec\n",
      "Iteration  300, KL divergence 2.1874, 50 iterations in 3.8527 sec\n",
      "Iteration  350, KL divergence 2.1560, 50 iterations in 5.0336 sec\n",
      "Iteration  400, KL divergence 2.1335, 50 iterations in 5.7583 sec\n",
      "Iteration  450, KL divergence 2.1152, 50 iterations in 6.4413 sec\n",
      "Iteration  500, KL divergence 2.1000, 50 iterations in 6.7470 sec\n",
      "   --> Time elapsed: 39.03 seconds\n"
     ]
    }
   ],
   "source": [
    "n_hvgs=3000\n",
    "adata_seurat = adata.copy()\n",
    "sc.pp.normalize_total(adata_seurat)\n",
    "sc.pp.log1p(adata_seurat)\n",
    "hvg_seurat = sc.pp.highly_variable_genes(adata_seurat,flavor='seurat',n_top_genes=n_hvgs,inplace=False)\n",
    "\n",
    "adata.var[f'top{n_hvgs}_seurat'] = np.array(hvg_seurat['highly_variable'])\n",
    "ad_hvg_seurat = adata[:,adata.var[f'top{n_hvgs}_seurat']].copy()\n",
    "ad_hvg_seurat.uns['hvg'] = 'Seurat'\n",
    "ad_hvg_seurat.uns['hvg_plotlabel'] = 'Seurat'\n",
    "ad_hvg_seurat.uns['hvg_criterion'] = hvg_seurat['dispersions_norm']\n",
    "\n",
    "def logmedian_PCA(ad,ncomp):\n",
    "    ad.layers['logmedian'] =  sc.pp.normalize_total(ad,inplace=False)['X']\n",
    "    sc.pp.log1p(ad,layer='logmedian')\n",
    "    \n",
    "    pca = PCA(random_state=42)\n",
    "    ad.obsm['pca'] = rescale_pca(pca.fit_transform(ad.layers['logmedian'].A))\n",
    "    ad.obsm[f'pca{ncomp}'] = ad.obsm['pca'][:,:ncomp]\n",
    "\n",
    "logmedian_PCA(ad_hvg_seurat,ncomp=ncomp)\n",
    "\n",
    "pca_data_after_HVG = ad_hvg_seurat.obsm[f'pca{ncomp}']\n",
    "tsne = openTSNE.TSNE(random_state=42,verbose=True,n_jobs=38)\n",
    "pca_init = ad_hvg_seurat.obsm['pca'][:,:2]\n",
    "ad_hvg_seurat.obsm['tsne'] = np.array(tsne.fit(X=pca_data_after_HVG,initialization=pca_init))"
   ]
  },
  {
   "cell_type": "markdown",
   "metadata": {},
   "source": [
    "### Save results"
   ]
  },
  {
   "cell_type": "code",
   "execution_count": 14,
   "metadata": {
    "tags": []
   },
   "outputs": [],
   "source": [
    "with open(f'{basepath}ads_hvg.pickle','wb') as f:\n",
    "    pickle.dump(ads_hvg,f)\n",
    "adata.write_h5ad(f'{basepath}adata_residuals.h5ad')"
   ]
  },
  {
   "cell_type": "code",
   "execution_count": 15,
   "metadata": {},
   "outputs": [],
   "source": [
    "ad_hvg_seurat.uns['hvg_criterion'] =ad_hvg_seurat.uns['hvg_criterion'].values\n",
    "ad_hvg_seurat.write(f'{basepath}ad_hvg_seurat.h5ad')"
   ]
  }
 ],
 "metadata": {
  "kernelspec": {
   "display_name": "Python 3 (ipykernel)",
   "language": "python",
   "name": "python3"
  },
  "language_info": {
   "codemirror_mode": {
    "name": "ipython",
    "version": 3
   },
   "file_extension": ".py",
   "mimetype": "text/x-python",
   "name": "python",
   "nbconvert_exporter": "python",
   "pygments_lexer": "ipython3",
   "version": "3.8.10"
  }
 },
 "nbformat": 4,
 "nbformat_minor": 4
}
