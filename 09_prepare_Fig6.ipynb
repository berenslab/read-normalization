{
 "cells": [
  {
   "cell_type": "code",
   "execution_count": 1,
   "metadata": {},
   "outputs": [],
   "source": [
    "import numpy as np\n",
    "import pandas as pd\n",
    "from scipy import sparse,stats\n",
    "import pickle\n",
    "import statsmodels.api as sm\n",
    "import warnings\n",
    "import anndata"
   ]
  },
  {
   "cell_type": "code",
   "execution_count": 2,
   "metadata": {},
   "outputs": [],
   "source": [
    "basepath = 'data/tasic/'\n",
    "basepath_simulations = 'data/tasic/simulations/'\n",
    "from readcount_tools import simulate_readcounts, broken_zeta"
   ]
  },
  {
   "cell_type": "code",
   "execution_count": 3,
   "metadata": {},
   "outputs": [],
   "source": [
    "def zinb_fit(counts,seed=42,verbose=False):\n",
    "    \n",
    "    np.random.seed(seed)\n",
    "    \n",
    "    #fit and recover parameters\n",
    "    zinb_fit = sm.ZeroInflatedNegativeBinomialP(counts,np.ones_like(counts)).fit_regularized(disp=verbose)\n",
    "    loginflation_fit,logmu_fit,alpha_fit = zinb_fit.params\n",
    "    theta_fit = 1/alpha_fit\n",
    "    inflation_fit = np.exp(loginflation_fit)\n",
    "    mu_fit = np.exp(logmu_fit)\n",
    "    \n",
    "    return mu_fit, theta_fit, inflation_fit, zinb_fit\n",
    "\n",
    "def init_ad_for_fitting(ad,warning2text):\n",
    "    \n",
    "    #add fields to log results\n",
    "    ad.var['mus_fit']=np.nan * np.ones(ad.shape[1]).astype(bool)\n",
    "    ad.var['thetas_fit']=np.nan * np.ones(ad.shape[1]).astype(bool)\n",
    "    ad.var['inflations_fit']=np.nan * np.ones(ad.shape[1]).astype(bool)\n",
    "    \n",
    "    #add fields to log warnings per gene\n",
    "    for warning_type in warning2text.keys():\n",
    "        key = f'{warning_type}_idx'\n",
    "        ad.var[key] = np.zeros(ad.shape[1]).astype(bool)\n",
    "    ad.var['no_warning_idx'] = np.zeros(ad.shape[1]).astype(bool)\n",
    "    ad.var['other_warning_idx'] = np.zeros(ad.shape[1]).astype(bool)\n",
    "    ad.var['cought_warnings']=['[]'] * ad.shape[1]\n",
    "    ad.var['cought_errors']=[''] * ad.shape[1]\n",
    "    \n",
    "    #add fields to log other outcomes\n",
    "    ad.var['converged']= np.zeros(ad.shape[1]).astype(bool)\n",
    "    ad.var['n_iters']= np.nan * np.ones(ad.shape[1]).astype(bool)\n",
    "    ad.var['warnflags_statsmodels']= [''] * ad.shape[1]\n",
    "\n",
    "def print_warnings(ad,i,outcome_type,text,print_msg=True):\n",
    "    gene_name = ad.var['genes'][i]\n",
    "    gene_mean = ad.var['gene_mean_withinCluster'][i]\n",
    "    if print_msg:\n",
    "        print(f'\\nfitting gene {i}/{ad.shape[1]}: {gene_name},'\\\n",
    "              f'mean={gene_mean:.2f} raised {outcome_type}: {text}')\n",
    "\n",
    "def fit_zinb_within_cluster(ad_input,mean_cutoff = 5,save=True,verbose=False,filename='zinbfit.h5ad',show_warnings=False):\n",
    "\n",
    "    warning2text = {'log_warning': 'invalid value encountered in log',\n",
    "                'multiply_warning': 'invalid value encountered in multiply',\n",
    "                'subtract_warning': 'invalid value encountered in subtract',\n",
    "                'overflow_warning_exp': 'overflow encountered in exp',\n",
    "                'overflow_warning_reduce': 'overflow encountered in reduce'}\n",
    "    \n",
    "    #filter out low expression genes\n",
    "    ad = ad_input[:,ad_input.var['gene_mean_withinCluster'] > mean_cutoff]\n",
    "    print(f'{ad.shape[1]} genes > {mean_cutoff}')\n",
    "    \n",
    "    #add fields to adata object to save results\n",
    "    init_ad_for_fitting(ad,warning2text)\n",
    "\n",
    "    for i,gene_idx in enumerate(ad.var.index):\n",
    "        #print progress\n",
    "        if np.mod(i,100)==0:\n",
    "            print('.',end='')\n",
    "\n",
    "        #capture warnings during fit but ignore pandas future warning\n",
    "        with warnings.catch_warnings(record=True) as ws:\n",
    "            warnings.filterwarnings(\"ignore\", category=FutureWarning)\n",
    "            gene_counts = ad[:,gene_idx].X.A.squeeze()\n",
    "\n",
    "            #capture np.linalg.LinAlgErrors during fits\n",
    "            try:\n",
    "                mu_fit, theta_fit, inflation_fit, fit_object = zinb_fit(gene_counts,verbose=verbose)\n",
    "                #save fit results\n",
    "                ad.var.loc[gene_idx,'mus_fit']=mu_fit\n",
    "                ad.var.loc[gene_idx,'thetas_fit']=theta_fit\n",
    "                ad.var.loc[gene_idx,'inflations_fit']=inflation_fit\n",
    "                #save fit stats/infos (fit object can't be saved in hdf5)\n",
    "                ad.var.loc[gene_idx,'converged']=fit_object.mle_retvals['converged']\n",
    "                ad.var.loc[gene_idx,'n_iters']=fit_object.mle_retvals['iterations']\n",
    "                ad.var.loc[gene_idx,'warnflags_statsmodels']=fit_object.mle_retvals['warnflag']                \n",
    "            except np.linalg.LinAlgError as error:\n",
    "                ad.var.loc[gene_idx,'cought_errors'] = error.args[0]\n",
    "                print_warnings(ad,i,outcome_type='np.linalg.LinAlgError',text=error.args[0],print_msg=show_warnings)\n",
    "                \n",
    "        #processing warnings of current gene\n",
    "        cought_warnings_list = [w.message.args[0] for w in ws]\n",
    "        if cought_warnings_list:\n",
    "            unique_warnings = np.unique(cought_warnings_list)\n",
    "            #print warning for all but the log warnings\n",
    "            if not (len(unique_warnings)==1 and unique_warnings[0]=='invalid value encountered in log'):\n",
    "                print_warnings(ad,i,outcome_type='warning(s)',text=cought_warnings_list,print_msg=show_warnings)\n",
    "            #save warning type in flag\n",
    "            n_known_warning_types = 0\n",
    "            for warning_type in warning2text.keys():\n",
    "                key = f'{warning_type}_idx'\n",
    "                ad.var.loc[gene_idx,key] = warning2text[warning_type] in unique_warnings\n",
    "                n_known_warning_types += int(ad.var.loc[gene_idx,key]) #add 1 if warning is known\n",
    "            ad.var.loc[gene_idx,'other_warning_idx'] = n_known_warning_types < len(unique_warnings)\n",
    "        else:\n",
    "            ad.var.loc[gene_idx,'no_warning_idx'] = True\n",
    "\n",
    "        #save fit warnings\n",
    "        ad.var.loc[gene_idx,'cought_warnings']=str(cought_warnings_list)\n",
    "\n",
    "    #save invalid/unexpected outcomes\n",
    "    ad.uns['warning_types'] = np.array(list(warning2text.keys()) + ['other_warning'])\n",
    "    ad.uns['warning2text'] = warning2text\n",
    "    ad.var['no_error'] = ad.var.cought_errors == ''\n",
    "    ad.var['valid_inflation_idx'] = ad.var['inflations_fit'] <= 1\n",
    "    \n",
    "    ad.write_h5ad(filename=filename)\n",
    "    print(f'saved to {filename}')"
   ]
  },
  {
   "cell_type": "markdown",
   "metadata": {},
   "source": [
    "### Fit ZINB to real data"
   ]
  },
  {
   "cell_type": "code",
   "execution_count": 4,
   "metadata": {
    "tags": []
   },
   "outputs": [
    {
     "name": "stdout",
     "output_type": "stream",
     "text": [
      "L6 IT VISp Penk Col27a1 (1049, 33914)\n",
      "11549 genes > 5\n",
      "."
     ]
    },
    {
     "name": "stderr",
     "output_type": "stream",
     "text": [
      "/tmp/ipykernel_37176/940645334.py:17: ImplicitModificationWarning: Trying to modify attribute `.var` of view, initializing view as actual.\n",
      "  ad.var['mus_fit']=np.nan * np.ones(ad.shape[1]).astype(bool)\n"
     ]
    },
    {
     "name": "stdout",
     "output_type": "stream",
     "text": [
      "...................................................................................................................saved to data/tasic/simulations/ZINBfit_single_cluster_meanCutoff_5.h5ad\n"
     ]
    }
   ],
   "source": [
    "mean_cutoff=5\n",
    "adata_single_cluster = anndata.read_h5ad(f'{basepath}adata_single_cluster.h5ad')\n",
    "print(adata_single_cluster.uns['clustername'],adata_single_cluster.shape)\n",
    "\n",
    "clustername=adata_single_cluster.uns['clustername']\n",
    "\n",
    "filename = f'{basepath_simulations}ZINBfit_single_cluster_meanCutoff_{mean_cutoff}.h5ad'\n",
    "fit_zinb_within_cluster(adata_single_cluster,filename=filename)"
   ]
  },
  {
   "cell_type": "markdown",
   "metadata": {
    "tags": []
   },
   "source": [
    "### Grid search in broken zeta parameter space"
   ]
  },
  {
   "cell_type": "code",
   "execution_count": 5,
   "metadata": {},
   "outputs": [],
   "source": [
    "#todo sync\n",
    "def broken_zeta_w_stats_new(a1=1.4,\n",
    "                a2=8.0,\n",
    "                breakpoint=100,\n",
    "                size=10000,\n",
    "                z_max=100000,\n",
    "                seed=42):\n",
    "    \n",
    "    params = dict(a1=a1,a2=a2,breakpoint=breakpoint,size=size,z_max=z_max,seed=seed)\n",
    "    zs = broken_zeta(**params)\n",
    "    mean=np.mean(zs)\n",
    "    median=np.median(zs)\n",
    "    var=np.var(zs)\n",
    "    ff=var/mean\n",
    "    empirical_alpha=mean+ff\n",
    "    stats = dict(mean=mean,median=median,var=var,ff=ff,alpha=empirical_alpha)\n",
    "    return params, stats"
   ]
  },
  {
   "cell_type": "code",
   "execution_count": 6,
   "metadata": {},
   "outputs": [],
   "source": [
    "def grid_search_broken_zeta():\n",
    "    i=0\n",
    "    results=[]\n",
    "    for a1 in np.arange(0.01,5,0.05):\n",
    "        for a2 in np.arange(0.1,20,2.5):\n",
    "            #require a2>a1 for observed shape\n",
    "            if a2<=a1:\n",
    "                continue\n",
    "            for b in np.arange(1,100,5):\n",
    "                i+=1\n",
    "                param,stat=broken_zeta_w_stats_new(a1=a1,a2=a2,breakpoint=b)\n",
    "                results.append(dict(**stat,**param))\n",
    "    \n",
    "    df_results = pd.DataFrame(results)\n",
    "    \n",
    "    with open(f'{basepath_simulations}gridsearch_broken_zeta','wb') as f:\n",
    "        pickle.dump(df_results,f)\n",
    "grid_search_broken_zeta()\n",
    "\n",
    "# load zeta param search result\n",
    "with open(f'{basepath_simulations}gridsearch_broken_zeta','rb') as f:\n",
    "    df_grid_search_results = pickle.load(f)"
   ]
  },
  {
   "cell_type": "code",
   "execution_count": 7,
   "metadata": {},
   "outputs": [],
   "source": [
    "def zeta_stat_str(zeta_params,amplification_stats):\n",
    "    zeta_str = fr'alpha={amplification_stats[\"mean\"]+amplification_stats[\"ff\"]:.0f}, E[Z]={amplification_stats[\"mean\"]:.0f}'\n",
    "    return zeta_str"
   ]
  },
  {
   "cell_type": "markdown",
   "metadata": {
    "tags": []
   },
   "source": [
    "### Select parameter sets"
   ]
  },
  {
   "cell_type": "code",
   "execution_count": 8,
   "metadata": {},
   "outputs": [],
   "source": [
    "def find_best_params(df,target_alpha=50,target_mean=20,max_total_deviation=5):\n",
    "\n",
    "    df=df.copy()\n",
    "    df['dev_from_target_alpha'] = np.abs(df['alpha']-target_alpha)\n",
    "    df['dev_from_target_mean'] = np.abs(df['mean']-target_mean)\n",
    "    df['total_deviation'] = df['dev_from_target_alpha'] + df['dev_from_target_mean']\n",
    "    \n",
    "    df = df[df['total_deviation']<max_total_deviation]\n",
    "    df_params_sorted = df.sort_values(by='total_deviation')\n",
    "        \n",
    "    df_params_sorted['target_mean']=target_mean\n",
    "    df_params_sorted['target_alpha']=target_alpha\n",
    "    \n",
    "    best_params = dict(a1=df_params_sorted.iloc[0,:]['a1'],\n",
    "                   a2=df_params_sorted.iloc[0,:]['a2'],\n",
    "                   breakpoint=df_params_sorted.iloc[0,:]['breakpoint'],\n",
    "                   z_max=df_params_sorted.iloc[0,:]['z_max'],\n",
    "                   constant=False)\n",
    "    \n",
    "    best_obs_mean=df_params_sorted.iloc[0,:]['mean']\n",
    "    best_obs_ff=df_params_sorted.iloc[0,:]['ff']\n",
    "    \n",
    "    return best_params, best_obs_mean, best_obs_ff"
   ]
  },
  {
   "cell_type": "code",
   "execution_count": 9,
   "metadata": {},
   "outputs": [
    {
     "name": "stdout",
     "output_type": "stream",
     "text": [
      "For E[Z]=1 and scale=1 we use the constant model Z=1\n",
      "For E[Z]=20 and alpha=50 we choose: {'a1': 0.9600000000000001, 'a2': 15.1, 'breakpoint': 91.0, 'z_max': 100000.0, 'constant': False}\n",
      "(leading to E[Z]=19.6 and FF[Z]=30.2)\n",
      "\n",
      "For E[Z]=30 and alpha=50 we choose: {'a1': 0.36000000000000004, 'a2': 5.1, 'breakpoint': 56.0, 'z_max': 100000.0, 'constant': False}\n",
      "(leading to E[Z]=29.6 and FF[Z]=20.1)\n",
      "\n",
      "For E[Z]=40 and alpha=50 we choose: {'a1': 0.01, 'a2': 17.6, 'breakpoint': 71.0, 'z_max': 100000.0, 'constant': False}\n",
      "(leading to E[Z]=37.4 and FF[Z]=12.7)\n",
      "\n"
     ]
    }
   ],
   "source": [
    "zeta_params_list = []\n",
    "zeta_params_info_list = []\n",
    "target_alphas = [1,50,50,50]\n",
    "target_means = [1,20,30,40]\n",
    "set_z_constant = [True, False, False, False]\n",
    "\n",
    "for z_constant,target_mean,target_alpha,color in zip(set_z_constant,target_means,target_alphas,['k','tab:blue','tab:orange','tab:green']):\n",
    "    if not z_constant:\n",
    "        best_params, best_obs_mean, best_obs_ff = find_best_params(df_grid_search_results,\n",
    "                                                                   target_alpha=target_alpha,\n",
    "                                                                   target_mean=target_mean)\n",
    "        \n",
    "        info = dict(target_mean=target_mean, target_alpha=target_alpha, target_ff=target_alpha-target_mean,\n",
    "                    obs_mean=best_obs_mean,  obs_ff=best_obs_ff, obs_alpha=best_obs_mean+best_obs_ff,\n",
    "                    color=color)\n",
    "        \n",
    "        print(f'For E[Z]={target_mean} and alpha={target_alpha} we choose: {best_params}\\n(leading to E[Z]={best_obs_mean:.1f} and FF[Z]={best_obs_ff:.1f})\\n')\n",
    "    else:\n",
    "        best_params = dict(a1=np.nan, a2=np.nan, breakpoint=np.nan, z_max=np.nan, constant=True)\n",
    "        info = dict(target_mean=1, target_alpha=1, target_ff=0,\n",
    "                    obs_mean=1, obs_ff=0, obs_alpha=1,\n",
    "                    color=color)\n",
    "        print(f'For E[Z]=1 and scale=1 we use the constant model Z=1')\n",
    "    zeta_params_list.append(best_params)\n",
    "    zeta_params_info_list.append(info)"
   ]
  },
  {
   "cell_type": "markdown",
   "metadata": {
    "tags": []
   },
   "source": [
    "### Simulate readcounts with Broken Zeta for the selected parameter sets and fit ZINB"
   ]
  },
  {
   "cell_type": "code",
   "execution_count": 10,
   "metadata": {},
   "outputs": [],
   "source": [
    "def fit_multiple_zeta_simulations(zeta_param_sets,infos_zeta_param_sets,molsim_params,\n",
    "                                  mean_cutoff = 5,tag='tag',show_warnings=False):\n",
    "     \n",
    "    for i,(zeta_params,info_param_set) in enumerate(zip(zeta_param_sets,infos_zeta_param_sets)):\n",
    "\n",
    "        #simulate\n",
    "        ad_sim, params_sim = simulate_readcounts(molsim_params,zeta_params,amplification_seed=42,\n",
    "                                      tag=tag,color=info_param_set['color'])        \n",
    "        ad_sim.uns['infos_zeta_param_set'] = info_param_set\n",
    "        \n",
    "        filename = f'{basepath_simulations}ZINBfit_simulation_{i}_meanCutoff_{mean_cutoff}.h5ad'\n",
    "        \n",
    "        #fit ZINB and save to file\n",
    "        fit_zinb_within_cluster(ad_sim,mean_cutoff=mean_cutoff, filename=filename,show_warnings=show_warnings)"
   ]
  },
  {
   "cell_type": "code",
   "execution_count": 11,
   "metadata": {},
   "outputs": [
    {
     "name": "stdout",
     "output_type": "stream",
     "text": [
      "removing 0 all-zero genes after simulation\n",
      "12 genes > 5\n",
      "."
     ]
    },
    {
     "name": "stderr",
     "output_type": "stream",
     "text": [
      "/gpfs01/berens/user/jlause/countstats/read-normalization/readcount_tools.py:218: FutureWarning: X.dtype being converted to np.float32 from int64. In the next version of anndata (0.9) conversion will not be automatic. Pass dtype explicitly to avoid this warning. Pass `AnnData(X, dtype=X.dtype, ...)` to get the future behavour.\n",
      "  ad = anndata.AnnData(X=sparse.csc_matrix(readcounts_sim),layers=dict(molecules=molecules_sim))\n",
      "/tmp/ipykernel_37176/940645334.py:17: ImplicitModificationWarning: Trying to modify attribute `.var` of view, initializing view as actual.\n",
      "  ad.var['mus_fit']=np.nan * np.ones(ad.shape[1]).astype(bool)\n"
     ]
    },
    {
     "name": "stdout",
     "output_type": "stream",
     "text": [
      "saved to data/tasic/simulations/ZINBfit_simulation_0_meanCutoff_5.h5ad\n",
      "removing 0 all-zero genes after simulation\n"
     ]
    },
    {
     "name": "stderr",
     "output_type": "stream",
     "text": [
      "tcmalloc: large alloc 16377569280 bytes == 0x1d98c000 @ \n",
      "tcmalloc: large alloc 16377569280 bytes == 0x3ef1c2000 @ \n",
      "tcmalloc: large alloc 16377569280 bytes == 0x7c04a0000 @ \n",
      "tcmalloc: large alloc 16377569280 bytes == 0x3ef1c2000 @ \n",
      "tcmalloc: large alloc 16377569280 bytes == 0x7c04a0000 @ \n",
      "tcmalloc: large alloc 16377569280 bytes == 0x7c04a0000 @ \n"
     ]
    },
    {
     "name": "stdout",
     "output_type": "stream",
     "text": [
      "Broken Zeta amplification with {'a1': 0.9600000000000001, 'a2': 15.1, 'breakpoint': 91.0, 'z_max': 100000.0, 'constant': False}\n",
      "Effectively amplifying with Zs that have mean=20.1, median=8.0, var=609.9, FF=30.3, leading to alpha=50.4\n"
     ]
    },
    {
     "name": "stderr",
     "output_type": "stream",
     "text": [
      "/gpfs01/berens/user/jlause/countstats/read-normalization/readcount_tools.py:218: FutureWarning: X.dtype being converted to np.float32 from float64. In the next version of anndata (0.9) conversion will not be automatic. Pass dtype explicitly to avoid this warning. Pass `AnnData(X, dtype=X.dtype, ...)` to get the future behavour.\n",
      "  ad = anndata.AnnData(X=sparse.csc_matrix(readcounts_sim),layers=dict(molecules=molecules_sim))\n",
      "/tmp/ipykernel_37176/940645334.py:17: ImplicitModificationWarning: Trying to modify attribute `.var` of view, initializing view as actual.\n",
      "  ad.var['mus_fit']=np.nan * np.ones(ad.shape[1]).astype(bool)\n"
     ]
    },
    {
     "name": "stdout",
     "output_type": "stream",
     "text": [
      "16 genes > 5\n",
      ".saved to data/tasic/simulations/ZINBfit_simulation_1_meanCutoff_5.h5ad\n",
      "removing 0 all-zero genes after simulation\n"
     ]
    },
    {
     "name": "stderr",
     "output_type": "stream",
     "text": [
      "tcmalloc: large alloc 16377569280 bytes == 0x3ef1c2000 @ \n",
      "tcmalloc: large alloc 16377569280 bytes == 0x1a422000 @ \n",
      "tcmalloc: large alloc 16377569280 bytes == 0xb9177e000 @ \n",
      "tcmalloc: large alloc 16377569280 bytes == 0x1a422000 @ \n",
      "tcmalloc: large alloc 16377569280 bytes == 0x3ef1c2000 @ \n",
      "tcmalloc: large alloc 16377569280 bytes == 0x3ef1c2000 @ \n"
     ]
    },
    {
     "name": "stdout",
     "output_type": "stream",
     "text": [
      "Broken Zeta amplification with {'a1': 0.36000000000000004, 'a2': 5.1, 'breakpoint': 56.0, 'z_max': 100000.0, 'constant': False}\n",
      "Effectively amplifying with Zs that have mean=30.2, median=25.0, var=639.1, FF=21.2, leading to alpha=51.4\n"
     ]
    },
    {
     "name": "stderr",
     "output_type": "stream",
     "text": [
      "/gpfs01/berens/user/jlause/countstats/read-normalization/readcount_tools.py:218: FutureWarning: X.dtype being converted to np.float32 from float64. In the next version of anndata (0.9) conversion will not be automatic. Pass dtype explicitly to avoid this warning. Pass `AnnData(X, dtype=X.dtype, ...)` to get the future behavour.\n",
      "  ad = anndata.AnnData(X=sparse.csc_matrix(readcounts_sim),layers=dict(molecules=molecules_sim))\n",
      "/tmp/ipykernel_37176/940645334.py:17: ImplicitModificationWarning: Trying to modify attribute `.var` of view, initializing view as actual.\n",
      "  ad.var['mus_fit']=np.nan * np.ones(ad.shape[1]).astype(bool)\n"
     ]
    },
    {
     "name": "stdout",
     "output_type": "stream",
     "text": [
      "17 genes > 5\n",
      ".saved to data/tasic/simulations/ZINBfit_simulation_2_meanCutoff_5.h5ad\n",
      "removing 0 all-zero genes after simulation\n"
     ]
    },
    {
     "name": "stderr",
     "output_type": "stream",
     "text": [
      "tcmalloc: large alloc 16377569280 bytes == 0x3ef1c2000 @ \n",
      "tcmalloc: large alloc 16377569280 bytes == 0xb9177e000 @ \n",
      "tcmalloc: large alloc 16377569280 bytes == 0x1a422000 @ \n",
      "tcmalloc: large alloc 16377569280 bytes == 0xb9177e000 @ \n",
      "tcmalloc: large alloc 16377569280 bytes == 0x3ef1c2000 @ \n",
      "tcmalloc: large alloc 16377569280 bytes == 0x3ef1c2000 @ \n"
     ]
    },
    {
     "name": "stdout",
     "output_type": "stream",
     "text": [
      "Broken Zeta amplification with {'a1': 0.01, 'a2': 17.6, 'breakpoint': 71.0, 'z_max': 100000.0, 'constant': False}\n",
      "Effectively amplifying with Zs that have mean=37.9, median=38.0, var=478.7, FF=12.6, leading to alpha=50.5\n"
     ]
    },
    {
     "name": "stderr",
     "output_type": "stream",
     "text": [
      "/gpfs01/berens/user/jlause/countstats/read-normalization/readcount_tools.py:218: FutureWarning: X.dtype being converted to np.float32 from float64. In the next version of anndata (0.9) conversion will not be automatic. Pass dtype explicitly to avoid this warning. Pass `AnnData(X, dtype=X.dtype, ...)` to get the future behavour.\n",
      "  ad = anndata.AnnData(X=sparse.csc_matrix(readcounts_sim),layers=dict(molecules=molecules_sim))\n",
      "/tmp/ipykernel_37176/940645334.py:17: ImplicitModificationWarning: Trying to modify attribute `.var` of view, initializing view as actual.\n",
      "  ad.var['mus_fit']=np.nan * np.ones(ad.shape[1]).astype(bool)\n"
     ]
    },
    {
     "name": "stdout",
     "output_type": "stream",
     "text": [
      "17 genes > 5\n",
      ".saved to data/tasic/simulations/ZINBfit_simulation_3_meanCutoff_5.h5ad\n"
     ]
    }
   ],
   "source": [
    "molsim_params = dict(n_cells=1000*100,\n",
    "                      ps_input=np.logspace(-8,-1,num=25),\n",
    "                      theta_molecules=10,\n",
    "                      depth=100000,\n",
    "                      seed=42)\n",
    "fit_multiple_zeta_simulations(zeta_param_sets=zeta_params_list,\n",
    "                              infos_zeta_param_sets=zeta_params_info_list,\n",
    "                              molsim_params=molsim_params,\n",
    "                              tag='fig6',\n",
    "                              mean_cutoff=mean_cutoff)"
   ]
  },
  {
   "cell_type": "code",
   "execution_count": 12,
   "metadata": {},
   "outputs": [],
   "source": [
    "with open(f'{basepath_simulations}zeta_params_list.pickle','wb') as f:\n",
    "    pickle.dump(zeta_params_list,f)\n",
    "with open(f'{basepath_simulations}zeta_params_info_list.pickle','wb') as f:\n",
    "    pickle.dump(zeta_params_info_list,f)"
   ]
  }
 ],
 "metadata": {
  "kernelspec": {
   "display_name": "Python 3 (ipykernel)",
   "language": "python",
   "name": "python3"
  },
  "language_info": {
   "codemirror_mode": {
    "name": "ipython",
    "version": 3
   },
   "file_extension": ".py",
   "mimetype": "text/x-python",
   "name": "python",
   "nbconvert_exporter": "python",
   "pygments_lexer": "ipython3",
   "version": "3.8.10"
  }
 },
 "nbformat": 4,
 "nbformat_minor": 4
}
