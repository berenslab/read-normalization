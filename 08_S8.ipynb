{
 "cells": [
  {
   "cell_type": "code",
   "execution_count": 1,
   "metadata": {},
   "outputs": [],
   "source": [
    "import numpy as np\n",
    "import matplotlib.pyplot as plt\n",
    "import matplotlib as mpl\n",
    "import seaborn as sns \n",
    "import scanpy as sc\n",
    "sc.settings.verbosity = 2\n",
    "import anndata\n",
    "from readcount_tools import plot_mean_vs\n",
    "\n",
    "#import plotting constants\n",
    "from readcount_tools import PAPER_CONTEXT, PAGEWIDTH_IN, SMALL_SIZE,MEDIUM_SIZE,BIGGER_SIZE,LINEWIDTH,POINTSIZE,TICKLENGTH,LEGEND_FONTSIZE,SPINEWIDTH,LETTER_LOC_X,LETTER_LOC_Y"
   ]
  },
  {
   "cell_type": "code",
   "execution_count": 2,
   "metadata": {},
   "outputs": [],
   "source": [
    "exp2run = {'CELseq2A':'A',\n",
    " 'CELseq2B':'B',\n",
    " 'DropSeqA':'A',\n",
    " 'DropSeqB':'B',\n",
    " 'MARSseqA':'A',\n",
    " 'MARSseqB':'B',\n",
    " 'SCRBseqA':'A',\n",
    " 'SCRBseqB':'B',\n",
    " 'Smartseq3_Fibroblast':'A',\n",
    " 'Smartseq3_Fibroblast_PE':'A'}\n",
    "exp2prot = {'CELseq2A':'CEL-seq2',\n",
    " 'CELseq2B':'CEL-seq2',\n",
    " 'DropSeqA':'Drop-seq',\n",
    " 'DropSeqB':'Drop-seq',\n",
    " 'MARSseqA':'MARS-seq',\n",
    " 'MARSseqB':'MARS-seq',\n",
    " 'SCRBseqA':'SCRB-seq',\n",
    " 'SCRBseqB':'SCRB-seq',\n",
    " 'Smartseq3_Fibroblast':'Smart-seq3 SE',\n",
    " 'Smartseq3_Fibroblast_PE':'Smart-seq3 PE'}"
   ]
  },
  {
   "cell_type": "code",
   "execution_count": 3,
   "metadata": {},
   "outputs": [
    {
     "name": "stdout",
     "output_type": "stream",
     "text": [
      "CEL-seq2\tA\t(34, 23555)\n",
      "CEL-seq2\tB\t(37, 25479)\n",
      "Drop-seq\tA\t(42, 23530)\n",
      "Drop-seq\tB\t(34, 22104)\n",
      "MARS-seq\tA\t(29, 20307)\n",
      "MARS-seq\tB\t(36, 21150)\n",
      "SCRB-seq\tA\t(39, 24054)\n",
      "SCRB-seq\tB\t(45, 24281)\n",
      "Smart-seq3 SE\tA\t(145, 23161)\n",
      "Smart-seq3 PE\tA\t(319, 25427)\n"
     ]
    }
   ],
   "source": [
    "### Use only mouse datasets\n",
    "experiments = ['CELseq2A', 'CELseq2B',\n",
    "               'DropSeqA', 'DropSeqB', \n",
    "               'MARSseqA', 'MARSseqB', \n",
    "               'SCRBseqA', 'SCRBseqB', \n",
    "               'Smartseq3_Fibroblast',\n",
    "               'Smartseq3_Fibroblast_PE']\n",
    "\n",
    "basepath = 'data/reads_per_umi_tables/'\n",
    "\n",
    "\n",
    "bottom_criterion = 'ff_reads'\n",
    "n_bottom = 7000\n",
    "\n",
    "adatas_by_exp = []\n",
    "bottom_genes = []\n",
    "genes_by_exp = []\n",
    "n_genes = []\n",
    "\n",
    "for exp in experiments:\n",
    "    fullpath = (f'{basepath}ad_readcounts_umicounts_hd1_{exp}')\n",
    "    #fullpath = (f'{path}00_preload_ziegenhain_ad_readcounts_umicounts_{hd}_{exp}')\n",
    "    ad = anndata.read_h5ad(fullpath)\n",
    "    \n",
    "    #ad.var.set_index('genes',inplace=True)\n",
    "    ad.obs['experiment'] = ad.uns['experiment']\n",
    "    ad.obs['index'] = ad.obs['experiment'] + '_' + ad.obs['cells'] \n",
    "    ad.obs.set_index('index',inplace=True)\n",
    "    \n",
    "    ad.obs['protocol']=[exp2prot[exp] for exp in ad.obs.experiment]\n",
    "    ad.obs['run']=[exp2run[exp] for exp in ad.obs.experiment]\n",
    "    ad.obs['plotlabel'] = [p+' '+r for p,r in zip(ad.obs['protocol'],ad.obs['run'])]\n",
    "        \n",
    "    ad.uns['experiment']=exp\n",
    "    ad.uns['protocol']=exp2prot[exp]\n",
    "    ad.uns['run']=exp2run[exp]\n",
    "    ad.uns['plotlabel']=ad.uns['protocol']+' '+ad.uns['run']\n",
    "    #remove .. A from SE and PE runs because we only have one run there\n",
    "    ad.uns['plotlabel'] = ad.uns['plotlabel'].replace('E A','E') \n",
    "    \n",
    "    sc.pp.filter_genes(ad,min_counts=1)\n",
    "    sc.pp.filter_cells(ad,min_counts=1)\n",
    "    \n",
    "    #compute readcount statistics within each exp\n",
    "    variances_reads = np.var(ad.layers['reads'].A,axis=0)\n",
    "    means_reads = np.squeeze(np.mean(ad.layers['reads'].A,axis=0))\n",
    "    ffs_reads = variances_reads/means_reads    \n",
    "    ad.var['var_reads'] = variances_reads\n",
    "    ad.var['ff_reads'] = ffs_reads\n",
    "    ad.var['mean_reads'] = means_reads\n",
    "    \n",
    "    bottom_criterion_cutoff = np.sort(ad.var[bottom_criterion])[n_bottom]\n",
    "    ad.uns['bottom_criterion_cutoff']=bottom_criterion_cutoff\n",
    "    ad.var['bottom_cloud_idx'] = ad.var[bottom_criterion] <= bottom_criterion_cutoff\n",
    "    bottom_genes.append(ad.var.index[ad.var['bottom_cloud_idx']])\n",
    "\n",
    "    genes_by_exp.append(ad.var.index)    \n",
    "    adatas_by_exp.append(ad)\n",
    "    \n",
    "    print(ad.uns['protocol'],ad.uns['run'], ad.shape,sep='\\t')\n",
    "    n_genes.append(ad.shape[1])\n"
   ]
  },
  {
   "cell_type": "code",
   "execution_count": 4,
   "metadata": {},
   "outputs": [],
   "source": [
    "adatas_by_exp_A=[ad for ad in adatas_by_exp if ad.uns['run']=='A']"
   ]
  },
  {
   "cell_type": "markdown",
   "metadata": {
    "tags": []
   },
   "source": [
    "## Analysis"
   ]
  },
  {
   "cell_type": "markdown",
   "metadata": {
    "tags": []
   },
   "source": [
    "### Pairwise intersection fraction matrix"
   ]
  },
  {
   "cell_type": "code",
   "execution_count": 5,
   "metadata": {},
   "outputs": [],
   "source": [
    "def compute_intersections(bottom_genes,return_raw=False):\n",
    "    intersection_fraction = np.zeros((len(bottom_genes),len(bottom_genes)))\n",
    "    for i_a,bottom_a in enumerate(bottom_genes):\n",
    "        for i_b,bottom_b in enumerate(bottom_genes):\n",
    "\n",
    "            if return_raw:\n",
    "                intersection_fraction[i_a,i_b]=len(np.intersect1d(bottom_a,bottom_b))\n",
    "            else:\n",
    "                intersection_fraction[i_a,i_b]=len(np.intersect1d(bottom_a,bottom_b))/len(bottom_a)\n",
    "\n",
    "    np.fill_diagonal(intersection_fraction,val=np.nan)\n",
    "    \n",
    "    return intersection_fraction"
   ]
  },
  {
   "cell_type": "code",
   "execution_count": 6,
   "metadata": {},
   "outputs": [],
   "source": [
    "n_shared_genes = compute_intersections(genes_by_exp,return_raw=True)"
   ]
  },
  {
   "cell_type": "code",
   "execution_count": 7,
   "metadata": {},
   "outputs": [],
   "source": [
    "intersection_matrix_raw = compute_intersections(bottom_genes,return_raw=True)\n",
    "intersection_matrix = compute_intersections(bottom_genes)"
   ]
  },
  {
   "cell_type": "code",
   "execution_count": 8,
   "metadata": {},
   "outputs": [],
   "source": [
    "def compute_chance_intersections(n_genes_shared_between_runs,n_genes_per_run,n_subset=3000):\n",
    "    n_genes_chance_intersection = np.zeros((len(n_genes_per_run),len(n_genes_per_run)))\n",
    "    for i_a,n_a in enumerate(n_genes):\n",
    "        for i_b,n_b in enumerate(n_genes):\n",
    "            \n",
    "            n_shared = n_genes_shared_between_runs[i_a,i_b]\n",
    "            n_genes_chance_intersection[i_a,i_b] = (n_subset**2 * n_shared) / (n_a * n_b)\n",
    "\n",
    "    np.fill_diagonal(n_genes_chance_intersection,val=np.nan)\n",
    "    \n",
    "    return n_genes_chance_intersection"
   ]
  },
  {
   "cell_type": "code",
   "execution_count": 9,
   "metadata": {},
   "outputs": [],
   "source": [
    "chance_intersections = compute_chance_intersections(n_genes_shared_between_runs=n_shared_genes,n_genes_per_run=n_genes,n_subset=n_bottom)"
   ]
  },
  {
   "cell_type": "markdown",
   "metadata": {
    "tags": []
   },
   "source": [
    "### Paper version: Fig S3B"
   ]
  },
  {
   "cell_type": "code",
   "execution_count": 10,
   "metadata": {},
   "outputs": [],
   "source": [
    "def plot_intersection_matrix(intersection_fraction,runs,\n",
    "                             ax=None,vmin=None,vmax=None,\n",
    "                             print_floats=True,print_thousands=False,print_pct=False,\n",
    "                             fontsize=12):\n",
    "\n",
    "    if ax:\n",
    "        plt.sca(ax)\n",
    "    \n",
    "    plt.imshow(intersection_fraction,vmin=vmin,vmax=vmax)    \n",
    "    plt.xticks(ticks=np.arange(len(runs)),labels=runs,rotation=90)\n",
    "    plt.yticks(ticks=np.arange(len(runs)),labels=runs)\n",
    "\n",
    "    for row in range(len(runs)):\n",
    "        for clm in range(len(runs)):\n",
    "            if row<=clm:\n",
    "                continue\n",
    "            if print_floats:\n",
    "                plt.text(clm,row,f'{intersection_fraction[row,clm]:.1f}',ha='center',va='center',fontsize=fontsize,fontweight='bold')\n",
    "            elif print_thousands:\n",
    "                number = np.round(intersection_fraction[row,clm]/1000,decimals=1)\n",
    "                plt.text(clm,row,f'{number}k',ha='center',va='center',fontsize=fontsize,fontweight='bold')\n",
    "            elif print_pct:\n",
    "                pct = int(np.round(intersection_fraction[row,clm]*100))\n",
    "                plt.text(clm,row,f'{pct}%',ha='center',va='center',fontsize=fontsize,fontweight='bold')\n",
    "            else:\n",
    "                plt.text(clm,row,'%u'%int(intersection_fraction[row,clm]),ha='center',va='center',fontsize=fontsize,fontweight='bold')"
   ]
  },
  {
   "cell_type": "code",
   "execution_count": 11,
   "metadata": {},
   "outputs": [
    {
     "name": "stderr",
     "output_type": "stream",
     "text": [
      "tcmalloc: large alloc 4438712320 bytes == 0x17c0c000 @ \n",
      "tcmalloc: large alloc 4438712320 bytes == 0x120522000 @ \n",
      "tcmalloc: large alloc 4438712320 bytes == 0x237f4c000 @ \n",
      "tcmalloc: large alloc 4438712320 bytes == 0x340862000 @ \n",
      "tcmalloc: large alloc 4438712320 bytes == 0x449978000 @ \n",
      "tcmalloc: large alloc 4429291520 bytes == 0x17c0c000 @ \n",
      "tcmalloc: large alloc 4429291520 bytes == 0x449978000 @ \n",
      "tcmalloc: large alloc 4429291520 bytes == 0x11fc26000 @ \n",
      "tcmalloc: large alloc 4429291520 bytes == 0x237f4c000 @ \n",
      "tcmalloc: large alloc 4429291520 bytes == 0x33ff66000 @ \n",
      "tcmalloc: large alloc 4628766720 bytes == 0x237f4c000 @ \n",
      "tcmalloc: large alloc 4628766720 bytes == 0x17c0c000 @ \n",
      "tcmalloc: large alloc 4628766720 bytes == 0x449978000 @ \n",
      "tcmalloc: large alloc 5172264960 bytes == 0x17c0c000 @ \n"
     ]
    },
    {
     "data": {
      "image/png": "[encoded data removed]",
      "text/plain": [
       "<Figure size 450x405 with 8 Axes>"
      ]
     },
     "metadata": {},
     "output_type": "display_data"
    }
   ],
   "source": [
    "ncols = 6\n",
    "figheight_in = PAGEWIDTH_IN/ncols * 5.4\n",
    "\n",
    "path='figures/S_ziegenhain_overlap.pdf'\n",
    "\n",
    "with mpl.rc_context(PAPER_CONTEXT):\n",
    "    \n",
    "    gridrows = 24\n",
    "    \n",
    "    fig = plt.figure(figsize=(PAGEWIDTH_IN,figheight_in))\n",
    "    axes_toprow = np.array([plt.subplot2grid(shape=(gridrows,ncols),   loc=(0, col), colspan=1,rowspan=5) for col in range(6)])\n",
    "    ax_left = plt.subplot2grid(    shape=(gridrows,ncols),   loc=(5, 0),    colspan=3,rowspan=19)\n",
    "    ax_right = plt.subplot2grid(   shape=(gridrows,ncols),   loc=(5, 3),    colspan=3,rowspan=19)\n",
    "    axes_all = list(axes_toprow) + [ax_left] + [ax_right]\n",
    "\n",
    "\n",
    "    \n",
    "    plot_mean_vs(adatas_by_exp_A,axes=axes_toprow,\n",
    "                 ykey='ff_reads',xkey='mean_reads',s=POINTSIZE,)\n",
    "    \n",
    "    \n",
    "    min_y = min([min(ad.var['ff_reads']) for ad in adatas_by_exp_A])\n",
    "    max_y = max([max(ad.var['ff_reads']) for ad in adatas_by_exp_A])\n",
    "    min_x = min([min(ad.var['mean_reads']) for ad in adatas_by_exp_A])\n",
    "    max_x = max([max(ad.var['mean_reads']) for ad in adatas_by_exp_A])\n",
    "    \n",
    "    for ad,ax in zip(adatas_by_exp_A,axes_toprow):\n",
    "        ax.hlines(ad.uns['bottom_criterion_cutoff'],\n",
    "                  xmin=min_x,\n",
    "                  xmax=max_x,\n",
    "                  lw=LINEWIDTH,\n",
    "                  color='tab:red',\n",
    "                  linestyles='--',\n",
    "                  label=f'Lowest\\n{n_bottom}')\n",
    "    axes_toprow[0].legend(loc=(0,0.75),frameon=False)\n",
    "    axes_toprow[0].set_ylabel('Fano factor')\n",
    "    \n",
    "    [ax.set_xlim(min_x,max_x) for ax in axes_toprow]\n",
    "    [ax.set_ylim(min_y,max_y) for ax in axes_toprow]\n",
    "    [ax.set_yticks([10**0,10**2,10**4]) for ax in axes_toprow]\n",
    "    [ax.set_yticklabels([]) for ax in axes_toprow[1:]]\n",
    "    [ax.set_xticks([10**-2,10**1,10**4]) for ax in axes_toprow]\n",
    "    [ax.set_xlabel('Mean expr.',labelpad=-2) for ax in axes_toprow]\n",
    "    \n",
    "    plt.minorticks_off()\n",
    "    run_labels = [ad.uns['plotlabel'] for ad in adatas_by_exp]\n",
    "    \n",
    "    ax_left.set_title('Number of shared genes with low FF')\n",
    "    plot_intersection_matrix(intersection_matrix_raw,run_labels,print_floats=False,print_thousands=True,ax=ax_left,fontsize=LEGEND_FONTSIZE)\n",
    "    \n",
    "    plot_intersection_matrix(intersection_matrix_raw/chance_intersections,run_labels,ax=ax_right,fontsize=LEGEND_FONTSIZE)\n",
    "    ax_right.set_yticklabels([])    \n",
    "    ax_right.set_title('[Observed / Expected] shared low FF genes')\n",
    "\n",
    "    letters=['a','b','c','d','e','f',\n",
    "            'g','h']\n",
    "    x_corrections=[0.12]*5 + [0.15] + [0.2, 0.29]\n",
    "    y_corrections=[0.15]*6 + [0.09]*2\n",
    "    for i,(ax,letter,letter_x_correction,letter_y_correction) in enumerate(zip(axes_all,letters,x_corrections,y_corrections)):        \n",
    "        if i<6:\n",
    "            sns.despine(ax=ax)\n",
    "            axes=['bottom','left']\n",
    "        else:\n",
    "            axes=['bottom','left','top','right']            \n",
    "        for axis in axes:\n",
    "            ax.spines[axis].set_linewidth(SPINEWIDTH)\n",
    "        ax.text(LETTER_LOC_X+letter_x_correction,LETTER_LOC_Y+letter_y_correction,letter,transform=ax.transAxes,fontweight='bold')\n",
    "        \n",
    "    fig.savefig(path, dpi=300, format=None, bbox_inches = 'tight', pad_inches = 0)"
   ]
  },
  {
   "cell_type": "code",
   "execution_count": null,
   "metadata": {},
   "outputs": [],
   "source": []
  }
 ],
 "metadata": {
  "kernelspec": {
   "display_name": "Python 3 (ipykernel)",
   "language": "python",
   "name": "python3"
  },
  "language_info": {
   "codemirror_mode": {
    "name": "ipython",
    "version": 3
   },
   "file_extension": ".py",
   "mimetype": "text/x-python",
   "name": "python",
   "nbconvert_exporter": "python",
   "pygments_lexer": "ipython3",
   "version": "3.8.10"
  }
 },
 "nbformat": 4,
 "nbformat_minor": 4
}
