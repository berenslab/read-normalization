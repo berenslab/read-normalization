{
 "cells": [
  {
   "cell_type": "code",
   "execution_count": 1,
   "id": "93a983c4-19a3-42ed-92f2-8c7e7dedaa20",
   "metadata": {},
   "outputs": [],
   "source": [
    "import anndata\n",
    "from scipy.io import mmread"
   ]
  },
  {
   "cell_type": "code",
   "execution_count": 2,
   "id": "796f7be1-ae2f-412c-abc3-52df176da0a6",
   "metadata": {},
   "outputs": [
    {
     "name": "stderr",
     "output_type": "stream",
     "text": [
      "tcmalloc: large alloc 1545371648 bytes == 0x5f7f6000 @ \n"
     ]
    },
    {
     "name": "stdout",
     "output_type": "stream",
     "text": [
      "CPU times: user 5min 14s, sys: 1.93 s, total: 5min 16s\n",
      "Wall time: 5min 16s\n"
     ]
    }
   ],
   "source": [
    "%%time\n",
    "#5min\n",
    "qumis_transposed = mmread('data/tasic/qumi_transposed.mtx')"
   ]
  },
  {
   "cell_type": "code",
   "execution_count": 3,
   "id": "dec8b688-1daf-43ae-95c4-bcbc71427acb",
   "metadata": {},
   "outputs": [
    {
     "name": "stderr",
     "output_type": "stream",
     "text": [
      "tcmalloc: large alloc 1545371648 bytes == 0x117b86000 @ \n"
     ]
    },
    {
     "name": "stdout",
     "output_type": "stream",
     "text": [
      "CPU times: user 6min 21s, sys: 3.33 s, total: 6min 24s\n",
      "Wall time: 6min 24s\n"
     ]
    }
   ],
   "source": [
    "%%time\n",
    "#6min\n",
    "census_transposed = mmread('data/tasic/census_transposed.mtx')"
   ]
  },
  {
   "cell_type": "code",
   "execution_count": 4,
   "id": "9d8da830-13c9-4afc-833a-3e0b975337a0",
   "metadata": {},
   "outputs": [
    {
     "name": "stderr",
     "output_type": "stream",
     "text": [
      "tcmalloc: large alloc 5305827328 bytes == 0x1d2e32000 @ \n"
     ]
    },
    {
     "name": "stdout",
     "output_type": "stream",
     "text": [
      "CPU times: user 692 ms, sys: 4.41 s, total: 5.1 s\n",
      "Wall time: 49.1 s\n"
     ]
    },
    {
     "name": "stderr",
     "output_type": "stream",
     "text": [
      "/usr/local/lib/python3.8/dist-packages/anndata/_core/anndata.py:121: ImplicitModificationWarning: Transforming to str index.\n",
      "  warnings.warn(\"Transforming to str index.\", ImplicitModificationWarning)\n",
      "/usr/local/lib/python3.8/dist-packages/anndata/_core/anndata.py:1830: UserWarning: Variable names are not unique. To make them unique, call `.var_names_make_unique`.\n",
      "  utils.warn_names_duplicates(\"var\")\n"
     ]
    }
   ],
   "source": [
    "%%time\n",
    "#30sec\n",
    "adata_qumi_census = anndata.read_h5ad('data/tasic/adata_tpm.h5ad')"
   ]
  },
  {
   "cell_type": "code",
   "execution_count": 5,
   "id": "ac923473-613f-40a3-aa8c-648c22f53cce",
   "metadata": {},
   "outputs": [
    {
     "name": "stderr",
     "output_type": "stream",
     "text": [
      "tcmalloc: large alloc 1545371648 bytes == 0x33de5a000 @ \n"
     ]
    }
   ],
   "source": [
    "adata_qumi_census.layers['qumis'] = qumis_transposed.T.tocsc()\n",
    "adata_qumi_census.layers['census'] = census_transposed.T.tocsc()\n",
    "adata_qumi_census.layers['readcounts'] = adata_qumi_census.X.astype(int)"
   ]
  },
  {
   "cell_type": "code",
   "execution_count": 6,
   "id": "3be38def-65af-4360-9f9e-249d65c5471c",
   "metadata": {},
   "outputs": [],
   "source": [
    "adata_qumi_census.var_names_make_unique()\n",
    "adata_qumi_census.write_h5ad('data/tasic/adata_qumi_census.h5ad')"
   ]
  }
 ],
 "metadata": {
  "kernelspec": {
   "display_name": "Python 3 (ipykernel)",
   "language": "python",
   "name": "python3"
  },
  "language_info": {
   "codemirror_mode": {
    "name": "ipython",
    "version": 3
   },
   "file_extension": ".py",
   "mimetype": "text/x-python",
   "name": "python",
   "nbconvert_exporter": "python",
   "pygments_lexer": "ipython3",
   "version": "3.8.10"
  }
 },
 "nbformat": 4,
 "nbformat_minor": 5
}
