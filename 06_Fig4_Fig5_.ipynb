{
 "cells": [
  {
   "cell_type": "code",
   "execution_count": 1,
   "metadata": {},
   "outputs": [],
   "source": [
    "import numpy as np\n",
    "import pandas as pd\n",
    "import pickle\n",
    "\n",
    "import seaborn as sns\n",
    "import matplotlib.pyplot as plt\n",
    "import matplotlib as mpl\n",
    "\n",
    "from readcount_tools import broken_zeta, add_largedot_legend\n",
    "#import plotting constants\n",
    "from readcount_tools import PAPER_CONTEXT, PAGEWIDTH_IN, POINTSIZE_HIGHLIGHT,POINTSIZE_SMALL,SMALL_SIZE,MEDIUM_SIZE,BIGGER_SIZE,LINEWIDTH,POINTSIZE,TICKLENGTH,LEGEND_FONTSIZE,SPINEWIDTH,LETTER_LOC_X,LETTER_LOC_Y"
   ]
  },
  {
   "cell_type": "markdown",
   "metadata": {
    "tags": []
   },
   "source": [
    "### Load preproc results"
   ]
  },
  {
   "cell_type": "code",
   "execution_count": 2,
   "metadata": {},
   "outputs": [],
   "source": [
    "basepath = 'data/reads_per_umi_tables/'"
   ]
  },
  {
   "cell_type": "code",
   "execution_count": 3,
   "metadata": {},
   "outputs": [
    {
     "name": "stderr",
     "output_type": "stream",
     "text": [
      "tcmalloc: large alloc 1073741824 bytes == 0x76e60000 @ \n",
      "tcmalloc: large alloc 2147483648 bytes == 0xf1712000 @ \n",
      "tcmalloc: large alloc 4294967296 bytes == 0x1f79b0000 @ \n"
     ]
    },
    {
     "name": "stdout",
     "output_type": "stream",
     "text": [
      "CPU times: user 46.3 s, sys: 29.2 s, total: 1min 15s\n",
      "Wall time: 1min 15s\n"
     ]
    }
   ],
   "source": [
    "%%time\n",
    "#1min30sec\n",
    "with open(f'{basepath}reads_per_umi_dfs_hd1_preproc.pickle','rb') as f:\n",
    "    dfs = pickle.load(f) "
   ]
  },
  {
   "cell_type": "markdown",
   "metadata": {
    "tags": []
   },
   "source": [
    "### Prepare Fig3"
   ]
  },
  {
   "cell_type": "code",
   "execution_count": 4,
   "metadata": {},
   "outputs": [],
   "source": [
    "exps = [df.index[0] for df in dfs]\n",
    "protocols = [e.replace('_Fibroblast_PE','P').replace('_Fibroblast','S') for e in exps]\n",
    "runs = [p[-1] for p in protocols]\n",
    "runs = [r.replace('P','PE') for r in runs]\n",
    "runs = [r.replace('S','SE') for r in runs]\n",
    "protocols = [p[:-1] for p in protocols]\n",
    "colormap = {'CELseq2':'tab:blue', \n",
    "            'DropSeq':'tab:orange', \n",
    "            'MARSseq':'tab:green', \n",
    "            'SCRBseq':'tab:red', \n",
    "            'Smartseq3':'tab:brown',\n",
    "            '':'tab:olive',}\n",
    "prot2print = dict(CELseq2='CEL-seq2',\n",
    "                    DropSeq='Drop-seq',\n",
    "                    MARSseq='MARS-seq',\n",
    "                    SCRBseq='SCRB-seq',\n",
    "                    Smartseq3='Smart-seq3')"
   ]
  },
  {
   "cell_type": "markdown",
   "metadata": {
    "tags": []
   },
   "source": [
    "### Figure 3: Paper version"
   ]
  },
  {
   "cell_type": "code",
   "execution_count": 5,
   "metadata": {},
   "outputs": [
    {
     "data": {
      "image/png": "[encoded data removed]",
      "text/plain": [
       "<Figure size 450x225 with 5 Axes>"
      ]
     },
     "metadata": {},
     "output_type": "display_data"
    }
   ],
   "source": [
    "ncols = 2\n",
    "figheight_in = PAGEWIDTH_IN/ncols\n",
    "\n",
    "path='figures/main_observed_amplification.pdf'\n",
    "with mpl.rc_context(PAPER_CONTEXT):\n",
    "    \n",
    "    fig = plt.figure(figsize=(PAGEWIDTH_IN,figheight_in), constrained_layout=True)\n",
    "    spec = fig.add_gridspec(2, 4)\n",
    "\n",
    "    ax_big = fig.add_subplot(spec[:2, :2])\n",
    "    ax00 = fig.add_subplot(spec[0, 2])\n",
    "    ax01 = fig.add_subplot(spec[0, 3])\n",
    "    ax10 = fig.add_subplot(spec[1, 2])\n",
    "    ax11 = fig.add_subplot(spec[1, 3])\n",
    "\n",
    "    axmap = {'CELseq2':ax00, 'DropSeq':ax01, 'MARSseq':ax10, 'SCRBseq':ax_big, 'Smartseq3':ax11}\n",
    "\n",
    "    for df,exp,protocol,run in zip(dfs,exps,protocols,runs):  \n",
    "        \n",
    "        if protocol=='Smartseq3xpress':\n",
    "            protocol = 'Smartseq3'\n",
    "            run = 'Xpress'\n",
    "            color = 'tab:olive'\n",
    "            zorder=4\n",
    "        elif run=='SE':\n",
    "            color = 'tab:pink'\n",
    "            zorder=4\n",
    "        elif run=='A':\n",
    "            color = colormap[protocol]\n",
    "            zorder=4\n",
    "        else:\n",
    "            color = 'tab:gray'\n",
    "            zorder=3\n",
    "            \n",
    "        ax = axmap[protocol]\n",
    "        if run == 'SE':\n",
    "            runlabel = 'A'\n",
    "        elif run == 'PE':\n",
    "            runlabel = 'B'\n",
    "        else:\n",
    "            runlabel = run\n",
    "        \n",
    "        reads_per_umi,abs_frequency = np.unique(df['N'],return_counts=True)\n",
    "        rel_frequency = abs_frequency/sum(abs_frequency)\n",
    "        ax.scatter(reads_per_umi,rel_frequency,\n",
    "                   label=runlabel,c=color,\n",
    "                   linewidth=0,s=POINTSIZE,rasterized=True,zorder=zorder)\n",
    "\n",
    "        ax.set_yscale('log')\n",
    "        ax.set_xscale('log')\n",
    "        if protocol == 'SCRBseq':\n",
    "            ax.set_ylabel('Relative frequency')\n",
    "            ax.set_xlabel('Reads per UMI (copy number)')\n",
    "            plt.sca(ax)\n",
    "            plt.xticks([10**0, 10**1, 10**2, 10**3, 10**4])\n",
    "            plt.yticks([10**-8,10**-6,10**-4,10**-2,10**0]) \n",
    "        elif protocol in ['MARSseq','Smartseq3']:\n",
    "            ax.set_xlabel('Reads per UMI')\n",
    "            plt.sca(ax)\n",
    "            plt.xticks([10**0,10**2,10**4])\n",
    "            plt.yticks([10**-8,10**-4,10**0])\n",
    "        else:\n",
    "            plt.sca(ax)\n",
    "            plt.xticks([10**0,10**2,10**4])\n",
    "            plt.yticks([10**-8,10**-4,10**0])\n",
    "\n",
    "        ax.minorticks_off()\n",
    "        \n",
    "\n",
    "        add_largedot_legend(ax,loc='upper right',kwargs=dict(fontsize=LEGEND_FONTSIZE,frameon=False))\n",
    "        ax.set_title(prot2print[protocol])\n",
    "        \n",
    "        ax.set_ylim(10**-8.3,10**0.3)\n",
    "        ax.set_xlim(10**-0.3,10**4.3)\n",
    "        \n",
    "        for axis in ['bottom','left']:\n",
    "            ax.spines[axis].set_linewidth(SPINEWIDTH)\n",
    "    \n",
    "    sns.despine()   \n",
    "        \n",
    "\n",
    "   \n",
    "    letters=['a','b','c','d','e']\n",
    "    x_corrections=[0.1,0,0,0,0]\n",
    "    y_corrections=[0.085,0.14,0.14,0.14,0.14]\n",
    "        \n",
    "    for ax,letter,x_corr,y_corr in zip([ax_big,ax00,ax01,ax10,ax11],letters,x_corrections,y_corrections):\n",
    "        ax.text(LETTER_LOC_X+x_corr,LETTER_LOC_Y+y_corr,letter,transform=ax.transAxes,fontweight='bold')\n",
    "    \n",
    "    plt.savefig(path, dpi=300, format=None, bbox_inches = 'tight', pad_inches = 0)"
   ]
  },
  {
   "cell_type": "markdown",
   "metadata": {},
   "source": [
    "### Table 1"
   ]
  },
  {
   "cell_type": "code",
   "execution_count": 6,
   "metadata": {},
   "outputs": [],
   "source": [
    "def get_observed_stats(dfs,quick=True):\n",
    "    if quick:\n",
    "        print('           \\tmax\\tmean\\tff\\tnum\\talpha',end='\\n')\n",
    "    else:\n",
    "        print('           \\tn\\tmax\\tmean\\tff\\tnum\\talpha',end='\\n')\n",
    "    stat_rows = []\n",
    "    for df in dfs:\n",
    "        \n",
    "        row = dict()\n",
    "        \n",
    "        exp_name = df.index.values[0]\n",
    "        if 'Smartseq3' in exp_name:\n",
    "            exp_name = exp_name.replace('Smartseq3_Fibroblast','Smrtsq3')\n",
    "            exp_name = exp_name.replace('Smartseq3xpress','Smrtsq3xpr')\n",
    "    \n",
    "        print(exp_name,end=':\\t')\n",
    "        if not quick:\n",
    "            n_cells = len(np.unique(df['RG']))\n",
    "            print(n_cells,end='\\t',sep='')\n",
    "\n",
    "        data = df['N'].values\n",
    "        max_=np.max(data)\n",
    "        print(int(max_),end='\\t',sep='')\n",
    "        mean=np.mean(data)\n",
    "        var=np.var(data)\n",
    "        print(np.round(mean,decimals=1),end='\\t',sep='')\n",
    "        print(np.round(var/mean,decimals=1),end='\\t',sep='')\n",
    "        print(len(data),end='\\t',sep='')\n",
    "        print(np.round(mean + (var/mean),decimals=1),end='\\t',sep='')\n",
    "        print('',end='\\n')\n",
    "        \n",
    "        row['exp'] = exp_name\n",
    "        row['mean'] = mean\n",
    "        row['ff']=var/mean\n",
    "        row['max']=max_\n",
    "        row['alpha']=row['mean']+row['ff']\n",
    "        row['n_UMIs']=len(data)\n",
    "        row['n_cells']=n_cells\n",
    "        stat_rows.append(row)\n",
    "    return pd.DataFrame(stat_rows)"
   ]
  },
  {
   "cell_type": "code",
   "execution_count": 7,
   "metadata": {},
   "outputs": [
    {
     "name": "stdout",
     "output_type": "stream",
     "text": [
      "           \tn\tmax\tmean\tff\tnum\talpha\n",
      "CELseq2A:\t34\t3476\t27.2\t107.5\t2140365\t134.8\t\n",
      "CELseq2B:\t37\t11092\t24.4\t199.8\t4303956\t224.2\t\n",
      "DropSeqA:\t42\t2463\t29.6\t284.2\t2506244\t313.8\t\n",
      "DropSeqB:\t34\t3718\t31.1\t414.1\t1272895\t445.2\t\n",
      "MARSseqA:\t29\t1624\t24.1\t132.1\t1342232\t156.2\t\n",
      "MARSseqB:\t36\t1719\t20.9\t107.0\t1903673\t128.0\t\n",
      "SCRBseqA:\t39\t4840\t9.7\t218.8\t9429371\t228.5\t\n",
      "SCRBseqB:\t45\t3276\t9.4\t159.3\t6800371\t168.7\t\n",
      "Smrtsq3:\t145\t1216\t5.4\t8.0\t21549849\t13.4\t\n",
      "Smrtsq3_PE:\t319\t989\t3.8\t4.5\t48073893\t8.3\t\n",
      "Smrtsq3xprA:\t96\t173\t1.3\t0.3\t6940889\t1.6\t\n",
      "CPU times: user 2min 53s, sys: 8.29 s, total: 3min 1s\n",
      "Wall time: 2min 58s\n"
     ]
    }
   ],
   "source": [
    "%%time\n",
    "observed_amp_stats_df = get_observed_stats(dfs,quick=False)\n",
    "observed_amp_stats_df.set_index('exp',inplace=True)"
   ]
  },
  {
   "cell_type": "code",
   "execution_count": 8,
   "metadata": {},
   "outputs": [
    {
     "data": {
      "text/plain": [
       "856"
      ]
     },
     "execution_count": 8,
     "metadata": {},
     "output_type": "execute_result"
    }
   ],
   "source": [
    "observed_amp_stats_df.n_cells.sum()"
   ]
  },
  {
   "cell_type": "code",
   "execution_count": 9,
   "metadata": {},
   "outputs": [
    {
     "data": {
      "text/plain": [
       "106263738"
      ]
     },
     "execution_count": 9,
     "metadata": {},
     "output_type": "execute_result"
    }
   ],
   "source": [
    "observed_amp_stats_df.n_UMIs.sum()"
   ]
  },
  {
   "cell_type": "markdown",
   "metadata": {
    "tags": []
   },
   "source": [
    "### Prepare Figure 4"
   ]
  },
  {
   "cell_type": "code",
   "execution_count": 10,
   "metadata": {},
   "outputs": [],
   "source": [
    "exp_fig4_name = 'DropSeqA'\n",
    "protocol_fig4='DropSeq'\n",
    "exp_fig4_id = np.where([np.array(exps)==exp_fig4_name])[1][0]"
   ]
  },
  {
   "cell_type": "code",
   "execution_count": 11,
   "metadata": {},
   "outputs": [
    {
     "name": "stdout",
     "output_type": "stream",
     "text": [
      "\t\tE_Z \t\t\tFF_Z\n",
      "observed\t29.633605107882552\t284.17879402825855\n",
      "simulated\t29.07421144948377\t284.12615547072755\n"
     ]
    }
   ],
   "source": [
    "obsdata = dfs[exp_fig4_id]['N']\n",
    "\n",
    "a1_sim= 1.4\n",
    "a2_sim= 4.5\n",
    "b_sim=500\n",
    "\n",
    "a1_grid= np.linspace(1.0,5.0, num=20)\n",
    "a2_grid= np.linspace(3.0, 10.0, num=20)\n",
    "breakpoint_grid= [b_sim]\n",
    "\n",
    "n_sim = len(obsdata)\n",
    "simdata,p = broken_zeta(a1=a1_sim,\n",
    "                      a2=a2_sim,\n",
    "                      breakpoint=b_sim,\n",
    "                      size=n_sim,return_p=True)\n",
    "\n",
    "print(f'\\t\\tE_Z \\t\\t\\tFF_Z')\n",
    "print('observed',np.mean(obsdata),np.var(obsdata)/np.mean(obsdata),sep='\\t')\n",
    "print('simulated',np.mean(simdata),np.var(simdata)/np.mean(simdata),sep='\\t')"
   ]
  },
  {
   "cell_type": "code",
   "execution_count": 12,
   "metadata": {},
   "outputs": [
    {
     "name": "stdout",
     "output_type": "stream",
     "text": [
      "CPU times: user 56.4 s, sys: 668 ms, total: 57.1 s\n",
      "Wall time: 57.1 s\n"
     ]
    }
   ],
   "source": [
    "%%time\n",
    "means = np.zeros((len(a1_grid),len(a2_grid),len(breakpoint_grid)))\n",
    "maxs = np.zeros((len(a1_grid),len(a2_grid),len(breakpoint_grid)))\n",
    "FFs = np.zeros((len(a1_grid),len(a2_grid),len(breakpoint_grid)))\n",
    "alphas = np.zeros((len(a1_grid),len(a2_grid),len(breakpoint_grid)))\n",
    "\n",
    "for i_a1,a1 in enumerate(a1_grid):\n",
    "    for i_a2,a2 in enumerate(a2_grid):\n",
    "        for i_breakpoint,breakpoint in enumerate(breakpoint_grid):\n",
    "            \n",
    "            x = broken_zeta(a1=a1,\n",
    "                      a2=a2,\n",
    "                      breakpoint=breakpoint,\n",
    "                      size=n_sim,z_max=1000000)\n",
    "            \n",
    "            means[i_a1,i_a2,i_breakpoint] = np.mean(x)\n",
    "            var  = np.var(x)\n",
    "            maxs[i_a1,i_a2,i_breakpoint] = np.max(x)            \n",
    "            FFs[i_a1,i_a2,i_breakpoint] = var / means[i_a1,i_a2,i_breakpoint]\n",
    "            alphas[i_a1,i_a2,i_breakpoint] = means[i_a1,i_a2,i_breakpoint] + FFs[i_a1,i_a2,i_breakpoint]"
   ]
  },
  {
   "cell_type": "code",
   "execution_count": 13,
   "metadata": {},
   "outputs": [
    {
     "data": {
      "text/plain": [
       "164318.0"
      ]
     },
     "execution_count": 13,
     "metadata": {},
     "output_type": "execute_result"
    }
   ],
   "source": [
    "np.max(maxs)"
   ]
  },
  {
   "cell_type": "markdown",
   "metadata": {
    "tags": []
   },
   "source": [
    "### Figure 4"
   ]
  },
  {
   "cell_type": "code",
   "execution_count": 14,
   "metadata": {},
   "outputs": [],
   "source": [
    "def plot_inset(ax):\n",
    "\n",
    "    ax.plot([10**0, 10**2],[10**0,10**-4],lw=LINEWIDTH,c='tab:red')\n",
    "    ax.text(10**1,10**-5.5,r'slope $a_1$',ha='center',rotation=334,c='tab:red',fontweight='bold',fontsize=LEGEND_FONTSIZE)\n",
    "\n",
    "    ax.plot([10**2, 10**3],[10**-4,10**-12],lw=LINEWIDTH,c='tab:green')\n",
    "    ax.text(10**2.8,10**-10.5,r'slope $a_2$',ha='center',rotation=298,c='tab:green',fontweight='bold',fontsize=LEGEND_FONTSIZE)\n",
    "\n",
    "    ax.vlines(10**2,10**-12,10**-1.2,linestyles=':',colors='tab:gray',lw=LINEWIDTH)\n",
    "    ax.text(10**2.2,10**-0.8,r'breakpoint $b$',ha='center',c='tab:gray',fontweight='bold',fontsize=LEGEND_FONTSIZE)\n",
    "\n",
    "    ax.set_ylabel(r'$p(z)$') \n",
    "    ax.set_yscale('log')\n",
    "    ax.set_xscale('log')\n",
    "\n",
    "    ax.set_xlabel('z')\n",
    "    \n",
    "    ax.set_xticks([])\n",
    "    ax.set_yticks([])\n",
    "    \n",
    "\n",
    "    for axis in ['bottom','left']:\n",
    "        ax.spines[axis].set_linewidth(SPINEWIDTH)\n",
    "\n",
    "    sns.despine(ax=ax)"
   ]
  },
  {
   "cell_type": "code",
   "execution_count": 15,
   "metadata": {},
   "outputs": [
    {
     "data": {
      "image/png": "[encoded data removed]",
      "text/plain": [
       "<Figure size 450x225 with 5 Axes>"
      ]
     },
     "metadata": {},
     "output_type": "display_data"
    }
   ],
   "source": [
    "ncols = 4\n",
    "figheight_in = PAGEWIDTH_IN/ncols * 2\n",
    "path='figures/main_dropseq_broken_zeta.pdf'\n",
    "with mpl.rc_context(PAPER_CONTEXT):\n",
    "    \n",
    "    fig = plt.figure(figsize=(PAGEWIDTH_IN,figheight_in))\n",
    "    spec = fig.add_gridspec(2, 4)\n",
    "\n",
    "    ax_big = fig.add_subplot(spec[:2, :2])\n",
    "    ax10 = fig.add_subplot(spec[1, 2])\n",
    "    ax11 = fig.add_subplot(spec[1, 3],sharey=ax10)\n",
    "    ax00 = fig.add_subplot(spec[0, 2],sharex=ax10)\n",
    "    ax01 = fig.add_subplot(spec[0, 3],sharey=ax00,sharex=ax11)\n",
    "    \n",
    "    ax_inset = ax_big.inset_axes([0.2,0.15,0.35,0.35])    \n",
    "\n",
    "    \n",
    "    reads_per_umi,abs_frequency = np.unique(obsdata,return_counts=True)\n",
    "    rel_frequency = abs_frequency/sum(abs_frequency)\n",
    "    ax_big.scatter(reads_per_umi,rel_frequency,\n",
    "                   label='Drop-seq (run A)',c=colormap[protocol_fig4],\n",
    "                   linewidth=0,s=POINTSIZE_HIGHLIGHT,rasterized=True)\n",
    "    ax_big.set_yscale('log')\n",
    "    ax_big.set_xscale('log')\n",
    "    ax_big.set_ylabel('Probability')\n",
    "    ax_big.set_xlabel('Reads per UMI')\n",
    "    ax_big.minorticks_off()\n",
    "    ax_big.set_ylim([10**-7,1])\n",
    "    sns.despine(ax=ax_big)\n",
    "\n",
    "    obs_max = np.max(obsdata)\n",
    "    x=np.arange(len(p))+1\n",
    "    pmf_label='Broken zeta PMF\\n' fr'($a_1={a1_sim}$, $a_2={a2_sim}$, $b={b_sim}$)'\n",
    "    ax_big.plot(x[:obs_max],p[:obs_max],'--',color='k',linewidth=LINEWIDTH,label=pmf_label)\n",
    "    add_largedot_legend(ax_big,loc='best',kwargs=dict(fontsize=LEGEND_FONTSIZE,frameon=False))\n",
    "    plot_inset(ax_inset)\n",
    "\n",
    "    \n",
    "    \n",
    "    ### HEATMAPS ###\n",
    "    all_data = np.array([means,FFs,maxs,alphas])\n",
    "    shared_map_data = np.array([means,FFs,alphas])\n",
    "    logmin_shared = np.log10(np.min(shared_map_data))\n",
    "    logmax_shared = np.log10(np.max(shared_map_data))\n",
    "    \n",
    "    for i,(ax,data,stat,title) in enumerate(zip([ax00,ax01,ax10,ax11],\n",
    "                                           [means,FFs,maxs,alphas],\n",
    "                                           ['mean','ff','max','alpha'],\n",
    "                                           [r'$E_Z$','$FF_Z$',r'$\\max(z)$',r'$\\alpha_Z$'])):\n",
    "        \n",
    "        data=data[:,:,0].T ##transpose to make a1 (first dimension in array) the x-axis dimension\n",
    "        tolerance_level=0.1\n",
    "        obs_stat_lo_tol = observed_amp_stats_df.loc['DropSeqA',stat] * (1-tolerance_level)\n",
    "        obs_stat_hi_tol = observed_amp_stats_df.loc['DropSeqA',stat] * (1+tolerance_level)\n",
    "        \n",
    "        sim_matching_obs_idx = (data >= obs_stat_lo_tol) & (data <= obs_stat_hi_tol)\n",
    "        y_match,x_match = np.where(sim_matching_obs_idx)\n",
    "        \n",
    "        sim_a1_idx = np.argmin(np.abs(a1_grid - a1_sim))\n",
    "        sim_a2_idx = np.argmin(np.abs(a2_grid - a2_sim))\n",
    "        \n",
    "        \n",
    "        if i in [2,3]:\n",
    "            ax.set_xlabel(r'Slope $a_1$',labelpad=10.25)\n",
    "            ax.set_xticks(ticks=np.arange(len(a1_grid))[::len(a1_grid)-1])\n",
    "            ax.set_xticklabels(labels=a1_grid[::len(a1_grid)-1])\n",
    "\n",
    "        if i in [0,2]:\n",
    "            ax.set_ylabel(r'Slope $a_2$',labelpad=-15)\n",
    "            ax.set_yticks(ticks=np.arange(len(a2_grid))[::len(a2_grid)-1])\n",
    "            ax.set_yticklabels(labels=np.round(a2_grid[::len(a2_grid)-1],decimals=1))\n",
    "            \n",
    "        ax.set_title(title)\n",
    "        if stat in ['mean','ff','alpha']:\n",
    "            im = ax.imshow(np.log10(data),origin='lower',cmap='Greys_r',vmin=logmin_shared,vmax=logmax_shared)\n",
    "            ticks=[logmin_shared,logmax_shared]\n",
    "        else:\n",
    "            im = ax.imshow(np.log10(data),origin='lower',cmap='Greys_r')\n",
    "            ticks=[np.log10(np.min(data)),np.log10(np.max(data))]\n",
    "        ax.scatter(x_match,y_match,s=POINTSIZE_HIGHLIGHT,c='tab:orange',linewidth=0)\n",
    "        ax.scatter(sim_a1_idx,sim_a2_idx,marker='s',facecolor='none',edgecolor='k',linewidth=LINEWIDTH,s=20)\n",
    "        \n",
    "        cax = ax.inset_axes([1.05,0.25,0.05,0.5])\n",
    "        cbar = plt.colorbar(im,cax=cax,ticks=ticks)\n",
    "        cbar_y =cbar.ax.get_yaxis()\n",
    "        cbar_ticklocs = cbar_y.get_ticklocs()\n",
    "        cbar_y.set_ticks(cbar_ticklocs)\n",
    "        cbar_y.set_ticklabels([fr'$10^{{{np.round(v,decimals=0).astype(int)}}}$' for v in cbar_ticklocs])\n",
    "        cbar.outline.set_linewidth(SPINEWIDTH)\n",
    "    \n",
    "    #hide y ticklabels in 2nd clm\n",
    "    plt.setp(ax01.get_yticklabels(), visible=False)\n",
    "    ax01.tick_params(axis='y',length=0)\n",
    "    plt.setp(ax11.get_yticklabels(), visible=False)\n",
    "    ax11.tick_params(axis='y',length=0)\n",
    "    \n",
    "    #hide x ticklabels in 1st row\n",
    "    plt.setp(ax00.get_xticklabels(), visible=False)\n",
    "    ax00.tick_params(axis='x',length=0)\n",
    "    plt.setp(ax01.get_xticklabels(), visible=False)\n",
    "    ax01.tick_params(axis='x',length=0)        \n",
    "    \n",
    "    plt.tight_layout()\n",
    "    \n",
    "    #panel letters\n",
    "    letters=['a','b','c','d','e']\n",
    "    x_corrections=[0.065,0,0,0,0]\n",
    "    y_corrections=[0.065,0.175,0.175,0.14,0.14]\n",
    "        \n",
    "    for i,(ax,letter,x_corr,y_corr) in enumerate(zip([ax_big,ax00,ax01,ax10,ax11,cax],letters,x_corrections,y_corrections)):\n",
    "        ax.text(LETTER_LOC_X+x_corr,LETTER_LOC_Y+y_corr,letter,transform=ax.transAxes,fontweight='bold')\n",
    "        if i == 0:\n",
    "            axes = ['bottom','left'],\n",
    "        else:\n",
    "            axes = ['bottom','left', 'top', 'right']\n",
    "        for axis in axes:\n",
    "            ax.spines[axis].set_linewidth(SPINEWIDTH)\n",
    "    \n",
    "    \n",
    "    fig.savefig(path, dpi=1000, format=None, bbox_inches = 'tight', pad_inches = 0)"
   ]
  },
  {
   "cell_type": "code",
   "execution_count": null,
   "metadata": {},
   "outputs": [],
   "source": []
  }
 ],
 "metadata": {
  "kernelspec": {
   "display_name": "Python 3 (ipykernel)",
   "language": "python",
   "name": "python3"
  },
  "language_info": {
   "codemirror_mode": {
    "name": "ipython",
    "version": 3
   },
   "file_extension": ".py",
   "mimetype": "text/x-python",
   "name": "python",
   "nbconvert_exporter": "python",
   "pygments_lexer": "ipython3",
   "version": "3.8.10"
  }
 },
 "nbformat": 4,
 "nbformat_minor": 4
}
