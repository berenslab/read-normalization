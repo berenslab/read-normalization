{
 "cells": [
  {
   "cell_type": "markdown",
   "metadata": {
    "tags": []
   },
   "source": [
    "## Load Tasic data"
   ]
  },
  {
   "cell_type": "code",
   "execution_count": 1,
   "metadata": {},
   "outputs": [],
   "source": [
    "import numpy as np\n",
    "import warnings\n",
    "import pandas as pd\n",
    "\n",
    "from scipy import sparse\n",
    "import pickle\n",
    "import anndata\n",
    "import scanpy as sc\n",
    "sc.settings.verbosity = 2\n",
    "import mygene\n",
    "mg = mygene.MyGeneInfo()\n",
    "\n",
    "from readcount_tools import compute_gene_stats"
   ]
  },
  {
   "cell_type": "markdown",
   "metadata": {},
   "source": [
    "#### Pre-load: pickle sparseload results"
   ]
  },
  {
   "cell_type": "code",
   "execution_count": 2,
   "metadata": {},
   "outputs": [],
   "source": [
    "basepath = 'data/tasic/'"
   ]
  },
  {
   "cell_type": "code",
   "execution_count": 3,
   "metadata": {},
   "outputs": [
    {
     "name": "stdout",
     "output_type": "stream",
     "text": [
      ".............................................. done\n"
     ]
    },
    {
     "name": "stderr",
     "output_type": "stream",
     "text": [
      "tcmalloc: large alloc 1819385856 bytes == 0xdbeb0000 @ \n"
     ]
    },
    {
     "name": "stdout",
     "output_type": "stream",
     "text": [
      "CPU times: user 2min 49s, sys: 6.24 s, total: 2min 56s\n",
      "Wall time: 2min 56s\n"
     ]
    }
   ],
   "source": [
    "%%time\n",
    "\n",
    "# Load the Allen institute data. This takes a few minutes\n",
    "\n",
    "# This function is needed because using Pandas to load these files in one go \n",
    "# can eat up a lot of RAM. So we are doing it in chunks, and converting each\n",
    "# chunk to the sparse matrix format on the fly.\n",
    "def sparseload(filenames):\n",
    "    genes = []\n",
    "    sparseblocks = []\n",
    "    areas = []\n",
    "    cells = []\n",
    "    for chunk1,chunk2 in zip(pd.read_csv(filenames[0], chunksize=1000, index_col=0, na_filter=False),\n",
    "                             pd.read_csv(filenames[1], chunksize=1000, index_col=0, na_filter=False)):\n",
    "        if len(cells)==0:\n",
    "            cells = np.concatenate((chunk1.columns, chunk2.columns))\n",
    "            areas = [0]*chunk1.columns.size + [1]*chunk2.columns.size\n",
    "        \n",
    "        genes.extend(list(chunk1.index))  #chunk1 and chunk2 have the same index/geneID sequence!\n",
    "        sparseblock1 = sparse.csr_matrix(chunk1.values.astype(float))\n",
    "        sparseblock2 = sparse.csr_matrix(chunk2.values.astype(float))\n",
    "        sparseblock = sparse.hstack((sparseblock1,sparseblock2), format='csr')\n",
    "        sparseblocks.append([sparseblock])\n",
    "        print('.', end='', flush=True)\n",
    "\n",
    "    print(' done')\n",
    "    counts = sparse.bmat(sparseblocks)\n",
    "    return (counts.T, np.array(genes), cells, np.array(areas))\n",
    "\n",
    "filenames = [f'{basepath}mouse_VISp_2018-06-14_exon-matrix.csv',\n",
    "             f'{basepath}mouse_ALM_2018-06-14_exon-matrix.csv']\n",
    "counts, genes, cells, areas = sparseload(filenames)"
   ]
  },
  {
   "cell_type": "code",
   "execution_count": 4,
   "metadata": {},
   "outputs": [
    {
     "name": "stdout",
     "output_type": "stream",
     "text": [
      "counts: (25481, 45768)\n",
      "genes: (45768,)\n",
      "cells: (25481,)\n",
      "areas: (25481,)\n"
     ]
    }
   ],
   "source": [
    "print('counts:',counts.shape)\n",
    "print('genes:',genes.shape)\n",
    "print('cells:',cells.shape)\n",
    "print('areas:',areas.shape)"
   ]
  },
  {
   "cell_type": "code",
   "execution_count": 5,
   "metadata": {},
   "outputs": [
    {
     "name": "stdout",
     "output_type": "stream",
     "text": [
      "goodCells: (23822,)\n",
      "cluster_ids: (23822,)\n",
      "labels: (23822,)\n",
      "colors: (23822,)\n"
     ]
    }
   ],
   "source": [
    "genesDF = pd.read_csv(f'{basepath}mouse_VISp_2018-06-14_genes-rows.csv')\n",
    "gene_ids     = genesDF['gene_entrez_id'].tolist()\n",
    "symbols = genesDF['gene_symbol'].tolist()\n",
    "id2symbol = dict(zip(gene_ids, symbols))\n",
    "genes = np.array([id2symbol[i] for i in gene_ids])\n",
    "\n",
    "clusterInfo = pd.read_csv(f'{basepath}sample_heatmap_plot_data.csv')\n",
    "# a total of 23822 good cells with cluster labels\n",
    "goodCells  = clusterInfo['sample_name'].values\n",
    "cluster_ids = clusterInfo['cluster_id'].values\n",
    "labels     = clusterInfo['cluster_label'].values\n",
    "colors     = clusterInfo['cluster_color'].values\n",
    "print('goodCells:',goodCells.shape)\n",
    "print('cluster_ids:',cluster_ids.shape)\n",
    "print('labels:',labels.shape)\n",
    "print('colors:',colors.shape)"
   ]
  },
  {
   "cell_type": "code",
   "execution_count": 6,
   "metadata": {},
   "outputs": [
    {
     "name": "stderr",
     "output_type": "stream",
     "text": [
      "tcmalloc: large alloc 1729986560 bytes == 0x17ee3c000 @ \n"
     ]
    }
   ],
   "source": [
    "#make a list of unique cluster names and cluster colors that maps cluster IDs to Names and Colors\n",
    "clusterNames  = np.array([labels[cluster_ids==i+1][0] for i in range(np.max(cluster_ids))])\n",
    "clusterColors = np.array([colors[cluster_ids==i+1][0] for i in range(np.max(cluster_ids))])\n",
    "#let cluster IDs start at 0\n",
    "clusters   = np.copy(cluster_ids) - 1\n",
    "\n",
    "#find index that maps from raw data cell order to good-cells order\n",
    "good_cells_order_idx = np.array([np.where(cells==c)[0][0] for c in goodCells])\n",
    "counts = counts[good_cells_order_idx, :]\n",
    "cells = cells[good_cells_order_idx]"
   ]
  },
  {
   "cell_type": "code",
   "execution_count": 7,
   "metadata": {},
   "outputs": [
    {
     "name": "stderr",
     "output_type": "stream",
     "text": [
      "/tmp/ipykernel_34177/1803155156.py:1: FutureWarning: X.dtype being converted to np.float32 from float64. In the next version of anndata (0.9) conversion will not be automatic. Pass dtype explicitly to avoid this warning. Pass `AnnData(X, dtype=X.dtype, ...)` to get the future behavour.\n",
      "  adata = anndata.AnnData(X=counts,\n"
     ]
    }
   ],
   "source": [
    "adata = anndata.AnnData(X=counts,\n",
    "                        obs=dict(clusters=clusters,\n",
    "                                 cells=np.array(cells)),\n",
    "                        var=dict(genes=genes),\n",
    "                        uns=dict(clustercolors=clusterColors,\n",
    "                                 clusternames=clusterNames))"
   ]
  },
  {
   "cell_type": "code",
   "execution_count": 8,
   "metadata": {},
   "outputs": [],
   "source": [
    "adata.obs['class'] =clusterInfo['class_label'].values\n",
    "adata.obs['non_neuronal_idx'] = np.isin(adata.obs['class'].values,['Endothelial', 'Non-Neuronal'])"
   ]
  },
  {
   "cell_type": "code",
   "execution_count": 9,
   "metadata": {},
   "outputs": [
    {
     "name": "stderr",
     "output_type": "stream",
     "text": [
      "tcmalloc: large alloc 1729986560 bytes == 0x10f79c000 @ \n",
      "tcmalloc: large alloc 1729986560 bytes == 0x1e68f8000 @ \n"
     ]
    },
    {
     "name": "stdout",
     "output_type": "stream",
     "text": [
      "filtered out 2992 genes that are detected in less than 1 cells\n"
     ]
    }
   ],
   "source": [
    "sc.pp.calculate_qc_metrics(adata, percent_top=None, log1p=False, inplace=True)\n",
    "sc.pp.filter_genes(adata,min_cells=1)"
   ]
  },
  {
   "cell_type": "code",
   "execution_count": 10,
   "metadata": {},
   "outputs": [],
   "source": [
    "markers = ['Snap25','Gad1','Slc17a7','Pvalb', 'Sst', 'Vip', 'Aqp4', \n",
    "           'Mog', 'Itgam', 'Pdgfra', 'Flt1', 'Bgn', 'Rorb', 'Foxp2']\n",
    "adata.var['marker_idx'] = np.isin(adata.var['genes'],markers)\n",
    "adata.uns['markers']=markers"
   ]
  },
  {
   "cell_type": "code",
   "execution_count": 11,
   "metadata": {},
   "outputs": [],
   "source": [
    "adata.var.set_index('genes',inplace=True)\n",
    "genesDF.set_index('gene_symbol',inplace=True)\n",
    "\n",
    "assert all(adata.var.index == pd.concat((genesDF,adata.var),axis=1,join='inner').index)\n",
    "adata.var = pd.concat((genesDF,adata.var),axis=1,join='inner')"
   ]
  },
  {
   "cell_type": "markdown",
   "metadata": {},
   "source": [
    "### Add gene annotations"
   ]
  },
  {
   "cell_type": "code",
   "execution_count": 12,
   "metadata": {},
   "outputs": [
    {
     "name": "stdout",
     "output_type": "stream",
     "text": [
      "querying 1-1000...done.\n",
      "querying 1001-2000...done.\n",
      "querying 2001-3000...done.\n",
      "querying 3001-4000...done.\n",
      "querying 4001-5000...done.\n",
      "querying 5001-6000...done.\n",
      "querying 6001-7000...done.\n",
      "querying 7001-8000...done.\n",
      "querying 8001-9000...done.\n",
      "querying 9001-10000...done.\n",
      "querying 10001-11000...done.\n",
      "querying 11001-12000...done.\n",
      "querying 12001-13000...done.\n",
      "querying 13001-14000...done.\n",
      "querying 14001-15000...done.\n",
      "querying 15001-16000...done.\n",
      "querying 16001-17000...done.\n",
      "querying 17001-18000...done.\n",
      "querying 18001-19000...done.\n",
      "querying 19001-20000...done.\n",
      "querying 20001-21000...done.\n",
      "querying 21001-22000...done.\n",
      "querying 22001-23000...done.\n",
      "querying 23001-24000...done.\n",
      "querying 24001-25000...done.\n",
      "querying 25001-26000...done.\n",
      "querying 26001-27000...done.\n",
      "querying 27001-28000...done.\n",
      "querying 28001-29000...done.\n",
      "querying 29001-30000...done.\n",
      "querying 30001-31000...done.\n",
      "querying 31001-32000...done.\n",
      "querying 32001-33000...done.\n",
      "querying 33001-34000...done.\n",
      "querying 34001-35000...done.\n",
      "querying 35001-36000...done.\n",
      "querying 36001-37000...done.\n",
      "querying 37001-38000...done.\n",
      "querying 38001-39000...done.\n",
      "querying 39001-40000...done.\n",
      "querying 40001-41000...done.\n",
      "querying 41001-42000...done.\n",
      "querying 42001-42776...done.\n",
      "Finished.\n",
      "538 input query terms found no hit:\n",
      "\t['73270', '74282', '619302', '69813', '100042464', '72937', '73001', '73133', '654799', '214604', '7\n",
      "Pass \"returnall=True\" to return complete lists of duplicate or missing query terms.\n"
     ]
    }
   ],
   "source": [
    "gene_entrez_id = adata.var['gene_entrez_id']\n",
    "gene_annotations = mg.querymany(list(gene_entrez_id), scopes='entrezgene',species='mouse',fields=['name','symbol','type_of_gene','ensembl.gene','ensembl.type_of_gene'],as_dataframe=True)\n",
    "\n",
    "#if any genes gave duplicate hits, we dont assign the annotations and add the `not_uniquely_assignable` category\n",
    "gene_annotation_names,n_hits = np.unique(gene_annotations.index,return_counts=True)\n",
    "\n",
    "if max(n_hits>1):\n",
    "    multi_hits = gene_annotation_names[n_hits>1]\n",
    "    gene_annotations_dedup = gene_annotations.drop(multi_hits)\n",
    "    #make and append one row for each of the multi hits\n",
    "    duplicates_df = pd.DataFrame({clm:{dup:'not_uniquely_assignable' for dup in multi_hits} for clm in gene_annotations.columns})\n",
    "    gene_annotations = pd.concat([gene_annotations_dedup,duplicates_df])"
   ]
  },
  {
   "cell_type": "code",
   "execution_count": 13,
   "metadata": {},
   "outputs": [],
   "source": [
    "gene_annotations = gene_annotations.fillna('missing')"
   ]
  },
  {
   "cell_type": "code",
   "execution_count": 14,
   "metadata": {},
   "outputs": [],
   "source": [
    "#update ad.var\n",
    "columns_to_keep = ['type_of_gene','symbol','name','ensembl.type_of_gene']\n",
    "columns_to_drop = [c for c in gene_annotations.columns if c not in columns_to_keep]\n",
    "gene_annotations_slim = gene_annotations.drop(columns=columns_to_drop)"
   ]
  },
  {
   "cell_type": "code",
   "execution_count": 15,
   "metadata": {},
   "outputs": [],
   "source": [
    "#make sure gene symbolic names are kept for all genes\n",
    "adata.var.index.name='genes'\n",
    "adata.var.reset_index(inplace=True)"
   ]
  },
  {
   "cell_type": "code",
   "execution_count": 16,
   "metadata": {},
   "outputs": [],
   "source": [
    "#prepare index for concat\n",
    "adata.var.set_index('gene_entrez_id',inplace=True)\n",
    "adata.var.index = adata.var.index.astype(str)\n",
    "adata.var = pd.concat((adata.var,gene_annotations_slim),axis=1)"
   ]
  },
  {
   "cell_type": "code",
   "execution_count": 17,
   "metadata": {},
   "outputs": [],
   "source": [
    "def add_coarse_gene_annotations_tasic(adata):\n",
    "\n",
    "    types = np.unique(gene_annotations['type_of_gene'].astype(str))\n",
    "    \n",
    "    fine2coarse_map={}\n",
    "    fine2coarse_map['protein-coding']='protein_coding'\n",
    "    fine2coarse_map['pseudo']='pseudogene'\n",
    "    fine2coarse_map['missing']='missing'\n",
    "\n",
    "\n",
    "\n",
    "    other_types = types[~np.isin(types,list(fine2coarse_map.keys()))]\n",
    "    for other_t in other_types:\n",
    "        fine2coarse_map[other_t] = 'other'\n",
    "        \n",
    "    \n",
    "    adata.var['coarse_types'] = adata.var['type_of_gene'].copy()\n",
    "    adata.var.replace({'coarse_types':fine2coarse_map},inplace=True)"
   ]
  },
  {
   "cell_type": "code",
   "execution_count": 18,
   "metadata": {},
   "outputs": [],
   "source": [
    "add_coarse_gene_annotations_tasic(adata)"
   ]
  },
  {
   "cell_type": "markdown",
   "metadata": {},
   "source": [
    "### Compute gene stats"
   ]
  },
  {
   "cell_type": "code",
   "execution_count": 19,
   "metadata": {},
   "outputs": [
    {
     "name": "stderr",
     "output_type": "stream",
     "text": [
      "tcmalloc: large alloc 4076044288 bytes == 0x24dad0000 @ \n",
      "tcmalloc: large alloc 4076044288 bytes == 0x340a08000 @ \n"
     ]
    }
   ],
   "source": [
    "#gene fields\n",
    "adata.var.set_index('genes',inplace=True,drop=False)\n",
    "adata.var.index.name = 'gene_name' #this is needed to be able to work with \"drop=False\" when saving to h5ad later!\n",
    "compute_gene_stats(adata)\n",
    "# rename fields to show they were created from all cells before splitting into clusters\n",
    "rename_dict_genes={}\n",
    "for key in adata.var_keys():\n",
    "    if key not in ['genes',\n",
    "                'gene_id',\n",
    "                'chromosome',\n",
    "                'gene_name',\n",
    "                'marker_idx',\n",
    "                'name',\n",
    "                'symbol',\n",
    "                'type_of_gene',\n",
    "                'ensembl.type_of_gene',\n",
    "                'coarse_types']:\n",
    "        rename_dict_genes[key]=key+'_allCells'\n",
    "adata.var.rename(columns=rename_dict_genes,inplace=True)\n",
    "adata.uns['markernames'] = adata.uns.pop('markers')"
   ]
  },
  {
   "cell_type": "code",
   "execution_count": 20,
   "metadata": {},
   "outputs": [],
   "source": [
    "#cell fields\n",
    "#set obs index to cell ID\n",
    "adata.obs.set_index('cells',inplace=True)\n",
    "#decode clustercolors per observation\n",
    "adata.obs['clustercolor'] = adata.uns['clustercolors'][adata.obs['clusters']]\n",
    "# rename fields to show they were created from all cells before splitting into clusters\n",
    "rename_dict_cells={}\n",
    "for key in adata.obs_keys():\n",
    "    if key not in ['clusters', 'areas','class', 'non_neuronal_idx', 'clustercolor']:\n",
    "        rename_dict_cells[key]=key+'_allGenes'\n",
    "adata.obs.rename(columns=rename_dict_cells,inplace=True)"
   ]
  },
  {
   "cell_type": "code",
   "execution_count": 21,
   "metadata": {},
   "outputs": [],
   "source": [
    "metadata = pd.read_excel(f'{basepath}Supplementary_Table_10_Full_Metadata.xls')\n",
    "metadata = metadata.set_index('sample_name')"
   ]
  },
  {
   "cell_type": "code",
   "execution_count": 22,
   "metadata": {},
   "outputs": [],
   "source": [
    "keep = ['sample_id', 'subclass', 'cluster']"
   ]
  },
  {
   "cell_type": "code",
   "execution_count": 23,
   "metadata": {},
   "outputs": [
    {
     "data": {
      "text/plain": [
       "Index(['clusters', 'class', 'non_neuronal_idx', 'n_genes_by_counts_allGenes',\n",
       "       'total_counts_allGenes', 'clustercolor', 'sample_id', 'subclass',\n",
       "       'clustername'],\n",
       "      dtype='object')"
      ]
     },
     "execution_count": 23,
     "metadata": {},
     "output_type": "execute_result"
    }
   ],
   "source": [
    "metadata_to_keep = metadata[keep]\n",
    "metadata_to_keep = metadata_to_keep.rename(columns={\"cluster\":\"clustername\"})\n",
    "#remove metadata of cells for which we dont have cluster info\n",
    "metadata_to_keep = metadata_to_keep.loc[adata.obs.index]\n",
    "\n",
    "adata.obs = pd.concat((adata.obs,metadata_to_keep),axis=1)\n",
    "adata.obs.columns"
   ]
  },
  {
   "cell_type": "code",
   "execution_count": 24,
   "metadata": {},
   "outputs": [],
   "source": [
    "adata.var_names_make_unique()\n",
    "adata.write_h5ad(f'{basepath}adata.h5ad')"
   ]
  },
  {
   "cell_type": "markdown",
   "metadata": {},
   "source": [
    "### Split by cluster"
   ]
  },
  {
   "cell_type": "code",
   "execution_count": 25,
   "metadata": {},
   "outputs": [],
   "source": [
    "def split_by_cluster(adata):\n",
    "    adatas_by_cluster = []\n",
    "    cluster_ids = []\n",
    "    cluster_names = []\n",
    "    cluster_colors = []\n",
    "    cluster_ncells = []\n",
    "    cluster_ngenes = []\n",
    "    cluster_lvl1 = []\n",
    "    cluster_lvl2 = []\n",
    "    cluster_class = []\n",
    "    #make list of adatas for each cluster\n",
    "    for c in np.unique(adata.obs.clusters):\n",
    "        adata_c = adata[adata.obs.clusters==c].copy()\n",
    "\n",
    "        adata_c.uns['cluster_id'] = c\n",
    "        adata_c.uns['clustername'] = adata.uns['clusternames'][c]\n",
    "        adata_c.uns['clustercolor'] = adata.uns['clustercolors'][c]\n",
    "\n",
    "        sc.pp.filter_genes(adata_c,min_cells=1,inplace=True)\n",
    "        adata_c.var.rename(columns=dict(n_cells='n_cells_withinCluster'),inplace=True)\n",
    "        ncells,ngenes=adata_c.shape\n",
    "\n",
    "        adatas_by_cluster.append(adata_c)\n",
    "        cluster_ids.append(adata_c.uns['cluster_id'])\n",
    "        cluster_names.append(adata_c.uns['clustername'])\n",
    "        cluster_colors.append(adata_c.uns['clustercolor'])\n",
    "        cluster_ncells.append(ncells)\n",
    "        cluster_ngenes.append(ngenes)\n",
    "        levels = adata_c.uns['clustername'].split(' ')\n",
    "        cluster_lvl1.append(levels[0])\n",
    "        cluster_lvl2.append(levels[1])\n",
    "        cluster_cl = np.unique(adata_c.obs['class'])\n",
    "        assert len(cluster_cl)==1 #uniqueness assumption\n",
    "        cluster_class.append(cluster_cl[0])\n",
    "\n",
    "    #lookup-dataframe that indexes the cluster list of adatas\n",
    "    cluster_df = pd.DataFrame(data=dict(name=cluster_names,\n",
    "                                        ncells=cluster_ncells,\n",
    "                                        ngenes=cluster_ngenes,\n",
    "                                        color=cluster_colors,\n",
    "                                        level1=cluster_lvl1,\n",
    "                                        level2=cluster_lvl2,\n",
    "                                        cluster_class=cluster_class,\n",
    "                                        cluster_id=cluster_ids))\n",
    "\n",
    "    for ad in adatas_by_cluster:\n",
    "        compute_gene_stats(ad,suffix='_withinCluster')\n",
    "\n",
    "    with open(f'{basepath}cluster_df.pickle','wb') as f:\n",
    "        pickle.dump(cluster_df,f)\n",
    "    with open(f'{basepath}adatas_by_cluster.pickle','wb') as f:\n",
    "        pickle.dump(adatas_by_cluster,f)\n",
    "    return cluster_df, adatas_by_cluster"
   ]
  },
  {
   "cell_type": "code",
   "execution_count": 26,
   "metadata": {},
   "outputs": [
    {
     "name": "stdout",
     "output_type": "stream",
     "text": [
      "filtered out 19179 genes that are detected in less than 1 cells\n",
      "filtered out 19771 genes that are detected in less than 1 cells\n",
      "filtered out 17895 genes that are detected in less than 1 cells\n",
      "filtered out 14889 genes that are detected in less than 1 cells\n",
      "filtered out 13194 genes that are detected in less than 1 cells\n",
      "filtered out 11145 genes that are detected in less than 1 cells\n",
      "filtered out 19271 genes that are detected in less than 1 cells\n",
      "filtered out 19748 genes that are detected in less than 1 cells\n",
      "filtered out 19366 genes that are detected in less than 1 cells\n",
      "filtered out 19817 genes that are detected in less than 1 cells\n",
      "filtered out 17673 genes that are detected in less than 1 cells\n",
      "filtered out 20662 genes that are detected in less than 1 cells\n",
      "filtered out 20764 genes that are detected in less than 1 cells\n",
      "filtered out 17431 genes that are detected in less than 1 cells\n",
      "filtered out 16439 genes that are detected in less than 1 cells\n",
      "filtered out 19891 genes that are detected in less than 1 cells\n",
      "filtered out 15300 genes that are detected in less than 1 cells\n",
      "filtered out 18154 genes that are detected in less than 1 cells\n",
      "filtered out 18353 genes that are detected in less than 1 cells\n",
      "filtered out 17981 genes that are detected in less than 1 cells\n",
      "filtered out 14643 genes that are detected in less than 1 cells\n",
      "filtered out 19318 genes that are detected in less than 1 cells\n",
      "filtered out 16882 genes that are detected in less than 1 cells\n",
      "filtered out 19367 genes that are detected in less than 1 cells\n",
      "filtered out 15909 genes that are detected in less than 1 cells\n",
      "filtered out 16048 genes that are detected in less than 1 cells\n",
      "filtered out 16775 genes that are detected in less than 1 cells\n",
      "filtered out 16888 genes that are detected in less than 1 cells\n",
      "filtered out 21050 genes that are detected in less than 1 cells\n",
      "filtered out 14793 genes that are detected in less than 1 cells\n",
      "filtered out 18914 genes that are detected in less than 1 cells\n",
      "filtered out 16267 genes that are detected in less than 1 cells\n",
      "filtered out 20517 genes that are detected in less than 1 cells\n",
      "filtered out 18797 genes that are detected in less than 1 cells\n",
      "filtered out 14219 genes that are detected in less than 1 cells\n",
      "filtered out 19175 genes that are detected in less than 1 cells\n",
      "filtered out 18698 genes that are detected in less than 1 cells\n",
      "filtered out 18755 genes that are detected in less than 1 cells\n",
      "filtered out 13343 genes that are detected in less than 1 cells\n",
      "filtered out 16816 genes that are detected in less than 1 cells\n",
      "filtered out 19142 genes that are detected in less than 1 cells\n",
      "filtered out 16819 genes that are detected in less than 1 cells\n",
      "filtered out 19470 genes that are detected in less than 1 cells\n",
      "filtered out 17276 genes that are detected in less than 1 cells\n",
      "filtered out 17911 genes that are detected in less than 1 cells\n",
      "filtered out 16786 genes that are detected in less than 1 cells\n",
      "filtered out 19200 genes that are detected in less than 1 cells\n",
      "filtered out 20148 genes that are detected in less than 1 cells\n",
      "filtered out 16423 genes that are detected in less than 1 cells\n",
      "filtered out 21376 genes that are detected in less than 1 cells\n",
      "filtered out 17354 genes that are detected in less than 1 cells\n",
      "filtered out 19284 genes that are detected in less than 1 cells\n",
      "filtered out 18970 genes that are detected in less than 1 cells\n",
      "filtered out 18037 genes that are detected in less than 1 cells\n",
      "filtered out 19169 genes that are detected in less than 1 cells\n",
      "filtered out 15744 genes that are detected in less than 1 cells\n",
      "filtered out 10787 genes that are detected in less than 1 cells\n",
      "filtered out 20113 genes that are detected in less than 1 cells\n",
      "filtered out 12235 genes that are detected in less than 1 cells\n",
      "filtered out 18423 genes that are detected in less than 1 cells\n",
      "filtered out 17475 genes that are detected in less than 1 cells\n",
      "filtered out 14645 genes that are detected in less than 1 cells\n",
      "filtered out 10391 genes that are detected in less than 1 cells\n",
      "filtered out 14831 genes that are detected in less than 1 cells\n",
      "filtered out 17036 genes that are detected in less than 1 cells\n",
      "filtered out 15341 genes that are detected in less than 1 cells\n",
      "filtered out 9358 genes that are detected in less than 1 cells\n",
      "filtered out 14793 genes that are detected in less than 1 cells\n",
      "filtered out 18771 genes that are detected in less than 1 cells\n",
      "filtered out 13136 genes that are detected in less than 1 cells\n",
      "filtered out 19998 genes that are detected in less than 1 cells\n",
      "filtered out 16074 genes that are detected in less than 1 cells\n",
      "filtered out 18563 genes that are detected in less than 1 cells\n",
      "filtered out 12494 genes that are detected in less than 1 cells\n",
      "filtered out 12649 genes that are detected in less than 1 cells\n",
      "filtered out 14487 genes that are detected in less than 1 cells\n",
      "filtered out 9594 genes that are detected in less than 1 cells\n",
      "filtered out 12235 genes that are detected in less than 1 cells\n",
      "filtered out 15710 genes that are detected in less than 1 cells\n",
      "filtered out 14986 genes that are detected in less than 1 cells\n",
      "filtered out 12330 genes that are detected in less than 1 cells\n",
      "filtered out 13319 genes that are detected in less than 1 cells\n",
      "filtered out 14728 genes that are detected in less than 1 cells\n",
      "filtered out 8862 genes that are detected in less than 1 cells\n",
      "filtered out 15659 genes that are detected in less than 1 cells\n",
      "filtered out 12856 genes that are detected in less than 1 cells\n",
      "filtered out 15148 genes that are detected in less than 1 cells\n",
      "filtered out 17991 genes that are detected in less than 1 cells\n",
      "filtered out 17943 genes that are detected in less than 1 cells\n",
      "filtered out 21290 genes that are detected in less than 1 cells\n",
      "filtered out 17278 genes that are detected in less than 1 cells\n",
      "filtered out 17061 genes that are detected in less than 1 cells\n",
      "filtered out 14345 genes that are detected in less than 1 cells\n",
      "filtered out 11383 genes that are detected in less than 1 cells\n",
      "filtered out 18201 genes that are detected in less than 1 cells\n",
      "filtered out 13053 genes that are detected in less than 1 cells\n",
      "filtered out 17023 genes that are detected in less than 1 cells\n",
      "filtered out 14951 genes that are detected in less than 1 cells\n",
      "filtered out 16584 genes that are detected in less than 1 cells\n",
      "filtered out 15470 genes that are detected in less than 1 cells\n",
      "filtered out 14459 genes that are detected in less than 1 cells\n",
      "filtered out 17779 genes that are detected in less than 1 cells\n",
      "filtered out 19403 genes that are detected in less than 1 cells\n",
      "filtered out 18477 genes that are detected in less than 1 cells\n",
      "filtered out 14894 genes that are detected in less than 1 cells\n",
      "filtered out 14370 genes that are detected in less than 1 cells\n",
      "filtered out 14674 genes that are detected in less than 1 cells\n",
      "filtered out 17202 genes that are detected in less than 1 cells\n",
      "filtered out 17145 genes that are detected in less than 1 cells\n",
      "filtered out 19440 genes that are detected in less than 1 cells\n",
      "filtered out 20390 genes that are detected in less than 1 cells\n",
      "filtered out 20383 genes that are detected in less than 1 cells\n",
      "filtered out 19773 genes that are detected in less than 1 cells\n",
      "filtered out 20782 genes that are detected in less than 1 cells\n",
      "filtered out 22495 genes that are detected in less than 1 cells\n",
      "filtered out 20891 genes that are detected in less than 1 cells\n",
      "filtered out 26247 genes that are detected in less than 1 cells\n",
      "filtered out 14467 genes that are detected in less than 1 cells\n",
      "filtered out 22608 genes that are detected in less than 1 cells\n",
      "filtered out 29880 genes that are detected in less than 1 cells\n",
      "filtered out 26747 genes that are detected in less than 1 cells\n",
      "filtered out 23245 genes that are detected in less than 1 cells\n",
      "filtered out 24380 genes that are detected in less than 1 cells\n",
      "filtered out 24409 genes that are detected in less than 1 cells\n",
      "filtered out 21842 genes that are detected in less than 1 cells\n",
      "filtered out 31654 genes that are detected in less than 1 cells\n",
      "filtered out 24534 genes that are detected in less than 1 cells\n",
      "filtered out 26781 genes that are detected in less than 1 cells\n",
      "filtered out 20743 genes that are detected in less than 1 cells\n",
      "filtered out 19433 genes that are detected in less than 1 cells\n",
      "filtered out 30841 genes that are detected in less than 1 cells\n",
      "filtered out 25482 genes that are detected in less than 1 cells\n",
      "filtered out 21583 genes that are detected in less than 1 cells\n"
     ]
    }
   ],
   "source": [
    "with warnings.catch_warnings(record=True):\n",
    "    warnings.filterwarnings(\"ignore\", category=FutureWarning,lineno=2487)\n",
    "    cluster_df, adatas_by_cluster = split_by_cluster(adata)"
   ]
  },
  {
   "cell_type": "markdown",
   "metadata": {},
   "source": [
    "### Select cluster for biologically homogeneous dataset"
   ]
  },
  {
   "cell_type": "code",
   "execution_count": 27,
   "metadata": {},
   "outputs": [],
   "source": [
    "#split by neuronal/non-neuronal types and sort\n",
    "non_neuronal_types = ['Non-Neuronal','Endothelial']\n",
    "cluster_df['non_neuronal_idx'] = np.isin(cluster_df['cluster_class'],non_neuronal_types)\n",
    "\n",
    "cluster_df_neuronal = cluster_df[~cluster_df['non_neuronal_idx']]\n",
    "\n",
    "cluster_df_neuronal_sorted = cluster_df_neuronal.sort_values('ncells',ascending=False)\n",
    "neuronal_clusters_ids_sorted = list(cluster_df_neuronal_sorted['cluster_id'])\n",
    "adatas_neuronal = [adatas_by_cluster[i] for i in neuronal_clusters_ids_sorted]"
   ]
  },
  {
   "cell_type": "code",
   "execution_count": 28,
   "metadata": {},
   "outputs": [
    {
     "name": "stdout",
     "output_type": "stream",
     "text": [
      "L6 IT VISp Penk Col27a1 (1049, 33914)\n"
     ]
    }
   ],
   "source": [
    "adata_single_cluster = adatas_neuronal[1]\n",
    "print(adata_single_cluster.uns['clustername'],adata_single_cluster.shape)"
   ]
  },
  {
   "cell_type": "markdown",
   "metadata": {},
   "source": [
    "### Get gene length data for single cluster data"
   ]
  },
  {
   "cell_type": "code",
   "execution_count": 29,
   "metadata": {},
   "outputs": [],
   "source": [
    "adata_single_cluster.var['gene_entrez_id'] = genesDF.loc[adata_single_cluster.var.index,'gene_entrez_id']"
   ]
  },
  {
   "cell_type": "code",
   "execution_count": 30,
   "metadata": {},
   "outputs": [],
   "source": [
    "adata_single_cluster.var['ensembl_gene'] = gene_annotations.loc[adata_single_cluster.var.gene_entrez_id.astype(str),'ensembl.gene'].values"
   ]
  },
  {
   "cell_type": "code",
   "execution_count": 31,
   "metadata": {},
   "outputs": [],
   "source": [
    "df_lengths = pd.read_csv(f'{basepath}mart_export_genelength.txt')\n",
    "df_lengths.set_index('Gene stable ID',inplace=True)\n",
    "ensemble_ids = np.unique(adata_single_cluster.var.ensembl_gene.dropna())"
   ]
  },
  {
   "cell_type": "code",
   "execution_count": 32,
   "metadata": {},
   "outputs": [],
   "source": [
    "adata_single_cluster.var['ensembl_gene'] = gene_annotations.loc[adata_single_cluster.var.gene_entrez_id.astype(str),'ensembl.gene'].values"
   ]
  },
  {
   "cell_type": "code",
   "execution_count": 33,
   "metadata": {},
   "outputs": [],
   "source": [
    "adata_single_cluster.var.set_index('ensembl_gene',inplace=True)\n",
    "\n",
    "adata_single_cluster.var['transcript_len_max'] = np.nan\n",
    "adata_single_cluster.var['n_transcripts'] = np.nan\n",
    "\n",
    "for e_id in ensemble_ids:\n",
    "    \n",
    "    #ignore cases where we dont have a length info\n",
    "    if e_id in df_lengths.index:\n",
    "    \n",
    "        df_gene = df_lengths.loc[e_id,:]\n",
    "            \n",
    "        #handle case where we only have one transcript = one length\n",
    "        if type(df_gene) is pd.core.series.Series:\n",
    "            lens = [df_gene['Transcript length (including UTRs and CDS)']]\n",
    "        else:\n",
    "            lens = df_gene['Transcript length (including UTRs and CDS)'].values\n",
    "            \n",
    "        #compute stats\n",
    "        n_transcripts = len(lens)\n",
    "        maxlen = np.max(lens)\n",
    "\n",
    "        #assign results only if the ensmbl ID is unique\n",
    "        if len(adata_single_cluster.var.loc[e_id,:].shape)==1:\n",
    "            adata_single_cluster.var.loc[e_id,'n_transcripts'] = n_transcripts\n",
    "            adata_single_cluster.var.loc[e_id,'transcript_len_max'] = maxlen   "
   ]
  },
  {
   "cell_type": "code",
   "execution_count": 34,
   "metadata": {},
   "outputs": [],
   "source": [
    "adata_single_cluster.var_names_make_unique()\n",
    "adata_single_cluster.write_h5ad(f'{basepath}adata_single_cluster.h5ad')"
   ]
  },
  {
   "cell_type": "code",
   "execution_count": null,
   "metadata": {},
   "outputs": [],
   "source": []
  }
 ],
 "metadata": {
  "kernelspec": {
   "display_name": "Python 3 (ipykernel)",
   "language": "python",
   "name": "python3"
  },
  "language_info": {
   "codemirror_mode": {
    "name": "ipython",
    "version": 3
   },
   "file_extension": ".py",
   "mimetype": "text/x-python",
   "name": "python",
   "nbconvert_exporter": "python",
   "pygments_lexer": "ipython3",
   "version": "3.8.10"
  }
 },
 "nbformat": 4,
 "nbformat_minor": 4
}
