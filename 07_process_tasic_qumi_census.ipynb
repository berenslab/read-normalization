{
 "cells": [
  {
   "cell_type": "code",
   "execution_count": 1,
   "id": "93a983c4-19a3-42ed-92f2-8c7e7dedaa20",
   "metadata": {},
   "outputs": [],
   "source": [
    "import anndata\n",
    "import numpy as np\n",
    "import scanpy as sc\n",
    "sc.settings.verbosity = 2\n",
    "import openTSNE\n",
    "from readcount_tools import readcount_pipeline"
   ]
  },
  {
   "cell_type": "code",
   "execution_count": 2,
   "id": "ee8cb54b-fde9-41ab-ad7f-c9af264a057f",
   "metadata": {},
   "outputs": [
    {
     "name": "stderr",
     "output_type": "stream",
     "text": [
      "tcmalloc: large alloc 1545371648 bytes == 0x63ed6000 @ \n",
      "tcmalloc: large alloc 1545371648 bytes == 0xee9f8000 @ \n",
      "tcmalloc: large alloc 1545371648 bytes == 0x17937a000 @ \n",
      "tcmalloc: large alloc 5305827328 bytes == 0x20400a000 @ \n"
     ]
    },
    {
     "name": "stdout",
     "output_type": "stream",
     "text": [
      "CPU times: user 1.73 s, sys: 7.2 s, total: 8.93 s\n",
      "Wall time: 19.9 s\n"
     ]
    },
    {
     "name": "stderr",
     "output_type": "stream",
     "text": [
      "/usr/local/lib/python3.8/dist-packages/anndata/_core/anndata.py:121: ImplicitModificationWarning: Transforming to str index.\n",
      "  warnings.warn(\"Transforming to str index.\", ImplicitModificationWarning)\n",
      "/usr/local/lib/python3.8/dist-packages/anndata/_core/anndata.py:1830: UserWarning: Variable names are not unique. To make them unique, call `.var_names_make_unique`.\n",
      "  utils.warn_names_duplicates(\"var\")\n"
     ]
    }
   ],
   "source": [
    "%%time\n",
    "#30sec\n",
    "adata_qumi_census_readcounts = anndata.read_h5ad('data/tasic/adata_qumi_census.h5ad')\n",
    "adata_qumi_census_readcounts.var_names_make_unique()"
   ]
  },
  {
   "cell_type": "code",
   "execution_count": 3,
   "id": "2e55438f-c764-45d5-ab94-980fdd898526",
   "metadata": {},
   "outputs": [
    {
     "name": "stderr",
     "output_type": "stream",
     "text": [
      "tcmalloc: large alloc 5305827328 bytes == 0x4e223c000 @ \n",
      "tcmalloc: large alloc 5305827328 bytes == 0x4b4158000 @ \n",
      "tcmalloc: large alloc 5305827328 bytes == 0x4b4158000 @ \n"
     ]
    }
   ],
   "source": [
    "adata_qumis = adata_qumi_census_readcounts.copy()\n",
    "adata_qumis.X = adata_qumi_census_readcounts.layers['qumis'].copy()\n",
    "del adata_qumis.layers\n",
    "\n",
    "adata_census = adata_qumi_census_readcounts.copy()\n",
    "adata_census.X = adata_qumi_census_readcounts.layers['census'].copy()\n",
    "del adata_census.layers\n",
    "\n",
    "adata_readcounts = adata_qumi_census_readcounts.copy()\n",
    "adata_readcounts.X = adata_qumi_census_readcounts.layers['readcounts'].copy()\n",
    "del adata_readcounts.layers\n",
    "adata_readcount_umi_processing = adata_readcounts.copy()"
   ]
  },
  {
   "cell_type": "code",
   "execution_count": 4,
   "id": "bc495871-5819-4c34-b6a4-94abad22013c",
   "metadata": {},
   "outputs": [],
   "source": [
    "n_hvgs=3000\n",
    "n_comps=1000"
   ]
  },
  {
   "cell_type": "code",
   "execution_count": 5,
   "id": "87b9ab49-ec3d-4d5d-b291-f7980e534f62",
   "metadata": {},
   "outputs": [],
   "source": [
    "def umi_pipeline(adata,n_comps,n_hvgs):\n",
    "        sc.pp.filter_genes(adata,min_cells=5)        \n",
    "        sc.experimental.pp.recipe_pearson_residuals(adata,n_comps=n_comps,n_top_genes=n_hvgs)\n",
    "        tsne = openTSNE.TSNE(random_state=42,verbose=True,n_jobs=38)\n",
    "        adata.obsm['tsne'] = np.array(tsne.fit(X=adata.obsm['X_pca']))"
   ]
  },
  {
   "cell_type": "code",
   "execution_count": 6,
   "id": "7ef9d9bd-de5d-4d01-8a5d-01cc9f1d58e6",
   "metadata": {
    "tags": []
   },
   "outputs": [
    {
     "name": "stdout",
     "output_type": "stream",
     "text": [
      "filtered out 2593 genes that are detected in less than 5 cells\n",
      "extracting highly variable genes\n"
     ]
    },
    {
     "name": "stderr",
     "output_type": "stream",
     "text": [
      "/gpfs01/berens/user/jlause/.local/lib/python3.8/site-packages/scanpy/experimental/pp/_highly_variable_genes.py:73: UserWarning: `flavor='pearson_residuals'` expects raw count data, but non-integers were found.\n",
      "  warnings.warn(\n"
     ]
    },
    {
     "name": "stdout",
     "output_type": "stream",
     "text": [
      "computing analytic Pearson residuals on adata.X\n"
     ]
    },
    {
     "name": "stderr",
     "output_type": "stream",
     "text": [
      "/gpfs01/berens/user/jlause/.local/lib/python3.8/site-packages/scanpy/experimental/pp/_normalization.py:43: UserWarning: `normalize_pearson_residuals()` expects raw count data, but non-integers were found.\n",
      "  warn(\n"
     ]
    },
    {
     "name": "stdout",
     "output_type": "stream",
     "text": [
      "    finished (0:00:02)\n",
      "computing PCA\n",
      "    on highly variable genes\n",
      "    with n_comps=1000\n",
      "    finished (0:01:56)\n",
      "--------------------------------------------------------------------------------\n",
      "TSNE(n_jobs=38, random_state=42, verbose=True)\n",
      "--------------------------------------------------------------------------------\n",
      "===> Finding 90 nearest neighbors using Annoy approximate search using euclidean distance...\n",
      "   --> Time elapsed: 19.63 seconds\n",
      "===> Calculating affinity matrix...\n",
      "   --> Time elapsed: 0.37 seconds\n",
      "===> Calculating PCA-based initialization...\n",
      "   --> Time elapsed: 0.68 seconds\n",
      "===> Running optimization with exaggeration=12.00, lr=1985.17 for 250 iterations...\n",
      "Iteration   50, KL divergence 5.4157, 50 iterations in 3.3952 sec\n",
      "Iteration  100, KL divergence 4.4559, 50 iterations in 3.3226 sec\n",
      "Iteration  150, KL divergence 4.2254, 50 iterations in 3.1868 sec\n",
      "Iteration  200, KL divergence 4.1156, 50 iterations in 1.2663 sec\n",
      "Iteration  250, KL divergence 4.0524, 50 iterations in 1.2570 sec\n",
      "   --> Time elapsed: 12.43 seconds\n",
      "===> Running optimization with exaggeration=1.00, lr=1985.17 for 500 iterations...\n",
      "Iteration   50, KL divergence 3.0076, 50 iterations in 1.2805 sec\n",
      "Iteration  100, KL divergence 2.5424, 50 iterations in 1.5271 sec\n",
      "Iteration  150, KL divergence 2.3078, 50 iterations in 1.6307 sec\n",
      "Iteration  200, KL divergence 2.1692, 50 iterations in 2.5215 sec\n",
      "Iteration  250, KL divergence 2.0796, 50 iterations in 3.3487 sec\n",
      "Iteration  300, KL divergence 2.0178, 50 iterations in 4.4553 sec\n",
      "Iteration  350, KL divergence 1.9743, 50 iterations in 5.2469 sec\n",
      "Iteration  400, KL divergence 1.9413, 50 iterations in 6.0174 sec\n",
      "Iteration  450, KL divergence 1.9173, 50 iterations in 7.2087 sec\n",
      "Iteration  500, KL divergence 1.8970, 50 iterations in 8.4333 sec\n",
      "   --> Time elapsed: 41.68 seconds\n",
      "filtered out 2593 genes that are detected in less than 5 cells\n",
      "extracting highly variable genes\n",
      "computing analytic Pearson residuals on adata.X\n",
      "    finished (0:00:02)\n",
      "computing PCA\n",
      "    on highly variable genes\n",
      "    with n_comps=1000\n",
      "    finished (0:02:13)\n",
      "--------------------------------------------------------------------------------\n",
      "TSNE(n_jobs=38, random_state=42, verbose=True)\n",
      "--------------------------------------------------------------------------------\n",
      "===> Finding 90 nearest neighbors using Annoy approximate search using euclidean distance...\n",
      "   --> Time elapsed: 7.11 seconds\n",
      "===> Calculating affinity matrix...\n",
      "   --> Time elapsed: 0.22 seconds\n",
      "===> Calculating PCA-based initialization...\n",
      "   --> Time elapsed: 0.48 seconds\n",
      "===> Running optimization with exaggeration=12.00, lr=1985.17 for 250 iterations...\n",
      "Iteration   50, KL divergence 5.8391, 50 iterations in 1.4792 sec\n",
      "Iteration  100, KL divergence 4.5435, 50 iterations in 1.4337 sec\n",
      "Iteration  150, KL divergence 4.2464, 50 iterations in 1.4476 sec\n",
      "Iteration  200, KL divergence 4.1110, 50 iterations in 1.4827 sec\n",
      "Iteration  250, KL divergence 4.0321, 50 iterations in 1.5239 sec\n",
      "   --> Time elapsed: 7.37 seconds\n",
      "===> Running optimization with exaggeration=1.00, lr=1985.17 for 500 iterations...\n",
      "Iteration   50, KL divergence 2.9904, 50 iterations in 1.4994 sec\n",
      "Iteration  100, KL divergence 2.5367, 50 iterations in 1.5127 sec\n",
      "Iteration  150, KL divergence 2.3076, 50 iterations in 1.7027 sec\n",
      "Iteration  200, KL divergence 2.1723, 50 iterations in 3.2029 sec\n",
      "Iteration  250, KL divergence 2.0847, 50 iterations in 3.9929 sec\n",
      "Iteration  300, KL divergence 2.0242, 50 iterations in 5.0589 sec\n",
      "Iteration  350, KL divergence 1.9823, 50 iterations in 6.0494 sec\n",
      "Iteration  400, KL divergence 1.9511, 50 iterations in 7.2497 sec\n",
      "Iteration  450, KL divergence 1.9275, 50 iterations in 8.2088 sec\n",
      "Iteration  500, KL divergence 1.9095, 50 iterations in 8.8633 sec\n",
      "   --> Time elapsed: 47.34 seconds\n",
      "CPU times: user 1h 16min 14s, sys: 1h 16min 10s, total: 2h 32min 25s\n",
      "Wall time: 7min 43s\n"
     ]
    }
   ],
   "source": [
    "%%time\n",
    "for adata in [adata_census,adata_qumis]:\n",
    "    umi_pipeline(adata,n_comps=n_comps,n_hvgs=n_hvgs)"
   ]
  },
  {
   "cell_type": "code",
   "execution_count": 7,
   "id": "5b73bbaf-cf03-40ad-b753-4621160c2063",
   "metadata": {},
   "outputs": [
    {
     "name": "stdout",
     "output_type": "stream",
     "text": [
      "filtered out 2593 genes that are detected in less than 5 cells\n",
      "pr_theta100_alpha50.0\n"
     ]
    },
    {
     "name": "stderr",
     "output_type": "stream",
     "text": [
      "tcmalloc: large alloc 4811669504 bytes == 0x7ebf28000 @ \n",
      "tcmalloc: large alloc 4811669504 bytes == 0x99569c000 @ \n",
      "tcmalloc: large alloc 4811669504 bytes == 0xab4360000 @ \n",
      "tcmalloc: large alloc 4811669504 bytes == 0x99569c000 @ \n",
      "tcmalloc: large alloc 4811669504 bytes == 0xbd3824000 @ \n",
      "tcmalloc: large alloc 4811669504 bytes == 0xcf24e8000 @ \n"
     ]
    },
    {
     "name": "stdout",
     "output_type": "stream",
     "text": [
      "pr_theta100_alpha50.0_afterHVG\n",
      "--------------------------------------------------------------------------------\n",
      "TSNE(n_jobs=38, random_state=42, verbose=True)\n",
      "--------------------------------------------------------------------------------\n",
      "===> Finding 90 nearest neighbors using Annoy approximate search using euclidean distance...\n",
      "   --> Time elapsed: 6.65 seconds\n",
      "===> Calculating affinity matrix...\n",
      "   --> Time elapsed: 0.22 seconds\n",
      "===> Calculating PCA-based initialization...\n",
      "   --> Time elapsed: 0.93 seconds\n",
      "===> Running optimization with exaggeration=12.00, lr=1985.17 for 250 iterations...\n",
      "Iteration   50, KL divergence 5.8027, 50 iterations in 1.7785 sec\n",
      "Iteration  100, KL divergence 4.5160, 50 iterations in 1.6048 sec\n",
      "Iteration  150, KL divergence 4.2299, 50 iterations in 1.4758 sec\n",
      "Iteration  200, KL divergence 4.0997, 50 iterations in 1.4825 sec\n",
      "Iteration  250, KL divergence 4.0235, 50 iterations in 1.5101 sec\n",
      "   --> Time elapsed: 7.85 seconds\n",
      "===> Running optimization with exaggeration=1.00, lr=1985.17 for 500 iterations...\n",
      "Iteration   50, KL divergence 2.9855, 50 iterations in 1.4687 sec\n",
      "Iteration  100, KL divergence 2.5024, 50 iterations in 1.4485 sec\n",
      "Iteration  150, KL divergence 2.2559, 50 iterations in 2.1952 sec\n",
      "Iteration  200, KL divergence 2.1088, 50 iterations in 3.1664 sec\n",
      "Iteration  250, KL divergence 2.0120, 50 iterations in 4.7697 sec\n",
      "Iteration  300, KL divergence 1.9467, 50 iterations in 6.0298 sec\n",
      "Iteration  350, KL divergence 1.8993, 50 iterations in 6.9023 sec\n",
      "Iteration  400, KL divergence 1.8654, 50 iterations in 8.1080 sec\n",
      "Iteration  450, KL divergence 1.8394, 50 iterations in 9.5167 sec\n",
      "Iteration  500, KL divergence 1.8183, 50 iterations in 10.3671 sec\n",
      "   --> Time elapsed: 53.98 seconds\n",
      "CPU times: user 23min 28s, sys: 6min 16s, total: 29min 44s\n",
      "Wall time: 2min 15s\n"
     ]
    },
    {
     "data": {
      "text/plain": [
       "AnnData object with n_obs × n_vars = 23822 × 3000\n",
       "    obs: 'clusters', 'class', 'non_neuronal_idx', 'n_genes_by_counts_allGenes', 'total_counts_allGenes', 'clustercolor', 'sample_id', 'subclass', 'clustername'\n",
       "    var: 'genes', 'gene_id', 'chromosome', 'gene_name', 'n_cells_by_counts_allCells', 'mean_counts_allCells', 'pct_dropout_by_counts_allCells', 'total_counts_allCells', 'n_cells_allCells', 'marker_idx', 'name', 'symbol', 'type_of_gene', 'ensembl.type_of_gene', 'coarse_types', 'gene_var_allCells', 'gene_mean_allCells', 'gene_FF_allCells', 'gene_fraction_zeros_allCells', 'transcript_len_max', 'n_transcripts', 'gene_entrez_id', 'ensembl_gene', 'n_cells', 'pr_theta100_alpha50.0_var', 'top3000_pr_theta100_alpha50.0', 'means', 'pr_theta100_alpha50.0_afterHVG_var'\n",
       "    uns: 'clustercolors', 'clusternames', 'markernames', 'cpr_alpha', 'cpr_theta'\n",
       "    obsm: 'pca1000', 'tsne'\n",
       "    layers: 'pr_theta100_alpha50.0', 'pr_theta100_alpha50.0_afterHVG'"
      ]
     },
     "execution_count": 7,
     "metadata": {},
     "output_type": "execute_result"
    }
   ],
   "source": [
    "%%time\n",
    "readcount_pipeline(adata_readcounts,alpha=50,theta=100, n_hvgs=n_hvgs,n_comps=n_comps)"
   ]
  },
  {
   "cell_type": "code",
   "execution_count": 8,
   "id": "e5c4d1f0-503d-4161-a262-124addd471d1",
   "metadata": {},
   "outputs": [],
   "source": [
    "#save\n",
    "adata_qumis.write_h5ad('data/tasic/qumi_census_comparion/adata_qumis_processed.h5ad')\n",
    "adata_census.write_h5ad('data/tasic/qumi_census_comparion/adata_census_processed.h5ad')\n",
    "adata_readcounts.write_h5ad('data/tasic/qumi_census_comparion/adata_readcounts_processed.h5ad')"
   ]
  },
  {
   "cell_type": "code",
   "execution_count": null,
   "id": "0dd87195-7d43-4df0-87b9-587951d43ba8",
   "metadata": {},
   "outputs": [],
   "source": []
  }
 ],
 "metadata": {
  "kernelspec": {
   "display_name": "Python 3 (ipykernel)",
   "language": "python",
   "name": "python3"
  },
  "language_info": {
   "codemirror_mode": {
    "name": "ipython",
    "version": 3
   },
   "file_extension": ".py",
   "mimetype": "text/x-python",
   "name": "python",
   "nbconvert_exporter": "python",
   "pygments_lexer": "ipython3",
   "version": "3.8.10"
  }
 },
 "nbformat": 4,
 "nbformat_minor": 5
}
